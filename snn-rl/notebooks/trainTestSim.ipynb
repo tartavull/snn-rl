{
 "cells": [
  {
   "cell_type": "code",
   "execution_count": null,
   "metadata": {
    "collapsed": true
   },
   "outputs": [],
   "source": [
    "#!/bin/bash\n",
    "# Script to train and test the simulation with running it from the command line\n",
    "\n",
    "# train\n",
    "RUN_TIME_VAR=55010\n",
    "POS_REINF_VAR=1.15519\n",
    "NEG_REINF_VAR=5.44256\n",
    "RANDOMIZATION_VAR=\"0.0713-0.9546\"\n",
    "SHOW_PLOT_VAR=False\n",
    "\n",
    "python gupta_paper_further_formulas.py evaluateClassifier=False runTime=$RUN_TIME_VAR posReinf=$POS_REINF_VAR negReinf=$NEG_REINF_VAR standardPrint=False verbosePrint=False randomization=$RANDOMIZATION_VAR showPlot=$SHOW_PLOT_VAR\n",
    "\n",
    "# test\n",
    "RUN_TIME_VAR=7900\n",
    "SHOW_PLOT_VAR=True\n",
    "\n",
    "python gupta_paper_further_formulas.py evaluateClassifier=True runTime=$RUN_TIME_VAR optResultsFile=\"optimizationResults.txt\" posReinf=$POS_REINF_VAR negReinf=$NEG_REINF_VAR standardPrint=False verbosePrint=False randomization=$RANDOMIZATION_VAR showPlot=$SHOW_PLOT_VAR\n",
    "\n"
   ]
  },
  {
   "cell_type": "code",
   "execution_count": null,
   "metadata": {
    "collapsed": true
   },
   "outputs": [],
   "source": []
  }
 ],
 "metadata": {
  "kernelspec": {
   "display_name": "Python 2",
   "language": "python",
   "name": "python2"
  },
  "language_info": {
   "codemirror_mode": {
    "name": "ipython",
    "version": 2
   },
   "file_extension": ".py",
   "mimetype": "text/x-python",
   "name": "python",
   "nbconvert_exporter": "python",
   "pygments_lexer": "ipython2",
   "version": "2.7.9"
  }
 },
 "nbformat": 4,
 "nbformat_minor": 0
}
