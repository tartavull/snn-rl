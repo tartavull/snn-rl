{
 "metadata": {
  "name": "",
  "signature": "sha256:301ef7c35e33ffd92e274dc07b08afa876ec61c2109333bb0e11839d510eb5d2"
 },
 "nbformat": 3,
 "nbformat_minor": 0,
 "worksheets": [
  {
   "cells": [
    {
     "cell_type": "code",
     "collapsed": false,
     "input": [
      "from dictionary import *\n",
      "from report_results_and_logging import *\n",
      "import numpy as np\n",
      "from sympy import * # used for differentiation\n",
      "import math # used for natural log\n",
      "#from random import random # for random gen\n",
      "from decimal import Decimal # Used for results reporting calculations\n",
      "from brian2 import *\n",
      "\n",
      "epochs = 100 \n",
      "spikeMiliseconds = 100\n",
      "spikeInterval = spikeMiliseconds * ms\n",
      "spikeIntervalUnformatted = spikeMiliseconds * .001\n",
      "dictionaryLongitude = 4\n",
      "spikesPerChar=3\n",
      "totalTime = epochs * spikesPerChar * dictionaryLongitude * spikeInterval \n",
      "epochsToPrint = [0,1,2,25,50,75]\n",
      "presentResults = False\n",
      "logger = False\n",
      "displayAllNeuronMemPotentials = False\n",
      "\n",
      "taum = 20 * ms\n",
      "taue = 1 * ms\n",
      "taui = 10 * ms\n",
      "Vt = 5 * mV\n",
      "Vr = -0.001 * mV\n",
      "\n",
      "Rm = 80\n",
      "## added tauS constant below ##\n",
      "tauS = 2\n",
      "tauMax = 30\n",
      "tauMin = 2\n",
      "#tauM = 30 * ms # appears different than taum above due to the article specifying this as 30\n",
      "tauM = .03 # removed ms for compatibility\n",
      "\n",
      "SimulationDuration = 10000\n",
      "epochMsDuration = (SimulationDuration / epochs) * 10 # Times 10 is to adjust to Ms scale\n",
      "\n",
      "numberOfPixels = 15\n",
      "#neuronFiringThreshold = 10 * mV\n",
      "neuronFiringThreshold = 10 # removed mV for compatibility\n",
      "W = np.random.uniform(0.5,1.0,[4,15]) # Initial weights\n",
      "# none to 1 below\n",
      "numberOfNeurons = 4\n",
      "R = [[1] * numberOfPixels]*dictionaryLongitude # Initial Resistance Values\n",
      "testR = [[1] * numberOfPixels]*dictionaryLongitude # Initial Resistance Values\n",
      "## Added 1 init below but I don't really know what the right init value is\n",
      "#Id = [[-.001] * numberOfPixels]*dictionaryLongitude # Initial Dendritic Post Synaptic Current\n",
      "Id = [[0] * numberOfPixels]*dictionaryLongitude # Initial Dendritic Post Synaptic Current\n",
      "testId = [[-.001] * numberOfPixels]*dictionaryLongitude # Initial Dendritic Post Synaptic Current\n",
      "## Added 1 init below but I don't really know what the right init value is\n",
      "tauD = [[1] * numberOfPixels]*dictionaryLongitude # Initial tauD\n",
      "testTauD = [[1] * numberOfPixels]*dictionaryLongitude # Initial tauD\n",
      "tF = [[None] * numberOfPixels]*dictionaryLongitude # Initial pre-synaptic spike times\n",
      "\n",
      "Is = [-.001] * dictionaryLongitude\n",
      "Um = [-.001] * dictionaryLongitude\n",
      "testUm = [-.001] * dictionaryLongitude\n",
      "\n",
      "Ureset = -.001\n",
      "#Ureset = 0\n",
      "\n",
      "APlus = 0.1\n",
      "AMinus = -0.105\n",
      "TauPlus = 1\n",
      "TauMinus = 1\n",
      "LearningRate = 0.1\n",
      "ActionPotentialThreshold = .01"
     ],
     "language": "python",
     "metadata": {},
     "outputs": [
      {
       "output_type": "stream",
       "stream": "stderr",
       "text": [
        "C:\\Python27\\lib\\site-packages\\brian\\utils\\sparse_patch\\__init__.py:39: UserWarning: Couldn't find matching sparse matrix patch for scipy version 0.14.0, but in most cases this shouldn't be a problem.\n",
        "  warnings.warn(\"Couldn't find matching sparse matrix patch for scipy version %s, but in most cases this shouldn't be a problem.\" % scipy.__version__)\n"
       ]
      }
     ],
     "prompt_number": 1
    },
    {
     "cell_type": "code",
     "collapsed": false,
     "input": [
      "import io\n",
      "from IPython.nbformat import current\n",
      "\n",
      "def execute_notebook(nbfile):\n",
      "    \n",
      "    with io.open(nbfile) as f:\n",
      "        nb = current.read(f, 'json')\n",
      "    \n",
      "    ip = get_ipython()\n",
      "    \n",
      "    for cell in nb.worksheets[0].cells:\n",
      "        if cell.cell_type != 'code':\n",
      "            continue\n",
      "        ip.run_cell(cell.input)\n",
      "        \n",
      "execute_notebook(\"commonFurtherFormulas.ipynb\")"
     ],
     "language": "python",
     "metadata": {},
     "outputs": [
      {
       "output_type": "stream",
       "stream": "stdout",
       "text": [
        "Mon Feb 09 04:12:00 2015\n"
       ]
      }
     ],
     "prompt_number": 2
    },
    {
     "cell_type": "code",
     "collapsed": false,
     "input": [
      "from architecture_further_formulas import *\n",
      "\n",
      "class gupta_paper:\n",
      "\tneuralnet = Network()\n",
      "\tdictionary = dictionary()\n",
      "\tspiketimes = dictionary.spikeTimes(dictionaryLongitude, spikeInterval, spikesPerChar, epochs)\n",
      "\ttrainingSpikeTimes = dictionary.spikeTimes(dictionaryLongitude, spikeInterval, 1, 300)\n",
      "\tLIK = SpikeGeneratorGroup(N=15, indices=spiketimes[:,0], times=spiketimes[:,1]*ms)\n",
      "\tabsRefracTime = [0]*dictionaryLongitude\t\n",
      "\trelRefracTime = [0]*dictionaryLongitude\n",
      "\ttimeStepInterval = 0.001\t\n",
      "\ttime = 0.0000 - timeStepInterval\n",
      "\tneuronIndex = 0\n",
      "\tlastSpikeInterval = -0.001#0.0\n",
      "\tSummedDendriteGroup = 0;\n",
      "\tSynapseToSoma = 0;\n",
      "\tSigmaWDSyn = .0375 * mV\n",
      "\tSigmaWDSynMod = .5\n",
      "\tRmEq = Rm #Rm * mV\n",
      "\tDendR = .0375 * mV\n",
      "\tDendW = 1\n",
      "\tDendDirac = 1\t\n",
      "\t# tauD and R lines below are to avoid an odd 'reference before assignment' error\n",
      "\ttauD = tauD\n",
      "\ttestTauD = testTauD\n",
      "\tW = W\n",
      "\tR = R\n",
      "\ttestR = testR\n",
      "\ttauM = tauM\n",
      "\tcurrentEpoch = 0\n",
      "\trefractoryPointCounter = 0.0\n",
      "\ttestRefractoryPointCounter = 0.0\n",
      "\trefractoryPointSwitch = False\n",
      "\ttestRefractoryPointSwitch = False\n",
      "\tneuronIndexCounter = 0.0\n",
      "\tneuronIndexSwitch = False\n",
      "\ttruePositiveSpikeResults = 0\n",
      "\tfalsePositiveSpikeResults = 0\n",
      "\ttrueNegativeSpikeResults = 0\n",
      "\tfalseNegativeSpikeResults = 0\n",
      "\ttotalSpikeIntervals = 12\t\n",
      "\ttestSpikesFiredInInterval = np.array([[False]*(totalSpikeIntervals+1)]*dictionaryLongitude)\n",
      "\tIdSpikeFired = np.array([[False]*numberOfPixels]*dictionaryLongitude); \n",
      "\ttestIdSpikeFired = np.array([[False]*numberOfPixels]*dictionaryLongitude); \n",
      "\tIsSpikeFired = np.array([False]*dictionaryLongitude); \n",
      "\ttestIsSpikeFired = np.array([False]*dictionaryLongitude);\t\n",
      "\tIdRefractoryPeriod = np.array([[False]*numberOfPixels]*dictionaryLongitude); \n",
      "\ttestIdRefractoryPeriod = np.array([[False]*numberOfPixels]*dictionaryLongitude); \n",
      "\tIsRefractoryPeriod = np.array([False]*dictionaryLongitude); \n",
      "\ttestIsRefractoryPeriod = np.array([False]*dictionaryLongitude); \n",
      "\tUmRefractoryPeriod = np.array([False]*dictionaryLongitude); \n",
      "\ttestUmRefractoryPeriod = np.array([False]*dictionaryLongitude); \n",
      "\trefractoryGraphingSwitch = False\n",
      "\n",
      "\tcorrectSpikes = np.array([[1]*(totalSpikeIntervals+1)]*dictionaryLongitude);#[[1] * totalSpikeIntervals]*dictionaryLongitude\n",
      "\tcorrectOrderOfNeurons = [2,0,1,3]\n",
      "\tcorrectSpikes[correctOrderOfNeurons[0]][0] = 0\n",
      "\tcorrectSpikes[correctOrderOfNeurons[0]][4:13] = 0\n",
      "\tcorrectSpikes[correctOrderOfNeurons[1]][0:4] = 0\n",
      "\tcorrectSpikes[correctOrderOfNeurons[1]][7:13] = 0\n",
      "\tcorrectSpikes[correctOrderOfNeurons[2]][0:7] = 0\n",
      "\tcorrectSpikes[correctOrderOfNeurons[2]][10:13] = 0\n",
      "\tcorrectSpikes[correctOrderOfNeurons[3]][0:10] = 0\n",
      "    \n",
      "\tM = None\n",
      "\ttestM = None\n",
      "\tUmM3 = None\n",
      "\ttestUmM3 = None\n",
      "\tspikeIntervalCounter = 0.0\n",
      "\trelRefracTimeActivated = [False]*dictionaryLongitude\t\n",
      "\tabsRefracTimeActivated = [False]*dictionaryLongitude\n",
      "\t# Parameters for tuning\n",
      "\trelRefracTimeDuration = 0.03#.1#.01\t\t\n",
      "\tabsRefracTimeDuration = 0.02#.02#.002\t\n",
      "\t#dendCalcScaling = 0.16#.32#1.0\n",
      "\tdendCalcScaling = 1.0\n",
      "\t#somaDirectScaling = .0005#.0005#.001#.0005#.001#0.002285#0.002857\n",
      "\tsomaDirectScaling = 1.0\n",
      "\tdiracScaling = 1.0#1.25#0.9#1.0#0.1#0.5#1.0#0.1#1.0#0.0007#0.0007#0.0825#0.0325#0.0825\n",
      "\tweightScaling = 1.0#1.25\n",
      "\t#diracScaling = 1.0\n",
      "\t#uMScaling = 1.0#.32\n",
      "\tlateralInhibitScaling = 0.2#0.28#0.4#0.28\n",
      "\tlateralInhibitScaling2 = 0.7#0.8#1.0#1.5#1.7#2.0#1.8#1.3#0.6#1.6#1.1#1.6#1.3#0.7#2.5#0.5#0.8#1.5\n",
      "\tgeneralClockDt = 1.0*ms#0.1*ms\n",
      "\tvoltageForInhibition = 0.0*mV\n",
      "\tinhibitionReduction = 1.0\n",
      "\tpositiveWeightReinforcement = 1.0#2.0#2.0#7.0#1.0#7.0#20.0#5.0#10.0#1.0#2.0\n",
      "\tnegativeWeightReinforcement = 2.0#5.0#3.5#7.5#30.0#30#2.0#30#7.5#15.0#30.0#8.0#6.0#1.0#50.0#10.0#50.0#10.0#3.0#0.5\n",
      "\tLearningRate = 0.2#0.1#1.0#0.7\n",
      "\tevaluateClassifier = True\n",
      "\taccelerateTraining = False\n",
      "\trunTime = 155*ms#1000*ms#300*ms#400*ms#155*ms#42*ms#135*ms#72*ms#135*ms#42*ms#100*ms#500*ms#5000*ms#100*ms#22*ms#15*ms#135*ms#15*ms#130*ms\n",
      "\n",
      "\tprint 'initial Weights\\n',W\n",
      "\n",
      "\tdef run_model(self):\n",
      "\t\tneuralnet = self.neuralnet\n",
      "\t\tdictionary = self.dictionary\n",
      "\t\t#dv/dt = (-v+((Rm/mV)*(SynI+DendI)))/(tauM) : volt (unless refractory)\n",
      "\t\teqs = Equations('''\n",
      "\t\t\tdv/dt = v/(1*second): volt\n",
      "\t\t\tdprelimV/dt = (-prelimV+((Rm/mV)*(SynI+DendI*1.0)))/(tauM) : volt (unless refractory)\n",
      "\t\t\tRm = 80*mV : volt\n",
      "\t\t\ttauM = 30*ms : second\n",
      "\t        V : volt\n",
      "\t        DendI : volt\n",
      "\t        SynI : volt\n",
      "\t        v2 : volt\t\n",
      "\t\t\tUmSpikeFired : volt\t\n",
      "\t\t\tlateralInhibActive : boolean\n",
      "\t\t\tbeginRefrac : volt\n",
      "\t\t\tuMScaling : volt\n",
      "\t\t\tpreLatInhibV : volt\n",
      "\t\t\tinhibitionVoltage : volt\n",
      "\t\t    ''')\t\t\t\n",
      "\n",
      "\t\t# Units are removed in dv equ below and it is converted to mV.  .001 is conversion factor\n",
      "\t\tdendriteEqs = Equations('''\n",
      "\t\t\tdv/dt = (((-v/mV)+((r/mV)*(w/volt)*(dirac/volt)))/(tau))*mV : volt\n",
      "\t\t\tV : volt\n",
      "\t        r : volt\n",
      "\t        w : volt\n",
      "\t        dirac : volt\n",
      "\t        tau : second\n",
      "\t        v2: volt\n",
      "\t        vTest : volt\n",
      "\t        vTest2 : volt\n",
      "\t        vTest3 : volt\n",
      "\t\t\t''')\n",
      "\n",
      "\t\tdirectToSomaEqs = Equations('''\n",
      "\t\t\tdv/dt = (((-v/mV)+(summedWandDirac/volt))/(tauS))*mV : volt\n",
      "\t\t\ttauS = 2*ms : second\n",
      "\t\t\tV : volt\n",
      "\t\t\tsummedWandDirac : volt\n",
      "\t\t\tv2 : volt\n",
      "\t\t\tspikeFired : boolean\n",
      "\t\t\t''')\t\t\n",
      "\n",
      "\t\tclass ADDSNeuronModel(NeuronGroup, gupta_paper): \n",
      "\t\t\tneuronIndex = self.neuronIndex\n",
      "\t\t\trefractoryPointCounter = self.refractoryPointCounter\n",
      "\t\t\tcalcDirac2 = None\n",
      "\t\t\tgeneralClockDt = self.generalClockDt\n",
      "\t\t\tdef __init__(self, params):\n",
      "\t\t\t\tNeuronGroup.__init__(self, N=4, model=eqs,threshold='v>10*mV', reset='v=-0.002 * mV; dv=0; v2=10*mV;UmSpikeFired=1*mV;beginRefrac=1*mV;inhibitionVoltage=prelimV',refractory=8*ms,clock=Clock(dt=self.generalClockDt))\n",
      "\t\t\t\t@network_operation(dt=self.generalClockDt)\n",
      "\t\t\t\tdef additionToNetwork(): \n",
      "\t\t\t\t\tneuronIndex = self.neuronIndex\n",
      "\t\t\t\t\tspikeIntervalCounter = (floor(self.time/spikeIntervalUnformatted) * spikeIntervalUnformatted)*10\n",
      "\t\t\t\t\tdef timePeriodAndRefractoryCalcs():\n",
      "\t\t\t\t\t\tself.time = self.time + self.timeStepInterval\n",
      "\t\t\t\t\t\tself.refractoryPointCounter = self.refractoryPointCounter + self.timeStepInterval\t\n",
      "\t\t\t\t\t\ttT = (Decimal(format(self.time, '.1f')))\n",
      "\t\t\t\t\t\tsIU = (Decimal(format(spikeIntervalUnformatted, '.1f')))\n",
      "\t\t\t\t\t\tself.spikeIntervalCounter = int(tT/sIU)\n",
      "\n",
      "\t\t\t\t\t\t# if statement below corrects for offset of spiketimes starting at .1 sec.\n",
      "\t\t\t\t\t\tif self.time >= .1:\n",
      "\t\t\t\t\t\t\tself.neuronIndexCounter = self.neuronIndexCounter + self.timeStepInterval\n",
      "\n",
      "\t\t\t\t\t\tself.refractoryPointSwitch = False\n",
      "\t\t\t\t\t\tif self.refractoryPointCounter >= spikeIntervalUnformatted:\n",
      "\t\t\t\t\t\t\tself.refractoryPointCounter = 0.000\n",
      "\t\t\t\t\t\t\tself.refractoryPointSwitch = True\n",
      "\t\t\t\t\t\t\tself.lastSpikeInterval = self.time-self.timeStepInterval\n",
      "\n",
      "\t\t\t\t\t\t#print '__+++===','time',self.testTime,'refractoryPointCounter',self.testRefractoryPointCounter\n",
      "\n",
      "\t\t\t\t\tdef WeightChangeCalculation(neuronIndex, spiketimes):\n",
      "\t\t\t\t\t\tfor inputNeuronIndex in range(numberOfPixels):\n",
      "\t\t\t\t\t\t\t## General STDP learning rule implementation ##\n",
      "\t\t\t\t\t\t\t# Find SpikePreSyn if it exists\n",
      "\t\t\t\t\t\t\t# Note: could replace this with use of dictionary data structure for lookups if convenient\n",
      "\t\t\t\t\t\t\t# for processing time later\n",
      "\n",
      "\t\t\t\t\t\t\t# SpikePreSyn not found than make it max distance from SpikePostSyn\n",
      "\t\t\t\t\t\t\t# TODO SpikePreSyn = 0.1 # (Max spike time interval distance)\n",
      "\t\t\t\t\t\t\t# round up to nearest 100ms interval\n",
      "\t\t\t\t\t\t\tSpikePreSyn = self.time*second#(math.ceil(self.time*10)*.1)*second\n",
      "\t\t\t\t\t\t\t# SpikePostSyn not found than make it max distance from SpikePreSyn\n",
      "\t\t\t\t\t\t\t# TODO SpikePostSyn = 0.0\n",
      "\t\t\t\t\t\t\t#SpikePostSyn = 0*ms\n",
      "\n",
      "\t\t\t\t\t\t\t# .003 used below as estimation of value to use when no post syn spike is found and weights should\n",
      "\t\t\t\t\t\t\t# decrease.  Based on the formulas the weights would not decrease, as they are intended to, unless\n",
      "\t\t\t\t\t\t\t# a close post syn spike is used in a prior to the pre syn spike position\n",
      "\t\t\t\t\t\t\tSpikePostSyn = SpikePreSyn-(.001*second)#(math.floor(self.time*10)*.1)*second\n",
      "\n",
      "\t\t\t\t\t\t\tpreSynSpikeFound = False\n",
      "\t\t\t\t\t\t\tpostSynSpikeFound = False\n",
      "\n",
      "\t\t\t\t\t\t\tspikeCollection = spiketimes\n",
      "\t\t\t\t\t\t\tNumberOfSpikes = shape(spikeCollection)[0]\n",
      "\t\t\t\t\t\t\tfor i in range(NumberOfSpikes):\n",
      "\t\t\t\t\t\t\t\tCurrentSpikeNueron = spikeCollection[i][0]\n",
      "\t\t\t\t\t\t\t\tCurrentSpikeTime = spikeCollection[i][1]*second\n",
      "\n",
      "\t\t\t\t\t\t\t\t# exit loop once values below current time elapsed have all been checked\n",
      "\t\t\t\t\t\t\t\tif CurrentSpikeTime > (self.time*second):\n",
      "\t\t\t\t\t\t\t\t\t#print 'eeww1:\\tspiketimes\\t',spiketimes,'\\tqq\\t',CurrentSpikeTime\n",
      "\t\t\t\t\t\t\t\t\tbreak\n",
      "\n",
      "\t\t\t\t\t\t\t\t# (self.time*second-.1*second) is to check if in relevant time window below.\n",
      "\t\t\t\t\t\t\t\t# Note: that may not be a good cut off and I should check it\n",
      "\t\t\t\t\t\t\t\t# added < self.time just for testing\n",
      "\t\t\t\t\t\t\t\tif CurrentSpikeNueron == inputNeuronIndex and CurrentSpikeTime > (self.time*second-.1*second):# and CurrentSpikeTime < (self.time*second):\n",
      "\t\t\t\t\t\t\t\t\tSpikePreSyn = CurrentSpikeTime\n",
      "\t\t\t\t\t\t\t\t\tpreSynSpikeFound = True\n",
      "\n",
      "\t\t\t\t\t\t\t\t#print 'compare~~\\t',CurrentSpikeNueron,inputNeuronIndex,CurrentSpikeTime,(self.time*second-.1*second),preSynSpikeFound\n",
      "\n",
      "\t\t\t\t\t\t\t# Find SpikePostSyn if exists\n",
      "\t\t\t\t\t\t\t#spikeCollection = M.spikes\n",
      "\t\t\t\t\t\t\tspikeCollection = M.it\n",
      "\t\t\t\t\t\t\t#print 'spikeCollection',spikeCollection\n",
      "\t\t\t\t\t\t\t#print 'spikeCollection', spikeCollection\n",
      "\t\t\t\t\t\t\tNumberOfSpikes = len(spikeCollection[0])\n",
      "\t\t\t\t\t\t\tfor i in range(NumberOfSpikes):\n",
      "\t\t\t\t\t\t\t\t#CurrentSpikeNueron = spikeCollection[i][0]\n",
      "\t\t\t\t\t\t\t\t#CurrentSpikeTime = spikeCollection[i][1]*1000\n",
      "\t\t\t\t\t\t\t\tCurrentSpikeNueron = spikeCollection[0][i]\n",
      "\t\t\t\t\t\t\t\t#CurrentSpikeTime = spikeCollection[1][i]*1000\n",
      "\t\t\t\t\t\t\t\tCurrentSpikeTime = spikeCollection[1][i]#*10\n",
      "\t\t\t\t\t\t\t\t\n",
      "\t\t\t\t\t\t\t\t#print 'CurrentSpikeNueron',CurrentSpikeNueron,'neuronIndex',neuronIndex,'CurrentSpikeTime',CurrentSpikeTime,'self.time*second',self.time*second\n",
      "\n",
      "\t\t\t\t\t\t\t\t# exit loop once values below current time elapsed have all been checked\n",
      "\t\t\t\t\t\t\t\t# Disabled due to spikeCollection not being sorted and causing break too early\n",
      "\t\t\t\t\t\t\t\t#if CurrentSpikeTime > (self.time*second):\n",
      "\t\t\t\t\t\t\t\t#\tbreak\n",
      "\n",
      "\t\t\t\t\t\t\t\t# (self.time*second-.1*second) is to check if in relevant time window below.\n",
      "\t\t\t\t\t\t\t\t# Note: that may not be a good cut off and I should check it\n",
      "\t\t\t\t\t\t\t\t# * Important difference: CurrentSpikeNueron is compared to self.neuronIndex and not inputNeuronIndex here\n",
      "\t\t\t\t\t\t\t\t# added (.1+.008)\n",
      "\t\t\t\t\t\t\t\tif CurrentSpikeNueron == neuronIndex and CurrentSpikeTime >= (self.time*second-(.1+.008)*second) and CurrentSpikeTime <= (self.time*second):\n",
      "\t\t\t\t\t\t\t\t\tSpikePostSyn = CurrentSpikeTime\t\n",
      "\t\t\t\t\t\t\t\t\tpostSynSpikeFound = True\t\n",
      "\n",
      "\t\t\t\t\t\t\tif preSynSpikeFound == False or postSynSpikeFound == False:\n",
      "\t\t\t\t\t\t\t\tSpikePostSyn = SpikePreSyn-(.001*second)\n",
      "\t\t\t\t\t\t\t\t'''# Todo: watch more for spikes in a relevant time frame but are actually from different synapses and would\n",
      "\t\t\t\t\t\t\t\t# give different results?  could cause unwanted results? brain would know synapse difference?\n",
      "\n",
      "\t\t\t\t\t\t\t\t## todo: currently included is logic for processing if SpikePostSyn or SpikePreSyn were not found?\n",
      "\n",
      "\t\t\t\t\t\t\t\tif preSynSpikeFound == False and postSynSpikeFound == True:\n",
      "\t\t\t\t\t\t\t\t\tSpikePreSyn = SpikePostSyn + .1*second\n",
      "\t\t\t\t\t\t\t\t\t#print 'F T'\n",
      "\t\t\t\t\t\t\t\telif preSynSpikeFound == True and postSynSpikeFound == False:\n",
      "\t\t\t\t\t\t\t\t\t# Note: does postSynSpikeFound need to be true for the weight to be allowed to increase?\n",
      "\t\t\t\t\t\t\t\t\tSpikePostSyn = SpikePreSyn - .1*second\n",
      "\t\t\t\t\t\t\t\t\t#print 'T F'\n",
      "\t\t\t\t\t\t\t\t#else:\n",
      "\t\t\t\t\t\t\t\t\t#print 'F F'''\n",
      "\n",
      "\t\t\t\t\t\t\t#SpikePreSyn = 500*ms\n",
      "\t\t\t\t\t\t\t#SpikePostSyn = 700*ms\n",
      "\t\t\t\t\t\t\t\n",
      "\t\t\t\t\t\t\t#print 'neuronIndex', neuronIndex, 'inputNeuronIndex',inputNeuronIndex,'self.time', self.time, 'ADDS.v2',ADDS.v2, 'preSynSpikeFound',preSynSpikeFound,'postSynSpikeFound',postSynSpikeFound,'SpikePostSyn', SpikePostSyn, 'SpikePreSyn', SpikePreSyn\n",
      "\n",
      "\t\t\t\t\t\t\t# Find DeltaW\n",
      "\t\t\t\t\t\t\tDeltaW, DeltaSpikeTime = returnDeltaW(SpikePreSyn, SpikePostSyn)  \n",
      "\n",
      "\t\t\t\t\t\t\t# Find new weight\n",
      "\t\t\t\t\t\t\t#WOld = W[neuronIndex][inputNeuronIndex];\n",
      "\t\t\t\t\t\t\tWOld = dend[neuronIndex].w[inputNeuronIndex]\n",
      "\n",
      "\t\t\t\t\t\t\t# if statement below skips W change until initial spikes can be formed\n",
      "\t\t\t\t\t\t\tif self.time>.1: \n",
      "\t\t\t\t\t\t\t\tNewW = returnNewW(WOld, DeltaW, DeltaSpikeTime)\n",
      "\t\t\t\t\t\t\t\tif NewW < 0: NewW = 0\n",
      "\t\t\t\t\t\t\t\telif NewW > 1: NewW = 1\n",
      "\t\t\t\t\t\t\t\t#W[neuronIndex][inputNeuronIndex] = NewW\n",
      "\t\t\t\t\t\t\t\tdend[neuronIndex].w[inputNeuronIndex] = NewW*volt\n",
      "\t\t\t\t\t\t\t\t#print 'time',self.time,'NewW > 0',NewW,(NewW > 0),dend[neuronIndex].w[inputNeuronIndex]\n",
      "\t\t\t\t\t\t\t\t#print 'changes::','neuronIndex',neuronIndex,'inputNeuronIndex',inputNeuronIndex,'WOld',WOld,'dend[neuronIndex].w[inputNeuronIndex]',dend[neuronIndex].w[inputNeuronIndex],'DeltaW',DeltaW,'DeltaSpikeTime',DeltaSpikeTime\n",
      "\n",
      "\t\t\t\t\t\t\t\t#dend[neuronIndex].w[inputNeuronIndex] = W[neuronIndex][inputNeuronIndex]*volt\n",
      "\t\t\t\t\t\t\telse: \n",
      "\t\t\t\t\t\t\t\tdend[neuronIndex].w[inputNeuronIndex] = WOld*volt\n",
      "\t\t\t\t\t\t\t#print 'DeltaW',DeltaW,'WOld',WOld,'WNew',W[neuronIndex][inputNeuronIndex]\n",
      "\t\t\t\t\t\t\t# Reuse existing values below instead of recalculating\n",
      "\t\t\t\t\t\t\t#somaDirect[neuronIndex].w[inputNeuronIndex] = dend[neuronIndex].w[inputNeuronIndex]\n",
      "\n",
      "\t\t\t\t\tdef returnDeltaW(SpikePreSyn, SpikePostSyn):\n",
      "\t\t\t\t\t\tDeltaSpikeTime = SpikePreSyn - SpikePostSyn \n",
      "\t\t\t\t\t\tDeltaSpikeTime = DeltaSpikeTime/second # remove second units\n",
      "\t\t\t\t\t\t# In thesis article it explains if DeltaT = 0 then DeltaW = 0\n",
      "\t\t\t\t\t\tDeltaW = 0\n",
      "\t\t\t\t\t\t# changed below line from that content in the article for a workaround/temp fix\n",
      "\t\t\t\t\t\t#if DeltaSpikeTime < 0:\n",
      "\t\t\t\t\t\tif DeltaSpikeTime < 0:\n",
      "\t\t\t\t\t\t\tDeltaW = APlus * (e ** (DeltaSpikeTime / (TauPlus)))\n",
      "\t\t\t\t\t\t\t# for testing\n",
      "\t\t\t\t\t\t\t#DeltaW = 1\n",
      "\t\t\t\t\t\telif DeltaSpikeTime > 0:\n",
      "\t\t\t\t\t\t\tDeltaW = AMinus * (e ** (-DeltaSpikeTime / (TauMinus)))\n",
      "\t\t\t\t\t\t\t# for testing\n",
      "\t\t\t\t\t\t\t#DeltaW = -1\n",
      "\n",
      "\t\t\t\t\t\treturn DeltaW, DeltaSpikeTime\n",
      "\n",
      "\t\t\t\t\tdef returnNewW(WOld, DeltaW, DeltaSpikeTime):\n",
      "\t\t\t\t\t\tWOld = WOld/volt # remove volt unit\n",
      "\t\t\t\t\t\tWMin = 0;WMax = 1;\n",
      "\t\t\t\t\t\t# Check for inhibition occurence.  DeltaSpikeTime > 0 is used to represent inhibition synapse presence\n",
      "\t\t\t\t\t\tif DeltaSpikeTime > 0:\n",
      "\t\t\t\t\t\t\tWMin = -1;WMax = 0;\t\n",
      "\t\t\t\t\t\t#print 'DeltaW', DeltaW\n",
      "\t\t\t\t\t\t## Relaxation rule implementation ##\n",
      "\t\t\t\t\t\tif DeltaW < 0:\t\n",
      "\t\t\t\t\t\t\tWNew = WOld + ((LearningRate * (DeltaW * (WOld - WMin)))*self.negativeWeightReinforcement)\n",
      "\t\t\t\t\t\t\t\n",
      "\t\t\t\t\t\telif DeltaW >= 0:\t\t\t\t\n",
      "\t\t\t\t\t\t\tWNew = WOld + ((LearningRate * (DeltaW * (WMax - WOld)))*self.positiveWeightReinforcement)\n",
      "\n",
      "\t\t\t\t\t\treturn WNew;\n",
      "\t\t\t\t\t\t##\t\n",
      "\n",
      "\t\t\t\t\tdef tauDCalc(neuronIndex, dendObject, W):\n",
      "\t\t\t\t\t\t# Weight loop\n",
      "\t\t\t\t\t\tfor WIndex in range(len(W[0][:])):\n",
      "\t\t\t\t\t\t\tif abs(W[neuronIndex][WIndex]) <= 1:\n",
      "\t\t\t\t\t\t\t\tdendObject[neuronIndex].tau[WIndex] = (tauMax - abs(W[neuronIndex][WIndex])*(tauMax-tauMin)) * ms# .001 is scaling factor found in dirac method\n",
      "\n",
      "\t\t\t\t\t\t#return dendObject[neuronIndex].tau\n",
      "\n",
      "\t\t\t\t\tdef resistanceCalc(neuronIndex, dendObject, R):\n",
      "\t\t\t\t\t\ttauM = self.tauM\n",
      "\t\t\t\t\t\t#Resistance loop\n",
      "\t\t\t\t\t\tfor RIndex in range(len(R[0][:])):\t\t\t\t\n",
      "\t\t\t\t\t\t\tif (dendObject[neuronIndex].tau[RIndex]*.001 == tauM*second):\n",
      "\t\t\t\t\t\t\t\t# avoid a division by 0 issue\n",
      "\t\t\t\t\t\t\t\ttauM = tauM - .000001\n",
      "\n",
      "\t\t\t\t\t\t\tdendObject[neuronIndex].r[RIndex] = (((((dendObject[neuronIndex].tau[RIndex]*.001)/ms)*neuronFiringThreshold) / Rm) * ((tauM / ((dendObject[neuronIndex].tau[RIndex]/ms)*.001) ) ** (tauM / (tauM - ((dendObject[neuronIndex].tau[RIndex]/ms)*.001) ))))*volt\n",
      "\n",
      "\t\t\t\t\t\t#return dendObject[neuronIndex].r\t\n",
      "\n",
      "\t\t\t\t\tdef dendCalcs(neuronIndex, ADDSObj, dendObj, spiketimes, evaluationActive):\n",
      "\t\t\t\t\t\t# Below sequentially Dirac, Tau, then Resistance are calculated every end of a spike-time interval.\n",
      "\t\t\t\t\t\t# The resulting Dend I is added to the Um calc for the ADDS soma.\n",
      "\n",
      "\t\t\t\t\t\t# Dirac\n",
      "\t\t\t\t\t\tdendObj[neuronIndex].dirac = diracCalc(dendObj, neuronIndex, spiketimes)\n",
      "\n",
      "\t\t\t\t\t\t# Initialize weights\n",
      "\t\t\t\t\t\tif self.time == 0.000:\n",
      "\t\t\t\t\t\t\tdend[neuronIndex].w = W[neuronIndex]*volt\n",
      "\t\t\t\t\t\t\t#for inputNeuronIndex in range(numberOfPixels):\n",
      "\t\t\t\t\t\t\t#\tdend[neuronIndex].w[inputNeuronIndex] = W[neuronIndex][inputNeuronIndex]*volt\n",
      "\t\t\t\t\t\t\t#print 'W::',W\n",
      "\n",
      "\t\t\t\t\t\tif (evaluationActive==False and self.refractoryPointSwitch==True):\n",
      "\t\t\t\t\t\t\t# Only change weights of neuron fired\n",
      "\t\t\t\t\t\t\tif ADDSObj.UmSpikeFired[neuronIndex] == 1*mV:\n",
      "\t\t\t\t\t\t\t\t# Weights\n",
      "\t\t\t\t\t\t\t\tWeightChangeCalculation(neuronIndex, spiketimes)\t\n",
      "\t\t\t\t\t\t\t\t#print 'w',' time',self.time,'\\t',dendObj[0].w,'\\t',dendObj[1].w,'\\t',dendObj[2].w,'\\t',dendObj[3].w\n",
      "\t\t\t\t\t\t\t# Tau\n",
      "\t\t\t\t\t\t\ttauDCalc(neuronIndex, dendObj, self.W)\n",
      "\t\t\t\t\t\t\t# Resistance\n",
      "\t\t\t\t\t\t\tresistanceCalc(neuronIndex, dendObj, self.R)\n",
      "\n",
      "\t\t\t\t\t\t# TODO: check do I need additional loop below?\n",
      "\t\t\t\t\t\tfor indexOfDend in range(dictionaryLongitude):\n",
      "\t\t\t\t\t\t\tADDSObj.DendI[indexOfDend] = sum(dendObj[indexOfDend].v[:])*self.dendCalcScaling\n",
      "\n",
      "\t\t\t\t\tdef somaDirectCalcs(neuronIndex, ADDSObj, somaDirectObj, dendObj):\n",
      "\t\t\t\t\t\t# somaDirect calcs\n",
      "\t\t\t\t\t\t# Reuse existing dendtrite values below instead of recalculating\n",
      "\t\t\t\t\t\tdotProductWandDirac =  sum(w*d for w,d in zip(dendObj[neuronIndex].w[:], dendObj[neuronIndex].dirac[:]))\n",
      "\t\t\t\t\t\tsomaDirectObj.summedWandDirac[neuronIndex] = ((dotProductWandDirac*volt)/(volt**2))*self.somaDirectScaling\n",
      "\t\t\t\t\t\t#print 'test::_::somaDirectObject.summedWandDirac',somaDirectObject.summedWandDirac\n",
      "\t\t\t\t\t\t#print 'test::_::somaDirectObject.v',somaDirectObject.v\n",
      "\t\t\t\t\t\t#print 'test::_::testSomaDirect.v',testSomaDirect.v\n",
      "\n",
      "\t\t\t\t\t\tfor neuronNumber in range(dictionaryLongitude):\n",
      "\t\t\t\t\t\t\tADDSObj.SynI[neuronNumber] = somaDirectObj.v[neuronNumber]\t\t\t\t\n",
      "\n",
      "\t\t\t\t\tdef diracCalc(IDend, neuronIndex, spiketimes):\n",
      "\t\t\t\t\t\ttime = self.time\n",
      "\t\t\t\t\t\te = math.e\n",
      "\t\t\t\t\t\tlastSpikeInterval = self.lastSpikeInterval\n",
      "\t\t\t\t\t\tdend = IDend\n",
      "\t\t\t\t\t\t# This method only calculates dirac\n",
      "\t\t\t\t\t\t# dirac function helps allow or disallow signal to be sent from input neurons through dendrite nodes or not\n",
      "\t\t\t\t\t\t# converted Dt to units which seem to make more sense for dirac function used, not sure if right to do that\n",
      "\t\t\t\t\t\t# though\n",
      "\n",
      "\t\t\t\t\t\t#print ':::range(len(IDend[neuronIndex][:])\\t','self.time\\t',self.time,'\\tneuronIndex\\t',neuronIndex,'\\t',IDend,'\\t',IDend[neuronIndex]\n",
      "\n",
      "\t\t\t\t\t\tdendGroup = [None]*len(dend[neuronIndex][:])\n",
      "\t\t\t\t\t\tfor IdIndex in range(len(dend[neuronIndex][:])):\n",
      "\t\t\t\t\t\t\t# set tpresyn initially too far to trigger dirac\n",
      "\t\t\t\t\t\t\ttPreSyn = time + 1\n",
      "\t\t\t\t\t\t\tfor presynInd in range(shape(spiketimes)[0]):\n",
      "\t\t\t\t\t\t\t\tcomparedSpikeTime = spiketimes[presynInd][1]\n",
      "\n",
      "\t\t\t\t\t\t\t\tif comparedSpikeTime > (lastSpikeInterval + spikeIntervalUnformatted):\n",
      "\t\t\t\t\t\t\t\t\tbreak\n",
      "\n",
      "\t\t\t\t\t\t\t\t#print ':::',comparedSpikeTime,self.lastSpikeInterval,spikeIntervalUnformatted\n",
      "\t\t\t\t\t\t\t\t##print 'comparedSpikeTime:::\\t',comparedSpikeTime,'\\t::self.lastSpikeInterval\\t',self.lastSpikeInterval,'spikeIntervalUnformatted',spikeIntervalUnformatted,'spiketimes[presynInd][0] == IdIndex',(spiketimes[presynInd][0] == IdIndex),'IdIndex',IdIndex,'comparedSpikeTime > self.lastSpikeInterval',(comparedSpikeTime > self.lastSpikeInterval),'comparedSpikeTime <= (self.lastSpikeInterval + spikeIntervalUnformatted)',(comparedSpikeTime <= (self.lastSpikeInterval + spikeIntervalUnformatted))\n",
      "\t\t\t\t\t\t\t\t'''# spikeIntervalUnformatted included below to have offset where skiping input starting at .1 becomes 0.0, representing input spikes right from\n",
      "\t\t\t\t\t\t\t\t# 0.0 to 300 ms, as the input is intended'''\n",
      "\t\t\t\t\t\t\t\t# checking prior interval for a spike.  This looks for a spike in the prior spike time interval \n",
      "\t\t\t\t\t\t\t\t#if spiketimes[presynInd][0] == IdIndex and comparedSpikeTime > lastSpikeInterval and comparedSpikeTime <= (lastSpikeInterval + spikeIntervalUnformatted):\n",
      "\t\t\t\t\t\t\t\t#print 'IdIndex',IdIndex,'time',time,'comparedSpikeTime',comparedSpikeTime,'time == comparedSpikeTime',(time == comparedSpikeTime),'(Decimal(format(time, .8f)) == Decimal(format(comparedSpikeTime, .8f)))',(Decimal(format(time, '.8f')) == Decimal(format(comparedSpikeTime, '.8f'))),Decimal(format(time, '.8f')),Decimal(format(comparedSpikeTime, '.8f'))\n",
      "\t\t\t\t\t\t\t\t#if comparedSpikeTime > .89:\n",
      "\t\t\t\t\t\t\t\t#\tprint 'compare',(math.floor(1000*Decimal(format(time, '.3f')))*.001 == math.floor(1000*Decimal(format(comparedSpikeTime, '.3f')))*.001),math.floor(1000*Decimal(format(time, '.3f')))*.001,math.floor(1000*Decimal(format(comparedSpikeTime, '.3f')))*.001\n",
      "\t\t\t\t\t\t\t\tif spiketimes[presynInd][0] == IdIndex and (math.floor(1000*Decimal(format(time, '.3f')))*.001 == math.floor(1000*Decimal(format(comparedSpikeTime, '.3f')))*.001):\n",
      "\t\t\t\t\t\t\t\t\t## adding below if statement to avoid constant input stimulus in evaluation, that seem more accurate to how the article did it's evaulation.\n",
      "\t\t\t\t\t\t\t\t\t# normalize t to count just time within spike interval.  Formula from article just uses t in a way\n",
      "\t\t\t\t\t\t\t\t\t# relative to the spike interval it seems and therefore that approach is applied to the formula here.\t\n",
      "\t\t\t\t\t\t\t\t\t#tNorm = time - (floor((time/.001)*.01) * .1)\n",
      "\t\t\t\t\t\t\t\t\t#print 'tNorm',tNorm\n",
      "\t\t\t\t\t\t\t\t\t#if tNorm <= .01:# or evaluationActive == False:\n",
      "\t\t\t\t\t\t\t\t\t#if True:\n",
      "\t\t\t\t\t\t\t\t\t\t#tPreSyn = comparedSpikeTime\n",
      "\t\t\t\t\t\t\t\t\ttPreSyn = comparedSpikeTime\n",
      "\t\t\t\t\t\t\t\t\t#print '++++++++++',time,'+++++++++++','spiketimesnumber',spiketimes[presynInd][0],'neuronIndex',neuronIndex,'spiketimestime',(math.floor(1000*Decimal(format(comparedSpikeTime, '.3f')))*.001),'comparedSpikeTime',comparedSpikeTime\n",
      "\n",
      "\t\t\t\t\t\t\tDt = Decimal(format(time, '.8f')) - Decimal(format(tPreSyn, '.8f'))\n",
      "\t\t\t\t\t\t\t#print '++++++++Dt++++++++',Dt,'Decimal(format(time, .8f))',Decimal(format(time, '.8f')),'Decimal(format(tPreSyn, .8f))',Decimal(format(tPreSyn, '.8f'))\n",
      "\t\t\t\t\t\t\t# self.time == lines below are a workaround for initialization values\n",
      "\t\t\t\t\t\t\tif self.time == 0.121 or self.time == 0.421 or self.time == 0.721 or self.time == 1.021:\n",
      "\t\t\t\t\t\t\t\tDt = 1.0\n",
      "\t\t\t\t\t\t\t##print 'neuronIndex',neuronIndex,'tPreSyn000:',tPreSyn,'Dt',Dt\n",
      "\t\t\t\t\t\t\t\n",
      "\t\t\t\t\t\t\t# simplify dirac until later.  TODO: try more comple dirac\n",
      "\t\t\t\t\t\t\t#if (t > -(Dt/2) and t < (Dt/2)):\n",
      "\t\t\t\t\t\t\t# Seems to me what is looked for here is that the post synapse (output neurons) is after the pre synapse (input neurons)\n",
      "\t\t\t\t\t\t\tif Dt >= 0.0:\n",
      "\t\t\t\t\t\t\t\tif self.time == 0.121 or self.time == 0.421 or self.time == 0.721 or self.time == 1.021:\n",
      "\t\t\t\t\t\t\t\t\tDiracFun = 1.00\n",
      "\t\t\t\t\t\t\t\tif Dt != 0: \n",
      "\t\t\t\t\t\t\t\t\t# A closer post to pre synapse creates a larger dirac signal for greater weight I'd suppose than\n",
      "\t\t\t\t\t\t\t\t\t# a further distance below in DiracFun\n",
      "\t\t\t\t\t\t\t\t\t#Dt = Dt*1000\n",
      "\t\t\t\t\t\t\t\t\tDiracFun = 1/Dt\n",
      "\t\t\t\t\t\t\t\telse:\n",
      "\t\t\t\t\t\t\t\t\tDiracFun = 1#1000\n",
      "\t\t\t\t\t\t\t\tDiracFun = 1\n",
      "\t\t\t\t\t\t\t\t#dendGroup[IdIndex] = float(DiracFun)*volt*.001*self.diracScaling #add .001 as scaling factor.  \n",
      "\t\t\t\t\t\t\t\t# Scaling factor of .001 could account for 1ms being present instead of .001 as it is computed, difference of\n",
      "\t\t\t\t\t\t\t\t# 1/1 compared to 1/.001\n",
      "\t\t\t\t\t\t\t\tdendGroup[IdIndex] = float(DiracFun)*volt*self.diracScaling\n",
      "\t\t\t\t\t\t\telse:\n",
      "\t\t\t\t\t\t\t\tDiracFun = 0\n",
      "\t\t\t\t\t\t\t\tdendGroup[IdIndex] = float(DiracFun)*volt*.001*self.diracScaling\t\t\t\t\t\t\n",
      "\n",
      "\t\t\t\t\t\treturn dendGroup\t\t\t\t\t\t\t\t\t\t\n",
      "\n",
      "\t\t\t\t\tdef checkForResets(neuronIndex, dendObj, somaDirectObj):\n",
      "\t\t\t\t\t\tif self.v2[neuronIndex] == 10*mV:\n",
      "\t\t\t\t\t\t\tself.v2[neuronIndex] = 0*mV\t\n",
      "\t\t\t\t\t\t\t'''dendObj[neuronIndex].dirac = [0*volt]*len(dendObj[neuronIndex][:])\n",
      "\t\t\t\t\t\t\tdendObj[neuronIndex].v = [0*volt]*len(dendObj[neuronIndex][:])\t'''\t\t\t\t\t\t\n",
      "\t\t\t\t\t\t\t# Activate lateral inhibition upon a spike to inhibit other neurons from spiking.  As brian's \n",
      "\t\t\t\t\t\t\t# Inhibition inhibits before dend input can increase the signal to balance things out.\n",
      "\t\t\t\t\t\t\t#ADDS.lateralInhibition()\n",
      "\t\t\t\t\t\telif self.v[neuronIndex] != -0.002 * mV:\n",
      "\t\t\t\t\t\t\tself.v2[neuronIndex] = self.v[neuronIndex]\n",
      "\n",
      "\t\t\t\t\t\tif somaDirectObj.v2[neuronIndex] == 10*mV:\n",
      "\t\t\t\t\t\t\tsomaDirectObj.v2[neuronIndex] = 0*mV\t\n",
      "\n",
      "\t\t\t\t\t\tif (self.beginRefrac[neuronIndex] == 1*mV) and (self.relRefracTimeActivated[neuronIndex] == False):\n",
      "\t\t\t\t\t\t\tself.beginRefrac[neuronIndex] = 0*mV\n",
      "\t\t\t\t\t\t\tself.absRefracTime[neuronIndex] = self.time\n",
      "\t\t\t\t\t\t\tself.relRefracTime[neuronIndex] = self.time\n",
      "\t\t\t\t\t\t\tself.absRefracTimeActivated[neuronIndex] = True\n",
      "\t\t\t\t\t\t\tself.relRefracTimeActivated[neuronIndex] = True\n",
      "\t\t\t\t\t\t# Absolute refrac\n",
      "\t\t\t\t\t\tif self.absRefracTimeActivated[neuronIndex] == True:\n",
      "\t\t\t\t\t\t\t'''testADDS.v[neuronIndex] = -0.002*mV\n",
      "\t\t\t\t\t\t\ttestADDS.DendI[neuronIndex] = -0.002*mV\n",
      "\t\t\t\t\t\t\ttestADDS.SynI[neuronIndex] = -0.002*mV\n",
      "\t\t\t\t\t\t\ttestDend[neuronIndex].dirac = [0*volt]*len(dend[neuronIndex][:])'''\n",
      "\t\t\t\t\t\t\tif self.time >= (self.absRefracTime[neuronIndex] + self.absRefracTimeDuration):\n",
      "\t\t\t\t\t\t\t\tself.absRefracTimeActivated[neuronIndex] = False\n",
      "\t\t\t\t\t\t#print 'neuronIndex', neuronIndex, 'abs',self.testAbsRefracTimeActivated[neuronIndex],'self.testTime',self.testTime,'self.beginRefrac[neuronIndex]',self.beginRefrac[neuronIndex],'self.relRefracTimeDuration/ms',(self.absRefracTimeDuration/ms),'self.testAbsRefracTime[neuronIndex] + self.absRefracTimeDuration',(self.testAbsRefracTime[neuronIndex] + self.absRefracTimeDuration)\n",
      "\t\t\t\t\t\t# Relative refrac\n",
      "\t\t\t\t\t\tif self.relRefracTimeActivated[neuronIndex] == True:\n",
      "\t\t\t\t\t\t\t'''if testADDS.v[neuronIndex] > -0.002 * mV:\n",
      "\t\t\t\t\t\t\t\ttestADDS.v[neuronIndex] = -0.002*mV\n",
      "\t\t\t\t\t\t\t\ttestADDS.DendI[neuronIndex] = -0.002*mV\n",
      "\t\t\t\t\t\t\t\ttestADDS.SynI[neuronIndex] = -0.002*mV\n",
      "\t\t\t\t\t\t\t\ttestDend[neuronIndex].dirac = [0*volt]*len(dend[neuronIndex][:])'''\n",
      "\t\t\t\t\t\t\tif self.time >= (self.relRefracTime[neuronIndex] + self.relRefracTimeDuration):\n",
      "\t\t\t\t\t\t\t\tself.relRefracTimeActivated[neuronIndex] = False\n",
      "\t\t\t\t\t\t#print 'neuronIndex', neuronIndex, 'rel',self.testRelRefracTimeActivated[neuronIndex],'self.testTime',self.testTime,'self.testRelRefracTime[neuronIndex]',self.testRelRefracTime[neuronIndex],'self.relRefracTimeDuration/ms',(self.relRefracTimeDuration/ms),'self.testRelRefracTime[neuronIndex] + self.relRefracTimeDuration',(self.testRelRefracTime[neuronIndex] + self.relRefracTimeDuration)\n",
      "\n",
      "\t\t\t\t\tdef printOutputForTesting():\n",
      "\t\t\t\t\t\tprint 'neuronIndex',self.neuronIndex,'time',self.time\n",
      "\t\t\t\t\t\tprint 'dend.dirac',dend[0].dirac,dend[1].dirac,dend[2].dirac,dend[3].dirac\n",
      "\t\t\t\t\t\tprint 'dend.v',dend[0].v,dend[1].v,dend[2].v,dend[3].v\n",
      "\t\t\t\t\t\tprint 'sum(dend[neuronIndex].v[:])',sum(dend[neuronIndex].v[:])\n",
      "\t\t\t\t\t\tprint 'Prelim Weights\\n0',dend[0].w[:]\n",
      "\t\t\t\t\t\tprint '1',dend[1].w[:]\n",
      "\t\t\t\t\t\tprint '2',dend[2].w[:]\n",
      "\t\t\t\t\t\tprint '3',dend[3].w[:]\n",
      "\t\t\t\t\t\tprint 'Prelim Tau\\n0',dend[0].tau[:]\n",
      "\t\t\t\t\t\tprint '1',dend[1].tau[:]\n",
      "\t\t\t\t\t\tprint '2',dend[2].tau[:]\n",
      "\t\t\t\t\t\tprint '3',dend[3].tau[:]\t\t\t\t\t\n",
      "\t\t\t\t\t\tprint 'Prelim Res\\n0',dend[0].r[:]\n",
      "\t\t\t\t\t\tprint '1',dend[1].r[:]\n",
      "\t\t\t\t\t\tprint '2',dend[2].r[:]\n",
      "\t\t\t\t\t\tprint '3',dend[3].r[:]\t\t\t\n",
      "\n",
      "\t\t\t\t\tdef sortVersionOutForTesting(ADDSObj, dendObj):\n",
      "\t\t\t\t\t\tprint 'ADDSObj.v','time',self.time,ADDSObj.v[0],ADDSObj.v[1],ADDSObj.v[2],ADDSObj.v[3]\n",
      "\t\t\t\t\t\tprint 'sum(ADDSObj.DendI)',(ADDSObj.DendI[0]),(ADDSObj.DendI[1]),(ADDSObj.DendI[2]),(ADDSObj.DendI[3])\n",
      "\t\t\t\t\t\tprint 'sum(ADDSObj.SynI)',sum(ADDSObj.SynI[0]),sum(ADDSObj.SynI[1]),sum(ADDSObj.SynI[2]),sum(ADDSObj.SynI[3])\t\t\t\t\t\t\n",
      "\n",
      "\t\t\t\t\tdef printEvalOutputForTesting(ADDSObj, dendObj):\n",
      "\t\t\t\t\t\t'''print 'dendObj.dirac','time',self.time,'\\t',dendObj[0].dirac,dendObj[1].dirac,dendObj[2].dirac,dendObj[3].dirac\n",
      "\t\t\t\t\t\tprint 'dendObj.v',dendObj[0].v,dendObj[1].v,dendObj[2].v,dendObj[3].v\n",
      "\t\t\t\t\t\tprint 'sum(dendObj[neuronIndex])',sum(dendObj[0].v[:]),sum(dendObj[1].v[:]),sum(dendObj[2].v[:]),sum(dendObj[3].v[:])\t\t\t\t\t\t\t\n",
      "\t\t\t\t\t\tprint 'testSomaDirect.v',testSomaDirect.v[0],testSomaDirect.v[1],testSomaDirect.v[2],testSomaDirect.v[3]\n",
      "\t\t\t\t\t\tprint 'sum(testSomaDirect[neuronIndex])',sum(testSomaDirect.v[0]),sum(testSomaDirect.v[1]),sum(testSomaDirect.v[2]),sum(testSomaDirect.v[3])\t\t\t\t\t\t\t\n",
      "\t\t\t\t\t\tprint 'testSomaDirect.summedWandDirac',testSomaDirect.summedWandDirac[0],testSomaDirect.summedWandDirac[1],testSomaDirect.summedWandDirac[2],testSomaDirect.summedWandDirac[3]\t\t\t\t\t'''\n",
      "\t\t\t\t\t\tprint 'ADDSObj.v',ADDSObj.v[0],ADDSObj.v[1],ADDSObj.v[2],ADDSObj.v[3]\n",
      "\t\t\t\t\t\tprint 'dendObj.dirac','time',self.time,'\\t',dendObj[0].dirac,dendObj[1].dirac,dendObj[2].dirac,dendObj[3].dirac\n",
      "\t\t\t\t\t\tprint 'dendObj.v',dendObj[0].v,dendObj[1].v,dendObj[2].v,dendObj[3].v\n",
      "\t\t\t\t\t\tprint 'v',dendObj[0].v,'\\t',dendObj[1].v\n",
      "\t\t\t\t\t\tprint 'r',dendObj[0].r,'\\t',dendObj[1].r\n",
      "\t\t\t\t\t\tprint 'w',' time',self.time,'\\t',dendObj[0].w,'\\t',dendObj[1].w,'\\t',dendObj[2].w,'\\t',dendObj[3].w\n",
      "\t\t\t\t\t\tprint 'dirac',dendObj[0].dirac,'t',dendObj[1].dirac\n",
      "\t\t\t\t\t\tprint 'tau',dendObj[0].tau,'t',dendObj[1].tau\n",
      "\t\t\t\t\t\tprint 'units',(-dendObj[1].v[0]/mV),((dendObj[1].r[0])/volt),((dendObj[1].w[0])/volt),(dendObj[1].dirac[0]/volt),(dendObj[1].tau[0]/second)\n",
      "\t\t\t\t\t\tdendObj[1].vTest[0] = (((-dendObj[1].v[0]/mV)+(((dendObj[1].r[0])/volt)*((dendObj[1].w[0])/volt)*(dendObj[1].dirac[0]/volt)))/(dendObj[1].tau[0]/second))*volt#((-dendObj[1].v[0]/volt)+((dendObj[1].r[0])/volt))/(dendObj[1].tau[0]/ms)*volt\n",
      "\t\t\t\t\t\tdendObj[1].vTest2[0] = -dendObj[1].v[0]\n",
      "\t\t\t\t\t\tdendObj[1].vTest3[0] = ((dendObj[1].r[0]/volt)*(dendObj[1].w[0]/volt)*(dendObj[1].dirac[0]))/(dendObj[1].tau[0]/second)\n",
      "\t\t\t\t\t\tprint 'vTest',dendObj[1].vTest[0]\n",
      "\t\t\t\t\t\tprint 'vTest2',dendObj[2].vTest2[0],dendObj[1].v[0],dendObj[1].v[1],dendObj[1].v[2],dendObj[1].v[3],dendObj[1].v[4]\n",
      "\t\t\t\t\t\tprint 'vTest3',dendObj[3].vTest3[0]\n",
      "\t\t\t\t\t\t#print 'rs equ',(-dendObj[0].v+((dendObj[0].r)*(dendObj[0].w)*dendObj[0].dirac)/(dendObj[0].tau)),'\\t',(-dendObj[1].v+((dendObj[1].r)*(dendObj[1].w)*dendObj[1].dirac)/(dendObj[1].tau))\n",
      "\t\t\t\t\t\tprint 'sum(ADDSObj.DendI)',(ADDSObj.DendI[0]),(ADDSObj.DendI[1]),(ADDSObj.DendI[2]),(ADDSObj.DendI[3])\n",
      "\t\t\t\t\t\tprint 'sum(ADDSObj.SynI)',sum(ADDSObj.SynI[0]),sum(ADDSObj.SynI[1]),sum(ADDSObj.SynI[2]),sum(ADDSObj.SynI[3])\n",
      "\t\t\t\t\t\tprint 'ADDSObj.UmSpikeFired',ADDSObj.UmSpikeFired[0],ADDSObj.UmSpikeFired[1],ADDSObj.UmSpikeFired[2],ADDSObj.UmSpikeFired[3]\n",
      "\t\t\t\t\t\t#print 'Prelim Weights\\n0',dendObj[0].w[:]\n",
      "\t\t\t\t\t\t#print '1',dendObj[1].w[:]\n",
      "\t\t\t\t\t\t#print '2',dendObj[2].w[:]\n",
      "\t\t\t\t\t\t#print '3',dendObj[3].w[:]\n",
      "\t\t\t\t\t\t#print 'Prelim Tau\\n0',dendObj[0].tau[:]\n",
      "\t\t\t\t\t\t#print '1',dendObj[1].tau[:]\n",
      "\t\t\t\t\t\t#print '2',dendObj[2].tau[:]\n",
      "\t\t\t\t\t\t#print '3',dendObj[3].tau[:]\n",
      "\t\t\t\t\t\t#print 'Prelim Res\\n0',dendObj[0].r[:]\n",
      "\t\t\t\t\t\t#print '1',dendObj[1].r[:]\n",
      "\t\t\t\t\t\t#print '2',dendObj[2].r[:]\n",
      "\t\t\t\t\t\t#print '3',dendObj[3].r[:]\n",
      "\t\t\t\t\t\tprint '____________________'\t\t\t\t\t\t\n",
      "\n",
      "\t\t\t\t\tdef evaluateClassifier(ADDSObj):\n",
      "\t\t\t\t\t\t# Negative results below are only set to be measured after a full spike interval has passed and had the opportunity to have created a spike\n",
      "\t\t\t\t\t\t# (self.testSpikeIntervalCounter-1) is to correct for refractoryPointSwitch occuring after spikeInterval it addresses.\n",
      "\t\t\t\t\t\t#print 'refractoryPointSwitch = ', self.refractoryPointSwitch\n",
      "\t\t\t\t\t\t#print 'refractoryPointSwitch =', self.testRefractoryPointSwitch\n",
      "\t\t\t\t\t\t#if self.refractoryPointSwitch == true and (self.testSpikeIntervalCounter > 0):\n",
      "\t\t\t\t\t\tif self.refractoryPointSwitch == True:# and (self.testSpikeIntervalCounter > 0):\n",
      "\t\t\t\t\t\t\t'''print 'self.testTime',self.testTime,'refrac on'\n",
      "\t\t\t\t\t\t\ttT = (Decimal(format(self.testTime, '.1f')))\n",
      "\t\t\t\t\t\t\tsIU = (Decimal(format(spikeIntervalUnformatted, '.1f')))\n",
      "\t\t\t\t\t\t\ttimeDiff = tT/sIU\n",
      "\t\t\t\t\t\t\tprint 'recalc testT',(floor(self.testTime/spikeIntervalUnformatted) * spikeIntervalUnformatted)*10,'floor(self.testTime/spikeIntervalUnformatted)',floor(self.testTime/spikeIntervalUnformatted),'floor with decimal',int(timeDiff)'''\n",
      "\t\t\t\t\t\t#if self.testSpikesFiredInInterval[neuronIndex][self.testSpikeIntervalCounter-1] == False:\n",
      "\t\t\t\t\t\t\t# Only evaluate results for enough epochs to test each char in input (3 spike interv per char * 4 char = 12 spike intervals total)\n",
      "\t\t\t\t\t\t\t# the +1 in (self.timeotalSpikeIntervals+1) is to allow a last refractoryPointSwitch triggered negative spike evaluation to occur.\n",
      "\t\t\t\t\t\t\t# * A change was made to the scoring to not count the 0.0-0.1 second period because the input spike generator does not start until .1\n",
      "\t\t\t\t\t\t\t# seconds and the first occurences of output spikes should be monitored looking at .2 seconds to see if any occured in seconds .1-.2 .\n",
      "\t\t\t\t\t\t\tif (self.spikeIntervalCounter >= 2) and (self.spikeIntervalCounter <= (self.totalSpikeIntervals+1)):\n",
      "\t\t\t\t\t\t\t\tfor neuronIndex in range(dictionaryLongitude):\t\t\t\t\n",
      "\t\t\t\t\t\t\t\t\t#print 'eval','self.testSpikeIntervalCounter\\t',self.testSpikeIntervalCounter\n",
      "\t\t\t\t\t\t\t\t\tif (ADDSObj.UmSpikeFired[neuronIndex] == 1*mV):# and (self.testSpikeIntervalCounter < self.totalSpikeIntervals):\n",
      "\t\t\t\t\t\t\t\t\t\tif (self.correctSpikes[neuronIndex][(self.spikeIntervalCounter-1)] == 1):\n",
      "\t\t\t\t\t\t\t\t\t\t\tself.truePositiveSpikeResults = self.truePositiveSpikeResults + 1\t\n",
      "\t\t\t\t\t\t\t\t\t\t\tprint 'TP found\\t','self.testSpikeIntervalCounter-1\\t',self.spikeIntervalCounter-1,'neuronIndex\\t',neuronIndex\n",
      "\t\t\t\t\t\t\t\t\t\telse:\n",
      "\t\t\t\t\t\t\t\t\t\t\tself.falsePositiveSpikeResults = self.falsePositiveSpikeResults + 1\t\n",
      "\t\t\t\t\t\t\t\t\t\t#self.testSpikesFiredInInterval[neuronIndex][self.testSpikeIntervalCounter] = True\t\n",
      "\t\t\t\t\t\t\t\t\telif (ADDSObj.UmSpikeFired[neuronIndex] == 0*mV):# and (self.testSpikeIntervalCounter < self.totalSpikeIntervals):\n",
      "\t\t\t\t\t\t\t\t\t\tif (self.correctSpikes[neuronIndex][(self.spikeIntervalCounter-1)] == 1):\n",
      "\t\t\t\t\t\t\t\t\t\t\tself.falseNegativeSpikeResults = self.falseNegativeSpikeResults + 1\t\t\n",
      "\t\t\t\t\t\t\t\t\t\telse:\n",
      "\t\t\t\t\t\t\t\t\t\t\tself.trueNegativeSpikeResults = self.trueNegativeSpikeResults + 1\t\n",
      "\t\t\t\t\t\t\tfor neuronIndex in range(dictionaryLongitude):\t\t\t\t\t\t\t\t\t\t\t\n",
      "\t\t\t\t\t\t\t\tADDSObj.UmSpikeFired[neuronIndex] = 0*mV\n",
      "\t\t\t\t\t\t\t\t\t#print 'results',self.truePositiveSpikeResults,self.falsePositiveSpikeResults,self.trueNegativeSpikeResults,self.falseNegativeSpikeResults\n",
      "\n",
      "\t\t\t\t\tdef intitializeTrainedModelParameters(dendObj):\n",
      "\t\t\t\t\t\t# Below values that have been created through prior training are used for w, tau, and r\n",
      "\t\t\t\t\t\ttestW = [[0.90433194, 0.6139531, 0.50387484, 0.55220372, 0.51213536, 0.85443374, 0.99955922, 0.5039825, 0.73091913, 0.9780236, 0.5241028, 0.71571812, 0.93782861, 0.51210244, 0.73074697],\n",
      "\t\t\t\t\t\t[0., 0., 0.03412608, 0., 0.90455366, 0.78683668, 0., 0.95912629, 0.7282637, 0., 0.78548583, 0.78935491, 0.03193823, 0.00609877, 0.17287094],\n",
      "\t\t\t\t\t\t[0.4474444, 0., 0.98135641, 0., 0.96315942, 0., 0., 0., 0.15930208, 0., 0.77299245, 0., 0., 0.71739497, 0.02804206],\n",
      "\t\t\t\t\t\t[0., 0., 0.99815102, 0., 0.9239562, 0., 0., 0.32862838, 0.29682383, 0., 0.85108903, 0., 0., 0., 0.6687179]]\n",
      "\n",
      "\t\t\t\t\t\ttestTauD = [[4.67870579, 12.80931328, 15.89150457, 14.53829579, 15.66020997, 6.07585538, 2.0123418, 15.88849011, 9.53426444, 2.6153392, 15.32512158, 9.95989264, 3.74079895, 15.66113156, 9.53908472],\n",
      "\t\t\t\t\t\t[9.38715598, 12.1194624, 9.34555739, 6.3921125, 5.61075905, 4.06988445, 9.88122329, 3.54626289, 6.41301412, 7.44992802, 10.1151254, 3.96914614, 3.41772316, 4.7844492, 2.40562813],\n",
      "\t\t\t\t\t\t[14.7112847, 14.11913186, 2.72683686, 10.43654572, 3.43626265, 14.20735373, 9.15843206, 4.26396028, 3.39998086, 7.5902114, 10.85008977, 7.25459199, 9.86718901, 3.20308826, 10.16608643],\n",
      "\t\t\t\t\t\t[15.97156807, 4.01171718, 2.07503494, 9.24935852, 5.08599601, 13.72643044, 13.71622469, 7.36132416, 5.76486557, 7.2621342, 8.04307852, 11.68604314, 5.89535223, 10.07822174, 15.44403097]]\n",
      "\n",
      "\t\t\t\t\t\ttestR = [[5.28618924, 7.07014396, 7.67118426, 7.41054119, 7.62696131, 5.62546396, 4.55408732, 7.67060873, 6.39667963, 4.73398033, 7.56265998, 6.48674751, 5.04468982, 7.62713777, 6.39770456],\n",
      "\t\t\t\t\t\t[6.36534465, 6.93170042, 6.35646422, 5.69956225, 5.51481581, 5.13093667, 6.47016506, 4.99283791, 5.70442879, 5.94150634, 6.51938451, 5.10472189, 4.95819508, 5.31264187, 4.67271447],\n",
      "\t\t\t\t\t\t[7.44412582, 7.32882233, 4.76605631, 6.58661617, 4.96321112, 7.34606257, 6.31640753, 5.1810014, 4.95338848, 5.97297472, 6.67245869, 5.8974608, 6.46720377, 4.89962516, 6.53007485],\n",
      "\t\t\t\t\t\t[7.68646215, 5.11581952, 4.57335711, 6.33589406, 5.38732016, 7.25180984, 7.2498024, 5.92156072, 5.55171007, 5.89916649, 6.07367171, 6.84386832, 5.58276752, 6.51163569, 7.58550996]]\n",
      "\t\t\t\t\t\t#print 't:',self.time,'neuronIndex',neuronIndex,'main calc resistanceCalc()', testR\n",
      "\n",
      "\t\t\t\t\t\tfor indexOfDend in range(dictionaryLongitude):\n",
      "\t\t\t\t\t\t\t# TODO see if some of these do not need to be recomputed every time\n",
      "\t\t\t\t\t\t\tdendObj[indexOfDend].w = testW[indexOfDend]*volt*self.weightScaling\n",
      "\t\t\t\t\t\t\tdendObj[indexOfDend].tau = testTauD[indexOfDend]*ms # unclear if dividing by tau in ms is e.x. /.02 or /20 but it is assumed to be 20, therefore no ms conversion here\n",
      "\t\t\t\t\t\t\tdendObj[indexOfDend].r = testR[indexOfDend]*mV\t# volt unit is cancelled out in the equation anyhow, doesn't matter if it is volt or mV due to being cancelled.  Having mv could cause *.001 that is now wanted\n",
      "\n",
      "\t\t\t\t\tdef lateralInhibition(ADDSObj):\n",
      "\t\t\t\t\t\t'''spikeOccured = False;inhibitionVoltage = None\n",
      "\t\t\t\t\t\tfor neuronIndex3 in range(dictionaryLongitude):\n",
      "\t\t\t\t\t\t\tif ADDSObj.UmSpikeFired[neuronIndex3] == 1*mV: \n",
      "\t\t\t\t\t\t\t\tspikeOccured = True\n",
      "\t\t\t\t\t\t\t\tinhibitionVoltage = ADDSObj.inhibitionVoltage[neuronIndex3]#*self.lateralInhibitScaling'''\n",
      "\n",
      "\t\t\t\t\t\ttNorm = self.time - (floor((self.time/.001)*.01) * .1)\n",
      "\t\t\t\t\t\tpreliminaryV = [None]*dictionaryLongitude\n",
      "\t\t\t\t\t\tgreatestMembraneVoltage = 0.0\n",
      "\t\t\t\t\t\tgreatestNeuronNumber = None\n",
      "\t\t\t\t\t\tneuronNumberFired = None\n",
      "\t\t\t\t\t\tneuronNumberAboutToFire = None\n",
      "\t\t\t\t\t\t\n",
      "\t\t\t\t\t\tfor neuronIndex in range(dictionaryLongitude):\n",
      "\t\t\t\t\t\t\tpreliminaryV[neuronIndex] = ADDSObj.prelimV[neuronIndex]\n",
      "\t\t\t\t\t\tfor neuronIndex in range(dictionaryLongitude):\n",
      "\t\t\t\t\t\t\tfor neuronIndex2 in range(len(preliminaryV)):\n",
      "\t\t\t\t\t\t\t\tif (neuronIndex != neuronIndex2) and (preliminaryV[neuronIndex2] >= greatestMembraneVoltage): \n",
      "\t\t\t\t\t\t\t\t\t#print 'comparison','neuronIndex',neuronIndex,' ',preliminaryV[neuronIndex],'neuronIndex2',neuronIndex2,' ',preliminaryV[neuronIndex2],'greatestMembraneVoltage',greatestMembraneVoltage,preliminaryV[neuronIndex2] >= greatestMembraneVoltage\n",
      "\t\t\t\t\t\t\t\t\tgreatestMembraneVoltage = preliminaryV[neuronIndex2]\n",
      "\t\t\t\t\t\t\t\t\tgreatestNeuronNumber = neuronIndex\n",
      "\t\t\t\t\t\t\t\tif ADDSObj.UmSpikeFired[neuronIndex2] == 1*mV: neuronNumberFired = neuronIndex2\n",
      "\n",
      "\t\t\t\t\t\t\tif (greatestMembraneVoltage >= (10*mV)) and (neuronNumberFired == None):\n",
      "\t\t\t\t\t\t\t\tself.voltageForInhibition = greatestMembraneVoltage - (10*mV)\n",
      "\t\t\t\t\t\t\t\tneuronNumberAboutToFire = greatestNeuronNumber\n",
      "\t\t\t\t\t\t\t\tself.inhibitionReduction = 1.0\n",
      "\t\t\t\t\t\t\telif (greatestMembraneVoltage < (10*mV)) and (neuronNumberFired == None): \n",
      "\t\t\t\t\t\t\t\tself.voltageForInhibition = greatestMembraneVoltage\n",
      "\t\t\t\t\t\t\telse:\n",
      "\t\t\t\t\t\t\t\tself.voltageForInhibition = 70*mV#(70*mV/self.inhibitionReduction)\n",
      "\t\t\t\t\t\t\t\tif self.inhibitionReduction < 150: self.inhibitionReduction += 0.01\n",
      "\t\t\t\t\t\t\t#print 'time',self.time,'neuronIndex',neuronIndex,'neuronIndex2',neuronIndex2,'self.voltageForInhibition',self.voltageForInhibition,(70*mV/self.inhibitionReduction),'self.inhibitionReduction',self.inhibitionReduction\n",
      "\n",
      "\t\t\t\t\t\tfor neuronIndex in range(dictionaryLongitude):\t\t\n",
      "\t\t\t\t\t\t\tif neuronIndex != neuronNumberAboutToFire and neuronIndex != neuronNumberFired:\n",
      "\t\t\t\t\t\t\t\t#if self.voltageForInhibition > 0: preliminaryV[neuronIndex] -= self.voltageForInhibition\n",
      "\t\t\t\t\t\t\t\t#else: preliminaryV[neuronIndex] += self.voltageForInhibition\n",
      "\t\t\t\t\t\t\t\tpreliminaryV[neuronIndex] -= abs(self.voltageForInhibition)\n",
      "\t\t\t\t\t\t\t\tADDSObj.v[neuronIndex] = preliminaryV[neuronIndex]\n",
      "\n",
      "\t\t\t\t\t\t\t'''for neuronIndex2 in range(dictionaryLongitude):\n",
      "\t\t\t\t\t\t\t\t#inhibitionVoltage = ADDSObj.prelimV[neuronIndex2]*self.lateralInhibitScaling\n",
      "\t\t\t\t\t\t\t\t#if ADDSObj.UmSpikeFired[neuronIndex2] == 1*mV: \n",
      "\t\t\t\t\t\t\t\t#\tinhibitionVoltage = ADDSObj.inhibitionVoltage[neuronIndex2]#*self.lateralInhibitScaling\t\t\t\t\t\t\t\t\n",
      "\t\t\t\t\t\t\t\tif neuronIndex != neuronIndex2 and self.voltageForInhibition > 0:\n",
      "\t\t\t\t\t\t\t\t\tpreliminaryV[neuronIndex] -= inhibitionVoltage'''\n",
      "\t\t\t\t\t\t\t#print 'self.time',self.time,'neuronIndex',neuronIndex,'self.voltageForInhibition',self.voltageForInhibition,'ADDSObj.prelimV[neuronIndex]',ADDSObj.prelimV[neuronIndex],'preliminaryV[neuronIndex]',preliminaryV[neuronIndex],'ADDSObj.v[neuronIndex]',ADDSObj.v[neuronIndex],'ADDSObj.UmSpikeFired[neuronIndex]',ADDSObj.UmSpikeFired[neuronIndex]\n",
      "\t\t\t\t\t\t\t#if ADDSObj.UmSpikeFired[neuronIndex] != 1*mV: ADDSObj.v[neuronIndex] = preliminaryV[neuronIndex]\n",
      "\n",
      "\t\t\t\t\tdef mainSimulationCalcs(ADDSObj, dendObj, somaDirectObj, spiketimes, evaluationActive):\n",
      "\t\t\t\t\t\t# dend then somaDirect calcs are done which are then used to set lat inhib.\n",
      "\t\t\t\t\t\t# Soma Um calcs are done automatically using equations entered for brian\n",
      "\t\t\t\t\t\t# once dend and somaDirect are updated\n",
      "\t\t\t\t\t\ttNorm = self.time - (floor((self.time/.001)*.01) * .1)\n",
      "\t\t\t\t\t\t#print 'tNorm',tNorm\n",
      "\t\t\t\t\t\t\n",
      "\t\t\t\t\t\ttimePeriodAndRefractoryCalcs()\n",
      "\n",
      "\t\t\t\t\t\t#print 'time',self.time,'brian time',self.t\n",
      "\n",
      "\t\t\t\t\t\tif (evaluationActive==True):\n",
      "\t\t\t\t\t\t\tintitializeTrainedModelParameters(dendObj)\n",
      "\n",
      "\t\t\t\t\t\t# Option to accelerate computations for training\n",
      "\t\t\t\t\t\tif self.accelerateTraining == False or (evaluationActive == False and tNorm <= .005 or tNorm >= .096):\t\t\t\t\t\t\t\t\t\t\t\t\t\n",
      "\t\t\t\t\t\t\tif self.accelerateTraining == True and (tNorm >= .096 and tNorm < .099):\n",
      "\t\t\t\t\t\t\t\tfor i in range(dictionaryLongitude):\n",
      "\t\t\t\t\t\t\t\t\tADDSObj.DendI[i]=0*mV\n",
      "\t\t\t\t\t\t\t\t\tADDSObj.SynI[i]=0*mV\n",
      "\t\t\t\t\t\t\t\t\tADDSObj.prelimV[i]=0*mV\n",
      "\t\t\t\t\t\t\t\t\tADDSObj.v[i]=0*mV#-65*mV#0*mV\t\t\t\t\t\t\t\t\t\n",
      "\t\t\t\t\t\t\t\t\tfor i2 in range(len(dend[0].v)):\n",
      "\t\t\t\t\t\t\t\t\t\tdendObj[i].v[i2] = 0*mV\n",
      "\t\t\t\t\t\t\t\t\tsomaDirectObj.v[i] = 0*mV\t\t\n",
      "\n",
      "\t\t\t\t\t\t\t#print 'running'\n",
      "\t\t\t\t\t\t\tfor neuronIndex in range(dictionaryLongitude):\n",
      "\t\t\t\t\t\t\t\tdendCalcs(neuronIndex, ADDSObj, dendObj, spiketimes, evaluationActive)\n",
      "\n",
      "\t\t\t\t\t\t\t\tsomaDirectCalcs(neuronIndex, ADDSObj, somaDirectObj, dendObj)\n",
      "\t\t\t\t\t\t\t\t# Lat inhib.\n",
      "\t\t\t\t\t\t\t\t#S.w[:]=(-1*(ADDSObj.Rm/mV*(ADDSObj.DendI[neuronIndex]+ADDSObj.SynI[neuronIndex])))*self.lateralInhibitScaling2\n",
      "\n",
      "\t\t\t\t\t\t\t\t#checkForResets(neuronIndex, dendObj, somaDirectObj)\n",
      "\n",
      "\t\t\t\t\t\t\tlateralInhibition(ADDSObj)\n",
      "\n",
      "\t\t\t\t\t\t\tfor neuronIndex in range(dictionaryLongitude): checkForResets(neuronIndex, dendObj, somaDirectObj)\n",
      "\n",
      "\t\t\t\t\t\t\tevaluateClassifier(ADDSObj)\n",
      "\n",
      "\t\t\t\t\t\t\t'''if tNorm <= 0.003 or tNorm >= .099:\n",
      "\t\t\t\t\t\t\t\tprintEvalOutputForTesting(ADDS, dend)\n",
      "\t\t\t\t\t\t\telse:\n",
      "\t\t\t\t\t\t\t\tsortVersionOutForTesting(ADDS, dend)'''\n",
      "\n",
      "\t\t\t\t\tif self.evaluateClassifier == False:\n",
      "\t\t\t\t\t\tmainSimulationCalcs(ADDS, dend, somaDirect, self.trainingSpikeTimes, False)\n",
      "\t\t\t\t\telse:\n",
      "\t\t\t\t\t\tmainSimulationCalcs(ADDS, dend, somaDirect, self.spiketimes, True)\t\t\t\t\t\n",
      "\n",
      "\t\t\t\tself.contained_objects.append(additionToNetwork)\t\n",
      "\n",
      "\t\t\tdef OutputEvaluationResults(self, dendObj):\n",
      "\t\t\t\tprint 'Final Weights\\n',dendObj[0].w[:]/volt\n",
      "\t\t\t\tprint dendObj[1].w[:]/volt\n",
      "\t\t\t\tprint dendObj[2].w[:]/volt\n",
      "\t\t\t\tprint dendObj[3].w[:]/volt\n",
      "\t\t\t\tprint 'Final Tau\\n',dendObj[0].tau[:]/ms\n",
      "\t\t\t\tprint dendObj[1].tau[:]/ms\n",
      "\t\t\t\tprint dendObj[2].tau[:]/ms\n",
      "\t\t\t\tprint dendObj[3].tau[:]/ms\n",
      "\t\t\t\tprint 'Final Res\\n',dendObj[0].r[:]/mV\n",
      "\t\t\t\tprint dendObj[1].r[:]/mV\n",
      "\t\t\t\tprint dendObj[2].r[:]/mV\n",
      "\t\t\t\tprint dendObj[3].r[:]/mV\t\t\n",
      "\t\t\t\tprint '\\n'\n",
      "\t\t\t\tprint '+++ Results +++'\n",
      "\t\t\t\tprint 'Spike results: TP:\\t',self.truePositiveSpikeResults,'\\tFP:\\t',self.falsePositiveSpikeResults,'\\tTN:\\t',self.trueNegativeSpikeResults,'\\tFN:\\t',self.falseNegativeSpikeResults\n",
      "\t\t\t\tprint 'totalSpikeIntervalsTested:\\t',self.totalSpikeIntervals,'\\ttotalCharsPresented:\\t',dictionaryLongitude\n",
      "\t\t\t\tprint 'True positives correct percentage (TP/totalSpikeIntervalsTested):\\t',Decimal(format(self.truePositiveSpikeResults, '.1f'))/Decimal(format(self.totalSpikeIntervals, '.1f')),'\\t(this is the percentage of all true positves that were found)'\n",
      "\t\t\t\tprint 'Total correct percentage (TP+TN/(totalSpikeIntervals*totalCharsPresented)):\\t',(Decimal(format(self.truePositiveSpikeResults, '.1f'))+Decimal(format(self.trueNegativeSpikeResults, '.1f')))/(Decimal(format(self.totalSpikeIntervals, '.1f'))*Decimal(format(dictionaryLongitude, '.1f')))\n",
      "\t\t\t\tprint '+++++++++++++++'\t\t\t\t\n",
      "\n",
      "\t\tclass DendriteNeuronModel(NeuronGroup):\n",
      "\t\t\tgeneralClockDt = self.generalClockDt\n",
      "\t\t\tdef __init__(self, params): \n",
      "\t\t\t\tNeuronGroup.__init__(self, N=15, model=dendriteEqs,clock=Clock(dt=self.generalClockDt))\n",
      "\t\t\t\t@network_operation(dt=self.generalClockDt)\n",
      "\t\t\t\tdef additionToNetwork(): \n",
      "\t\t\t\t\tplaceHolderForLaterContent = True\n",
      "\t\t\t\tself.contained_objects.append(additionToNetwork)\n",
      "\n",
      "\t\tclass SomaDirectNeuronModel(NeuronGroup): \n",
      "\t\t\tgeneralClockDt = self.generalClockDt\n",
      "\t\t\tdef __init__(self, params): \n",
      "\t\t\t\tNeuronGroup.__init__(self, N=4, model=directToSomaEqs,clock=Clock(dt=self.generalClockDt))\n",
      "\t\t\t\t@network_operation(dt=self.generalClockDt)\n",
      "\t\t\t\tdef additionToNetwork(): \n",
      "\t\t\t\t\tplaceHolderForLaterContent = True\n",
      "\t\t\t\t\t\t#print 'DtSoma','testTime',self.t,'\\tneuronIndex',neuronIndex,'\\tself.v[neuronIndex]',self.v[neuronIndex],'\\tsummedWandDirac',self.summedWandDirac\n",
      "\t\t\t\tself.contained_objects.append(additionToNetwork)\t\t\t\t\n",
      "\n",
      "\t\tdend = [None]*dictionaryLongitude\n",
      "\t\ttestDend = [None]*dictionaryLongitude\n",
      "\t\tfor firstLayerIndex in range(dictionaryLongitude):\n",
      "\t\t\tdend[firstLayerIndex] = DendriteNeuronModel(15)\n",
      "\t\t\ttestDend[firstLayerIndex] = DendriteNeuronModel(15)\t\t\n",
      "\t\tsomaDirect = SomaDirectNeuronModel(4)\n",
      "\t\ttestSomaDirect = SomaDirectNeuronModel(4)\n",
      "\n",
      "\t\t'''if self.evaluateClassifier == False:\n",
      "\t\t\tADDS = ADDSNeuronModel(self)\n",
      "\t\telse:\n",
      "\t\t\ttestADDS = ADDSNeuronModel(self)'''\n",
      "\n",
      "\t\tADDS = ADDSNeuronModel(self)\t\t\t\n",
      "\n",
      "\t\t# Synapses for lateral inhibition\n",
      "\t\t#S=Synapses(testADDS,testADDS,model='w:volt',pre='v+=w')\n",
      "\t\t'''S=Synapses(ADDS,ADDS,model='w:volt',pre='v+=w',clock=Clock(dt=self.generalClockDt))\n",
      "\t\tS.connect('i != j')\n",
      "\t\tS.w[:]=0.0*volt\t'''\n",
      "\n",
      "\t\tM = SpikeMonitor(ADDS)\n",
      "\t\tself.M = M # for ipython compatibility\n",
      "\t\t#testM = SpikeMonitor(testADDS)\n",
      "\t\t#self.testM = testM\n",
      "\t\tMv = StateMonitor(ADDS, 'V', record=True)\n",
      "\t\t#testMv = StateMonitor(testADDS, 'v', record=True)\n",
      "\t\tMDendI = StateMonitor(ADDS, 'DendI', record=True)\n",
      "\t\tMSynI = StateMonitor(ADDS, 'SynI', record=True)\n",
      "\t\tUmM3 = StateMonitor(ADDS, 'v2', record=True)\n",
      "\t\tself.UmM3 = UmM3 # for ipython compatibility\n",
      "\t\t#testUmM3 = StateMonitor(testADDS, 'v2', record=True)\n",
      "\t\t#self.testUmM3 = testUmM3\n",
      "\t\tsomaDirectM = SpikeMonitor(somaDirect)\n",
      "\t\tsomaDirectMv = StateMonitor(somaDirect, 'V', record=True)\n",
      "\t\t#synM = StateMonitor(S,'w',record=S['i!=j'])  # all synapses excluding autapses\n",
      "\t\tdendSpikeM = [None]*dictionaryLongitude\n",
      "\t\tdendVoltageM = [None]*dictionaryLongitude\n",
      "\t\t'''testDendSpikeM = [None]*dictionaryLongitude\n",
      "\t\ttestDendVoltageM = [None]*dictionaryLongitude'''\n",
      "\t\tfor firstLayerIndex in range(dictionaryLongitude):\n",
      "\t\t\tdendSpikeM[firstLayerIndex] = SpikeMonitor(dend[firstLayerIndex])\n",
      "\t\t\tdendVoltageM[firstLayerIndex] = StateMonitor(dend[firstLayerIndex], 'v', record=True)\n",
      "\t\t\t'''testDendSpikeM[firstLayerIndex] = SpikeMonitor(dend[firstLayerIndex])\n",
      "\t\t\ttestDendVoltageM[firstLayerIndex] = StateMonitor(dend[firstLayerIndex], 'v', record=True)'''\n",
      "\n",
      "\t\t\tneuralnet.add(dend[firstLayerIndex])\n",
      "\t\t\tneuralnet.add(dendSpikeM[firstLayerIndex])\n",
      "\t\t\tneuralnet.add(dendVoltageM[firstLayerIndex])\n",
      "\t\t\t'''neuralnet.add(testDend[firstLayerIndex])\n",
      "\t\t\tneuralnet.add(testDendSpikeM[firstLayerIndex])\n",
      "\t\t\tneuralnet.add(testDendVoltageM[firstLayerIndex])\t'''\t\t\n",
      "\n",
      "\t\tneuralnet.add(ADDS)\n",
      "\t\t#neuralnet.add(testADDS)\n",
      "\t\tneuralnet.add(M)\n",
      "\t\t#neuralnet.add(testM)\n",
      "\t\t#neuralnet.add(testMv)\n",
      "\t\tneuralnet.add(UmM3)\n",
      "\t\t#neuralnet.add(testUmM3)\n",
      "\t\tneuralnet.add(somaDirect)\n",
      "\t\t#neuralnet.add(testSomaDirect)\n",
      "\t\tneuralnet.add(somaDirectM)\n",
      "\t\tneuralnet.add(somaDirectMv)\n",
      "\t\t#neuralnet.add(S)\n",
      "\n",
      "\t\t#neuralnet.add(synM)\n",
      "\t\t#neuralnet.run(70*ms,report='text')\n",
      "\t\tself.runTime *= 10 # scaling factor\n",
      "\t\tneuralnet.run(self.runTime,report='text')\n",
      "\n",
      "\t\tADDS.OutputEvaluationResults(dend)\n",
      "\n",
      "\t\tneuronToPlot = 1\n",
      "\t\tcolors = ['r']*1+['g']*1+['b']*1+['y']*1\n",
      "\t\tcolors = ['blue', 'green', 'magenta', 'cyan']\n",
      "\t\tsubplot(221)\n",
      "\t\tplot(M.t/ms, M.i, '.')\n",
      "\t\t#plot(M.t/ms, M.i, '.')\n",
      "\t\t#plot(dendSpikeM[0].t/ms, dendSpikeM[0].i, '.')\n",
      "\t\tsubplot(222)\n",
      "\t\t#plot(testM.t/ms, testM.i, '.')\n",
      "\t\t#plot(testM.t/ms, testM.i, '.')\n",
      "\t\t#plot(dendSpikeM[0].t/ms, dendSpikeM[0].i, '.')\n",
      "\t\tsubplot(223)\n",
      "\t\t#plot(UmM3.t, UmM3.v2.T/mV)\n",
      "\t\t#plot(UmM3.t, UmM3.v2.T/mV)\n",
      "\t\t#plot(testMv.t, testMv.v.T/mV)\t\n",
      "\t\tplot(Mv.t, Mv.V.T/mV)\t\n",
      "\t\tlegend(['A','B','C','D'], loc='upper left')\t\t\t\n",
      "\t\txlabel('Time (ms)')\n",
      "\t\tylabel('Membrane Potential (mV)')\n",
      "\t\tsubplot(224)\n",
      "\t\t#plot(testUmM3.t, testUmM3.v2.T/mV)\t\n",
      "\t\tplot(UmM3.t, UmM3.v2.T/mV)\t\n",
      "\t\t#plot(testUmM3.t, testUmM3.v2Test.T/mV)\n",
      "\t\t#plot(testMv.t, testMv.vTest.T/mV)\n",
      "\t\t#plot(dendVoltageM[0].t, dendVoltageM[0].v.T/mV)\n",
      "\t\txlabel('Time (ms)')\n",
      "\t\tylabel('Membrane Potential (mV)')\n",
      "\t\t'''subplot(225)\n",
      "\t\tplot(somaDirectM.t/ms, somaDirectM.i, '.')\n",
      "\t\txlabel('Time (ms)')\n",
      "\t\tylabel('Membrane Potential (mV)')'''\n",
      "\t\t'''subplot(226)\n",
      "\t\tplot(somaDirectMv.t, somaDirectMv.v2.T/mV) \t\n",
      "\t\txlabel('Time (ms)')\n",
      "\t\tylabel('Membrane Potential (mV)')'''\n",
      "\t\t'''subplot(225)\n",
      "\t\tplot(synM.t / ms, synM[0, :].w / nS) \t\n",
      "\t\t#plot(testUmM3.t, testUmM3.v2Test.T/mV)\n",
      "\t\t#plot(testMv.t, testMv.vTest.T/mV)\n",
      "\t\t#plot(dendVoltageM[0].t, dendVoltageM[0].v.T/mV)\n",
      "\t\txlabel('Time (ms)')\n",
      "\t\tylabel('Membrane Potential (mV)')'''\n",
      "\t\tshow()\n",
      "\n",
      "\tdef __init__(self):\n",
      "\t\tself.run_model()\n",
      "\n",
      "def main():\n",
      "\trun_gupta_paper = gupta_paper()\n",
      "\n",
      "if  __name__ =='__main__':main()\n"
     ],
     "language": "python",
     "metadata": {},
     "outputs": [
      {
       "output_type": "stream",
       "stream": "stdout",
       "text": [
        "initial Weights\n",
        "[[ 0.84509015  0.7052044   0.6578227   0.92265676  0.79268387  0.90288541\n",
        "   0.95146727  0.78957724  0.88954141  0.8311265   0.69653006  0.62005442\n",
        "   0.80542711  0.53973972  0.59562201]\n",
        " [ 0.64512251  0.76372588  0.54742124  0.80263669  0.514002    0.70922379\n",
        "   0.89340101  0.74268066  0.52122095  0.52406248  0.80037223  0.6734766\n",
        "   0.68197117  0.86159067  0.83828793]\n",
        " [ 0.67627383  0.88527096  0.63281865  0.69994281  0.79857949  0.8553845\n",
        "   0.85553383  0.7437966   0.90211291  0.58591501  0.65374982  0.93935363\n",
        "   0.60917095  0.57743239  0.80963323]\n",
        " [ 0.75009171  0.58261691  0.91170547  0.88350331  0.90674559  0.9925079\n",
        "   0.84465     0.51580954  0.61789366  0.94426082  0.68347214  0.93623762\n",
        "   0.50804616  0.80294837  0.86444912]]\n",
        "Starting simulation for duration 1.55 s\n"
       ]
      },
      {
       "output_type": "stream",
       "stream": "stdout",
       "text": [
        "175. ms (11%) simulated in 10s, estimated 1m 19s remaining.\n"
       ]
      },
      {
       "output_type": "stream",
       "stream": "stdout",
       "text": [
        "TP found\tself.testSpikeIntervalCounter-1\t1 neuronIndex\t2\n",
        "TP found\t"
       ]
      },
      {
       "output_type": "stream",
       "stream": "stdout",
       "text": [
        "self.testSpikeIntervalCounter-1\t2 neuronIndex\t2\n",
        "0.344 s (22%) simulated in 20s, estimated 1m 10s remaining.\n"
       ]
      },
      {
       "output_type": "stream",
       "stream": "stdout",
       "text": [
        "TP found\tself.testSpikeIntervalCounter-1\t3 neuronIndex\t2\n",
        "0.508 s (32%) simulated in 30s, estimated 1m 2s remaining.\n"
       ]
      },
      {
       "output_type": "stream",
       "stream": "stdout",
       "text": [
        "0.653 s (42%) simulated in 40s, estimated 55s remaining.\n"
       ]
      },
      {
       "output_type": "stream",
       "stream": "stdout",
       "text": [
        "0.798 s (51%) simulated in 50s, estimated 47s remaining.\n"
       ]
      },
      {
       "output_type": "stream",
       "stream": "stdout",
       "text": [
        "TP found\tself.testSpikeIntervalCounter-1\t7 neuronIndex\t1\n",
        "TP found\t"
       ]
      },
      {
       "output_type": "stream",
       "stream": "stdout",
       "text": [
        "self.testSpikeIntervalCounter-1\t8 neuronIndex\t1\n",
        "0.938 s (60%) simulated in 1m 0s, estimated 39s remaining.\n"
       ]
      },
      {
       "output_type": "stream",
       "stream": "stdout",
       "text": [
        "TP found\tself.testSpikeIntervalCounter-1\t9 neuronIndex\t1\n",
        "1.073 s (69%) simulated in 1m 10s, estimated 31s remaining.\n"
       ]
      },
      {
       "output_type": "stream",
       "stream": "stdout",
       "text": [
        "TP found\tself.testSpikeIntervalCounter-1\t10 neuronIndex\t3\n",
        "1.197 s (77%) simulated in 1m 20s, estimated 24s remaining.\n"
       ]
      },
      {
       "output_type": "stream",
       "stream": "stdout",
       "text": [
        "TP found\tself.testSpikeIntervalCounter-1\t11 neuronIndex\t3\n",
        "TP found\t"
       ]
      },
      {
       "output_type": "stream",
       "stream": "stdout",
       "text": [
        "self.testSpikeIntervalCounter-1\t12 neuronIndex\t3\n",
        "1.319 s (85%) simulated in 1m 30s, estimated 16s remaining.\n"
       ]
      },
      {
       "output_type": "stream",
       "stream": "stdout",
       "text": [
        "1.442 s (93%) simulated in 1m 40s, estimated 8s remaining.\n"
       ]
      },
      {
       "output_type": "stream",
       "stream": "stdout",
       "text": [
        "1.55 s (100%) simulated in 1m 48s\n"
       ]
      },
      {
       "output_type": "stream",
       "stream": "stderr",
       "text": [
        "WARNING  py.warnings: C:\\Python27\\lib\\site-packages\\brian2\\units\\fundamentalunits.py:1479: UserWarning: As a workaround for a bug in matplotlib 1.3.1, calling \"ravel()\" on a quantity will return unit-less values. If you get this warning during plotting, consider removing the units before plotting, e.g. by dividing by the unit. If you are explicitly calling \"ravel()\", consider using \"flatten()\" instead.\n",
        "  warn(('As a workaround for a bug in matplotlib 1.3.1, calling '\n",
        "\n"
       ]
      },
      {
       "output_type": "stream",
       "stream": "stderr",
       "text": [
        "WARNING:py.warnings:C:\\Python27\\lib\\site-packages\\brian2\\units\\fundamentalunits.py:1479: UserWarning: As a workaround for a bug in matplotlib 1.3.1, calling \"ravel()\" on a quantity will return unit-less values. If you get this warning during plotting, consider removing the units before plotting, e.g. by dividing by the unit. If you are explicitly calling \"ravel()\", consider using \"flatten()\" instead.\n",
        "  warn(('As a workaround for a bug in matplotlib 1.3.1, calling '\n",
        "\n"
       ]
      },
      {
       "output_type": "stream",
       "stream": "stdout",
       "text": [
        "Final Weights\n",
        "[ 0.90433194  0.6139531   0.50387484  0.55220372  0.51213536  0.85443374\n",
        "  0.99955922  0.5039825   0.73091913  0.9780236   0.5241028   0.71571812\n",
        "  0.93782861  0.51210244  0.73074697]\n",
        "[ 0.          0.          0.03412608  0.          0.90455366  0.78683668\n",
        "  0.          0.95912629  0.7282637   0.          0.78548583  0.78935491\n",
        "  0.03193823  0.00609877  0.17287094]\n",
        "[ 0.4474444   0.          0.98135641  0.          0.96315942  0.          0.\n",
        "  0.          0.15930208  0.          0.77299245  0.          0.\n",
        "  0.71739497  0.02804206]\n",
        "[ 0.          0.          0.99815102  0.          0.9239562   0.          0.\n",
        "  0.32862838  0.29682383  0.          0.85108903  0.          0.          0.\n",
        "  0.6687179 ]\n",
        "Final Tau\n",
        "[  4.67870579  12.80931328  15.89150457  14.53829579  15.66020997\n",
        "   6.07585538   2.0123418   15.88849011   9.53426444   2.6153392\n",
        "  15.32512158   9.95989264   3.74079895  15.66113156   9.53908472]\n",
        "[  9.38715598  12.1194624    9.34555739   6.3921125    5.61075905\n",
        "   4.06988445   9.88122329   3.54626289   6.41301412   7.44992802\n",
        "  10.1151254    3.96914614   3.41772316   4.7844492    2.40562813]\n",
        "[ 14.7112847   14.11913186   2.72683686  10.43654572   3.43626265\n",
        "  14.20735373   9.15843206   4.26396028   3.39998086   7.5902114\n",
        "  10.85008977   7.25459199   9.86718901   3.20308826  10.16608643]\n",
        "[ 15.97156807   4.01171718   2.07503494   9.24935852   5.08599601\n",
        "  13.72643044  13.71622469   7.36132416   5.76486557   7.2621342\n",
        "   8.04307852  11.68604314   5.89535223  10.07822174  15.44403097]\n",
        "Final Res\n",
        "[ 5.28618924  7.07014396  7.67118426  7.41054119  7.62696131  5.62546396\n",
        "  4.55408732  7.67060873  6.39667963  4.73398033  7.56265998  6.48674751\n",
        "  5.04468982  7.62713777  6.39770456]\n",
        "[ 6.36534465  6.93170042  6.35646422  5.69956225  5.51481581  5.13093667\n",
        "  6.47016506  4.99283791  5.70442879  5.94150634  6.51938451  5.10472189\n",
        "  4.95819508  5.31264187  4.67271447]\n",
        "[ 7.44412582  7.32882233  4.76605631  6.58661617  4.96321112  7.34606257\n",
        "  6.31640753  5.1810014   4.95338848  5.97297472  6.67245869  5.8974608\n",
        "  6.46720377  4.89962516  6.53007485]\n",
        "[ 7.68646215  5.11581952  4.57335711  6.33589406  5.38732016  7.25180984\n",
        "  7.2498024   5.92156072  5.55171007  5.89916649  6.07367171  6.84386832\n",
        "  5.58276752  6.51163569  7.58550996]\n",
        "\n",
        "\n",
        "+++ Results +++\n",
        "Spike results: TP:\t9 \tFP:\t3 \tTN:\t33 \tFN:\t3\n",
        "totalSpikeIntervalsTested:\t12 \ttotalCharsPresented:\t4\n",
        "True positives correct percentage (TP/totalSpikeIntervalsTested):\t0.75 \t(this is the percentage of all true positves that were found)\n",
        "Total correct percentage (TP+TN/(totalSpikeIntervals*totalCharsPresented)):\t0.875\n",
        "+++++++++++++++\n"
       ]
      },
      {
       "metadata": {},
       "output_type": "display_data",
       "png": "[encoded data removed]",
       "text": [
        "<matplotlib.figure.Figure at 0xe55aed0>"
       ]
      }
     ],
     "prompt_number": 3
    },
    {
     "cell_type": "markdown",
     "metadata": {},
     "source": [
      "We will now save all the important variables : neuron voltages, neuron spikes, and weights to a file called simulation.hdf5\n",
      "while saving the data, we will generate downsampled arrays, so when we plot we don't use that much RAM.\n",
      "if you are on ubuntu you can use:\n",
      "\n",
      "    hdfview simulation.hdf5\n",
      "to explore the dataset.\n",
      "we haven't implemented a method for downsampling sparse arrays yet, so spiketime isn't save , but it shouldn't be to hard to do that"
     ]
    },
    {
     "cell_type": "code",
     "collapsed": false,
     "input": [
      "bp = brianPlotter('simulation.hdf5')\n",
      "\n",
      "gupta_paper = gupta_paper()\n",
      "\n",
      "# spikeVoltage and testSpikeVoltage used for reformatting to avoid formatting issue with plotting\n",
      "spikeVoltage = []\n",
      "for timeIndex in range(len(gupta_paper.M.i[:])):\n",
      "\tspikeVoltage.append(gupta_paper.M.i[timeIndex].tolist())\n",
      "\n",
      "'''testSpikeVoltage = []\n",
      "for timeIndex in range(len(gupta_paper.testM.i[:])):\n",
      "\ttestSpikeVoltage.append(gupta_paper.testM.i[timeIndex].tolist())'''\n",
      "\n",
      "spikes = zip(spikeVoltage, gupta_paper.M.t)\n",
      "#testSpikes = zip(testSpikeVoltage, gupta_paper.testM.t)\n",
      "\n",
      "bp.saveData('spikes', np.asarray(spikes), downsample=False);\n",
      "#bp.saveData('testSpikes', np.asarray(testSpikes), downsample=False);\n",
      "\n",
      "voltage =  np.asarray(gupta_paper.UmM3.v2.T/mV)\n",
      "#testVoltage =  np.asarray(gupta_paper.testUmM3.v2.T/mV)\n",
      "#print 'voltage\\t',voltage\n",
      "bp.saveData('voltage',voltage)\n",
      "#bp.saveData('testVoltage',testVoltage)\n",
      "\n",
      "del bp #you have to delete the object so the file is closed"
     ],
     "language": "python",
     "metadata": {},
     "outputs": [
      {
       "output_type": "stream",
       "stream": "stdout",
       "text": [
        "Starting simulation for duration 15.5 s\n"
       ]
      },
      {
       "output_type": "stream",
       "stream": "stdout",
       "text": [
        "50. ms (0%) simulated in 10s, estimated 52m 22s remaining.\n"
       ]
      },
      {
       "output_type": "stream",
       "stream": "stdout",
       "text": [
        "106.36363636 ms (0%) simulated in 20s, estimated 49m 5s remaining.\n"
       ]
      },
      {
       "output_type": "stream",
       "stream": "stdout",
       "text": [
        "155.45454545 ms (1%) simulated in 30s, estimated 49m 58s remaining.\n"
       ]
      },
      {
       "output_type": "stream",
       "stream": "stdout",
       "text": [
        "TP found\tself.testSpikeIntervalCounter-1\t1 neuronIndex\t2\n",
        "205.45454545 ms (1%) simulated in 40s, estimated 50m 7s remaining.\n"
       ]
      },
      {
       "output_type": "stream",
       "stream": "stdout",
       "text": [
        "255.45454545 ms (1%) simulated in 50s, estimated 50m 9s remaining.\n"
       ]
      },
      {
       "output_type": "stream",
       "stream": "stdout",
       "text": [
        "TP found\tself.testSpikeIntervalCounter-1\t2 neuronIndex\t2\n",
        "310.90909091 ms (2%) simulated in 1m 0s, estimated 49m 15s remaining.\n"
       ]
      },
      {
       "output_type": "stream",
       "stream": "stdout",
       "text": [
        "TP found\tself.testSpikeIntervalCounter-1\t3 neuronIndex\t2\n",
        "0.37 s (2%) simulated in 1m 10s, estimated 48m 3s remaining.\n"
       ]
      },
      {
       "output_type": "stream",
       "stream": "stdout",
       "text": [
        "0.43090909 s (2%) simulated in 1m 20s, estimated 46m 56s remaining.\n"
       ]
      },
      {
       "output_type": "stream",
       "stream": "stdout",
       "text": [
        "0.49090909 s (3%) simulated in 1m 30s, estimated 46m 10s remaining.\n"
       ]
      },
      {
       "output_type": "stream",
       "stream": "stdout",
       "text": [
        "0.55 s (3%) simulated in 1m 40s, estimated 45m 36s remaining.\n"
       ]
      },
      {
       "output_type": "stream",
       "stream": "stdout",
       "text": [
        "0.60636364 s (3%) simulated in 1m 50s, estimated 45m 20s remaining.\n"
       ]
      },
      {
       "output_type": "stream",
       "stream": "stdout",
       "text": [
        "0.66181818 s (4%) simulated in 2m 0s, estimated 45m 10s remaining.\n"
       ]
      },
      {
       "output_type": "stream",
       "stream": "stdout",
       "text": [
        "0.71636364 s (4%) simulated in 2m 10s, estimated 45m 1s remaining.\n"
       ]
      },
      {
       "output_type": "stream",
       "stream": "stdout",
       "text": [
        "TP found\tself.testSpikeIntervalCounter-1\t7 neuronIndex\t1\n",
        "0.77272727 s (4%) simulated in 2m 21s, estimated 44m 47s remaining.\n"
       ]
      },
      {
       "output_type": "stream",
       "stream": "stdout",
       "text": [
        "TP found\tself.testSpikeIntervalCounter-1\t8 neuronIndex\t1\n",
        "0.82727273 s (5%) simulated in 2m 31s, estimated 44m 38s remaining.\n"
       ]
      },
      {
       "output_type": "stream",
       "stream": "stdout",
       "text": [
        "0.88090909 s (5%) simulated in 2m 41s, estimated 44m 33s remaining.\n"
       ]
      },
      {
       "output_type": "stream",
       "stream": "stdout",
       "text": [
        "TP found\tself.testSpikeIntervalCounter-1\t9 neuronIndex\t1\n",
        "0.93454545 s (6%) simulated in 2m 51s, estimated 44m 27s remaining.\n"
       ]
      },
      {
       "output_type": "stream",
       "stream": "stdout",
       "text": [
        "0.98636364 s (6%) simulated in 3m 1s, estimated 44m 28s remaining.\n"
       ]
      },
      {
       "output_type": "stream",
       "stream": "stdout",
       "text": [
        "TP found\tself.testSpikeIntervalCounter-1\t10 neuronIndex\t3\n",
        "1.01909091 s (6%) simulated in 3m 11s, estimated 45m 20s remaining.\n"
       ]
      },
      {
       "output_type": "stream",
       "stream": "stdout",
       "text": [
        "1.06090909 s (6%) simulated in 3m 21s, estimated 45m 42s remaining.\n"
       ]
      },
      {
       "output_type": "stream",
       "stream": "stdout",
       "text": [
        "TP found\tself.testSpikeIntervalCounter-1\t11 neuronIndex\t3\n",
        "1.10363636 s (7%) simulated in 3m 31s, estimated 46m 1s remaining.\n"
       ]
      },
      {
       "output_type": "stream",
       "stream": "stdout",
       "text": [
        "1.14181818 s (7%) simulated in 3m 41s, estimated 46m 29s remaining.\n"
       ]
      },
      {
       "output_type": "stream",
       "stream": "stdout",
       "text": [
        "TP found\tself.testSpikeIntervalCounter-1\t12 neuronIndex\t3\n",
        "1.19272727 s (7%) simulated in 3m 51s, estimated 46m 21s remaining.\n"
       ]
      },
      {
       "output_type": "stream",
       "stream": "stdout",
       "text": [
        "1.24090909 s (8%) simulated in 4m 1s, estimated 46m 20s remaining.\n"
       ]
      },
      {
       "output_type": "stream",
       "stream": "stdout",
       "text": [
        "1.28727273 s (8%) simulated in 4m 12s, estimated 46m 24s remaining.\n"
       ]
      },
      {
       "output_type": "stream",
       "stream": "stdout",
       "text": [
        "1.33 s (8%) simulated in 4m 22s, estimated 46m 34s remaining.\n"
       ]
      },
      {
       "output_type": "stream",
       "stream": "stdout",
       "text": [
        "1.37818182 s (8%) simulated in 4m 32s, estimated 46m 31s remaining.\n"
       ]
      },
      {
       "output_type": "stream",
       "stream": "stdout",
       "text": [
        "1.42545455 s (9%) simulated in 4m 42s, estimated 46m 30s remaining.\n"
       ]
      },
      {
       "output_type": "stream",
       "stream": "stdout",
       "text": [
        "1.47454545 s (9%) simulated in 4m 52s, estimated 46m 24s remaining.\n"
       ]
      },
      {
       "output_type": "stream",
       "stream": "stdout",
       "text": [
        "1.51909091 s (9%) simulated in 5m 2s, estimated 46m 27s remaining.\n"
       ]
      },
      {
       "output_type": "stream",
       "stream": "stdout",
       "text": [
        "1.56363636 s (10%) simulated in 5m 13s, estimated 46m 30s remaining.\n"
       ]
      },
      {
       "output_type": "stream",
       "stream": "stdout",
       "text": [
        "1.61090909 s (10%) simulated in 5m 23s, estimated 46m 26s remaining.\n"
       ]
      },
      {
       "output_type": "stream",
       "stream": "stdout",
       "text": [
        "1.65454545 s (10%) simulated in 5m 33s, estimated 46m 28s remaining.\n"
       ]
      },
      {
       "output_type": "stream",
       "stream": "stdout",
       "text": [
        "1.70181818 s (10%) simulated in 5m 43s, estimated 46m 24s remaining.\n"
       ]
      },
      {
       "output_type": "stream",
       "stream": "stdout",
       "text": [
        "1.74 s (11%) simulated in 5m 53s, estimated 46m 35s remaining.\n"
       ]
      },
      {
       "output_type": "stream",
       "stream": "stdout",
       "text": [
        "1.78454545 s (11%) simulated in 6m 3s, estimated 46m 35s remaining.\n"
       ]
      },
      {
       "output_type": "stream",
       "stream": "stdout",
       "text": [
        "1.82818182 s (11%) simulated in 6m 13s, estimated 46m 35s remaining.\n"
       ]
      },
      {
       "output_type": "stream",
       "stream": "stdout",
       "text": [
        "1.86909091 s (12%) simulated in 6m 23s, estimated 46m 38s remaining.\n"
       ]
      },
      {
       "output_type": "stream",
       "stream": "stdout",
       "text": [
        "1.91363636 s (12%) simulated in 6m 33s, estimated 46m 35s remaining.\n"
       ]
      },
      {
       "output_type": "stream",
       "stream": "stdout",
       "text": [
        "1.95909091 s (12%) simulated in 6m 43s, estimated 46m 32s remaining.\n"
       ]
      },
      {
       "output_type": "stream",
       "stream": "stdout",
       "text": [
        "2.00363636 s (12%) simulated in 6m 54s, estimated 46m 29s remaining.\n"
       ]
      },
      {
       "output_type": "stream",
       "stream": "stdout",
       "text": [
        "2.04818182 s (13%) simulated in 7m 4s, estimated 46m 25s remaining.\n"
       ]
      },
      {
       "output_type": "stream",
       "stream": "stdout",
       "text": [
        "2.09181818 s (13%) simulated in 7m 14s, estimated 46m 23s remaining.\n"
       ]
      },
      {
       "output_type": "stream",
       "stream": "stdout",
       "text": [
        "2.13454545 s (13%) simulated in 7m 24s, estimated 46m 23s remaining.\n"
       ]
      },
      {
       "output_type": "stream",
       "stream": "stdout",
       "text": [
        "2.17818182 s (14%) simulated in 7m 34s, estimated 46m 20s remaining.\n"
       ]
      },
      {
       "output_type": "stream",
       "stream": "stdout",
       "text": [
        "2.22181818 s (14%) simulated in 7m 44s, estimated 46m 18s remaining.\n"
       ]
      },
      {
       "output_type": "stream",
       "stream": "stdout",
       "text": [
        "2.26454545 s (14%) simulated in 7m 54s, estimated 46m 16s remaining.\n"
       ]
      },
      {
       "output_type": "stream",
       "stream": "stdout",
       "text": [
        "2.30727273 s (14%) simulated in 8m 5s, estimated 46m 14s remaining.\n"
       ]
      },
      {
       "output_type": "stream",
       "stream": "stdout",
       "text": [
        "2.35 s (15%) simulated in 8m 15s, estimated 46m 11s remaining.\n"
       ]
      },
      {
       "output_type": "stream",
       "stream": "stdout",
       "text": [
        "2.39181818 s (15%) simulated in 8m 25s, estimated 46m 9s remaining.\n"
       ]
      },
      {
       "output_type": "stream",
       "stream": "stdout",
       "text": [
        "2.43363636 s (15%) simulated in 8m 35s, estimated 46m 7s remaining.\n"
       ]
      },
      {
       "output_type": "stream",
       "stream": "stdout",
       "text": [
        "2.47454545 s (15%) simulated in 8m 45s, estimated 46m 6s remaining.\n"
       ]
      },
      {
       "output_type": "stream",
       "stream": "stdout",
       "text": [
        "2.51636364 s (16%) simulated in 8m 55s, estimated 46m 4s remaining.\n"
       ]
      },
      {
       "output_type": "stream",
       "stream": "stdout",
       "text": [
        "2.55727273 s (16%) simulated in 9m 5s, estimated 46m 2s remaining.\n"
       ]
      },
      {
       "output_type": "stream",
       "stream": "stdout",
       "text": [
        "2.59727273 s (16%) simulated in 9m 15s, estimated 46m 2s remaining.\n"
       ]
      },
      {
       "output_type": "stream",
       "stream": "stdout",
       "text": [
        "2.63727273 s (17%) simulated in 9m 25s, estimated 46m 0s remaining.\n"
       ]
      },
      {
       "output_type": "stream",
       "stream": "stdout",
       "text": [
        "2.67727273 s (17%) simulated in 9m 35s, estimated 45m 59s remaining.\n"
       ]
      },
      {
       "output_type": "stream",
       "stream": "stdout",
       "text": [
        "2.71727273 s (17%) simulated in 9m 46s, estimated 45m 57s remaining.\n"
       ]
      },
      {
       "output_type": "stream",
       "stream": "stdout",
       "text": [
        "2.75727273 s (17%) simulated in 9m 56s, estimated 45m 55s remaining.\n"
       ]
      },
      {
       "output_type": "stream",
       "stream": "stdout",
       "text": [
        "2.79727273 s (18%) simulated in 10m 6s, estimated 45m 54s remaining.\n"
       ]
      },
      {
       "output_type": "stream",
       "stream": "stdout",
       "text": [
        "2.83636364 s (18%) simulated in 10m 16s, estimated 45m 52s remaining.\n"
       ]
      },
      {
       "output_type": "stream",
       "stream": "stdout",
       "text": [
        "2.87545455 s (18%) simulated in 10m 26s, estimated 45m 51s remaining.\n"
       ]
      },
      {
       "output_type": "stream",
       "stream": "stdout",
       "text": [
        "2.91454545 s (18%) simulated in 10m 36s, estimated 45m 50s remaining.\n"
       ]
      },
      {
       "output_type": "stream",
       "stream": "stdout",
       "text": [
        "2.95363636 s (19%) simulated in 10m 46s, estimated 45m 48s remaining.\n"
       ]
      },
      {
       "output_type": "stream",
       "stream": "stdout",
       "text": [
        "2.99272727 s (19%) simulated in 10m 57s, estimated 45m 46s remaining.\n"
       ]
      },
      {
       "output_type": "stream",
       "stream": "stdout",
       "text": [
        "3.03090909 s (19%) simulated in 11m 7s, estimated 45m 45s remaining.\n"
       ]
      },
      {
       "output_type": "stream",
       "stream": "stdout",
       "text": [
        "3.06727273 s (19%) simulated in 11m 17s, estimated 45m 45s remaining.\n"
       ]
      },
      {
       "output_type": "stream",
       "stream": "stdout",
       "text": [
        "3.10545455 s (20%) simulated in 11m 27s, estimated 45m 44s remaining.\n"
       ]
      },
      {
       "output_type": "stream",
       "stream": "stdout",
       "text": [
        "3.14272727 s (20%) simulated in 11m 37s, estimated 45m 44s remaining.\n"
       ]
      },
      {
       "output_type": "stream",
       "stream": "stdout",
       "text": [
        "3.18 s (20%) simulated in 11m 47s, estimated 45m 42s remaining.\n"
       ]
      },
      {
       "output_type": "stream",
       "stream": "stdout",
       "text": [
        "3.21636364 s (20%) simulated in 11m 57s, estimated 45m 42s remaining.\n"
       ]
      },
      {
       "output_type": "stream",
       "stream": "stdout",
       "text": [
        "3.25272727 s (20%) simulated in 12m 8s, estimated 45m 42s remaining.\n"
       ]
      },
      {
       "output_type": "stream",
       "stream": "stdout",
       "text": [
        "3.28818182 s (21%) simulated in 12m 18s, estimated 45m 42s remaining.\n"
       ]
      },
      {
       "output_type": "stream",
       "stream": "stdout",
       "text": [
        "3.32272727 s (21%) simulated in 12m 28s, estimated 45m 42s remaining.\n"
       ]
      },
      {
       "output_type": "stream",
       "stream": "stdout",
       "text": [
        "3.35818182 s (21%) simulated in 12m 38s, estimated 45m 42s remaining.\n"
       ]
      },
      {
       "output_type": "stream",
       "stream": "stdout",
       "text": [
        "3.39363636 s (21%) simulated in 12m 48s, estimated 45m 41s remaining.\n"
       ]
      },
      {
       "output_type": "stream",
       "stream": "stdout",
       "text": [
        "3.42909091 s (22%) simulated in 12m 58s, estimated 45m 40s remaining.\n"
       ]
      },
      {
       "output_type": "stream",
       "stream": "stdout",
       "text": [
        "3.46363636 s (22%) simulated in 13m 8s, estimated 45m 40s remaining.\n"
       ]
      },
      {
       "output_type": "stream",
       "stream": "stdout",
       "text": [
        "3.49818182 s (22%) simulated in 13m 18s, estimated 45m 40s remaining.\n"
       ]
      },
      {
       "output_type": "stream",
       "stream": "stdout",
       "text": [
        "3.53181818 s (22%) simulated in 13m 28s, estimated 45m 41s remaining.\n"
       ]
      },
      {
       "output_type": "stream",
       "stream": "stdout",
       "text": [
        "3.56727273 s (23%) simulated in 13m 39s, estimated 45m 40s remaining.\n"
       ]
      },
      {
       "output_type": "stream",
       "stream": "stdout",
       "text": [
        "3.60272727 s (23%) simulated in 13m 49s, estimated 45m 38s remaining.\n"
       ]
      },
      {
       "output_type": "stream",
       "stream": "stdout",
       "text": [
        "3.63727273 s (23%) simulated in 13m 59s, estimated 45m 38s remaining.\n"
       ]
      },
      {
       "output_type": "stream",
       "stream": "stdout",
       "text": [
        "3.67181818 s (23%) simulated in 14m 9s, estimated 45m 37s remaining.\n"
       ]
      },
      {
       "output_type": "stream",
       "stream": "stdout",
       "text": [
        "3.70636364 s (23%) simulated in 14m 19s, estimated 45m 36s remaining.\n"
       ]
      },
      {
       "output_type": "stream",
       "stream": "stdout",
       "text": [
        "3.74090909 s (24%) simulated in 14m 29s, estimated 45m 34s remaining.\n"
       ]
      },
      {
       "output_type": "stream",
       "stream": "stdout",
       "text": [
        "3.77454545 s (24%) simulated in 14m 40s, estimated 45m 34s remaining.\n"
       ]
      },
      {
       "output_type": "stream",
       "stream": "stdout",
       "text": [
        "3.80818182 s (24%) simulated in 14m 50s, estimated 45m 33s remaining.\n"
       ]
      },
      {
       "output_type": "stream",
       "stream": "stdout",
       "text": [
        "3.84090909 s (24%) simulated in 15m 0s, estimated 45m 33s remaining.\n"
       ]
      },
      {
       "output_type": "stream",
       "stream": "stdout",
       "text": [
        "3.87454545 s (24%) simulated in 15m 10s, estimated 45m 32s remaining.\n"
       ]
      },
      {
       "output_type": "stream",
       "stream": "stdout",
       "text": [
        "3.90727273 s (25%) simulated in 15m 20s, estimated 45m 32s remaining.\n"
       ]
      },
      {
       "output_type": "stream",
       "stream": "stdout",
       "text": [
        "3.94 s (25%) simulated in 15m 30s, estimated 45m 31s remaining.\n"
       ]
      },
      {
       "output_type": "stream",
       "stream": "stdout",
       "text": [
        "3.97090909 s (25%) simulated in 15m 40s, estimated 45m 32s remaining.\n"
       ]
      },
      {
       "output_type": "stream",
       "stream": "stdout",
       "text": [
        "4.00454545 s (25%) simulated in 15m 51s, estimated 45m 30s remaining.\n"
       ]
      },
      {
       "output_type": "stream",
       "stream": "stdout",
       "text": [
        "4.03818182 s (26%) simulated in 16m 1s, estimated 45m 29s remaining.\n"
       ]
      },
      {
       "output_type": "stream",
       "stream": "stdout",
       "text": [
        "4.07090909 s (26%) simulated in 16m 11s, estimated 45m 28s remaining.\n"
       ]
      },
      {
       "output_type": "stream",
       "stream": "stdout",
       "text": [
        "4.10363636 s (26%) simulated in 16m 21s, estimated 45m 26s remaining.\n"
       ]
      },
      {
       "output_type": "stream",
       "stream": "stdout",
       "text": [
        "4.13545455 s (26%) simulated in 16m 31s, estimated 45m 25s remaining.\n"
       ]
      },
      {
       "output_type": "stream",
       "stream": "stdout",
       "text": [
        "4.16727273 s (26%) simulated in 16m 41s, estimated 45m 25s remaining.\n"
       ]
      },
      {
       "output_type": "stream",
       "stream": "stdout",
       "text": [
        "4.19909091 s (27%) simulated in 16m 51s, estimated 45m 23s remaining.\n"
       ]
      },
      {
       "output_type": "stream",
       "stream": "stdout",
       "text": [
        "4.23181818 s (27%) simulated in 17m 2s, estimated 45m 22s remaining.\n"
       ]
      },
      {
       "output_type": "stream",
       "stream": "stdout",
       "text": [
        "4.26363636 s (27%) simulated in 17m 12s, estimated 45m 21s remaining.\n"
       ]
      },
      {
       "output_type": "stream",
       "stream": "stdout",
       "text": [
        "4.29545455 s (27%) simulated in 17m 22s, estimated 45m 20s remaining.\n"
       ]
      },
      {
       "output_type": "stream",
       "stream": "stdout",
       "text": [
        "4.32818182 s (27%) simulated in 17m 32s, estimated 45m 18s remaining.\n"
       ]
      },
      {
       "output_type": "stream",
       "stream": "stdout",
       "text": [
        "4.36 s (28%) simulated in 17m 42s, estimated 45m 16s remaining.\n"
       ]
      },
      {
       "output_type": "stream",
       "stream": "stdout",
       "text": [
        "4.39181818 s (28%) simulated in 17m 53s, estimated 45m 14s remaining.\n"
       ]
      },
      {
       "output_type": "stream",
       "stream": "stdout",
       "text": [
        "4.42272727 s (28%) simulated in 18m 3s, estimated 45m 13s remaining.\n"
       ]
      },
      {
       "output_type": "stream",
       "stream": "stdout",
       "text": [
        "4.45454545 s (28%) simulated in 18m 13s, estimated 45m 12s remaining.\n"
       ]
      },
      {
       "output_type": "stream",
       "stream": "stdout",
       "text": [
        "4.48545455 s (28%) simulated in 18m 23s, estimated 45m 10s remaining.\n"
       ]
      },
      {
       "output_type": "stream",
       "stream": "stdout",
       "text": [
        "4.51636364 s (29%) simulated in 18m 33s, estimated 45m 9s remaining.\n"
       ]
      },
      {
       "output_type": "stream",
       "stream": "stdout",
       "text": [
        "4.54727273 s (29%) simulated in 18m 43s, estimated 45m 7s remaining.\n"
       ]
      },
      {
       "output_type": "stream",
       "stream": "stdout",
       "text": [
        "4.57818182 s (29%) simulated in 18m 54s, estimated 45m 6s remaining.\n"
       ]
      },
      {
       "output_type": "stream",
       "stream": "stdout",
       "text": [
        "4.60909091 s (29%) simulated in 19m 4s, estimated 45m 4s remaining.\n"
       ]
      },
      {
       "output_type": "stream",
       "stream": "stdout",
       "text": [
        "4.64 s (29%) simulated in 19m 14s, estimated 45m 2s remaining.\n"
       ]
      },
      {
       "output_type": "stream",
       "stream": "stdout",
       "text": [
        "4.67 s (30%) simulated in 19m 24s, estimated 45m 0s remaining.\n"
       ]
      },
      {
       "output_type": "stream",
       "stream": "stdout",
       "text": [
        "4.7 s (30%) simulated in 19m 34s, estimated 44m 59s remaining.\n"
       ]
      },
      {
       "output_type": "stream",
       "stream": "stdout",
       "text": [
        "4.73090909 s (30%) simulated in 19m 44s, estimated 44m 57s remaining.\n"
       ]
      },
      {
       "output_type": "stream",
       "stream": "stdout",
       "text": [
        "4.76090909 s (30%) simulated in 19m 54s, estimated 44m 55s remaining.\n"
       ]
      },
      {
       "output_type": "stream",
       "stream": "stdout",
       "text": [
        "4.79181818 s (30%) simulated in 20m 5s, estimated 44m 53s remaining.\n"
       ]
      },
      {
       "output_type": "stream",
       "stream": "stdout",
       "text": [
        "4.82181818 s (31%) simulated in 20m 15s, estimated 44m 51s remaining.\n"
       ]
      },
      {
       "output_type": "stream",
       "stream": "stdout",
       "text": [
        "4.85090909 s (31%) simulated in 20m 25s, estimated 44m 50s remaining.\n"
       ]
      },
      {
       "output_type": "stream",
       "stream": "stdout",
       "text": [
        "4.88090909 s (31%) simulated in 20m 35s, estimated 44m 48s remaining.\n"
       ]
      },
      {
       "output_type": "stream",
       "stream": "stdout",
       "text": [
        "4.91090909 s (31%) simulated in 20m 45s, estimated 44m 46s remaining.\n"
       ]
      },
      {
       "output_type": "stream",
       "stream": "stdout",
       "text": [
        "4.94090909 s (31%) simulated in 20m 56s, estimated 44m 44s remaining.\n"
       ]
      },
      {
       "output_type": "stream",
       "stream": "stdout",
       "text": [
        "4.97 s (32%) simulated in 21m 6s, estimated 44m 43s remaining.\n"
       ]
      },
      {
       "output_type": "stream",
       "stream": "stdout",
       "text": [
        "5. s (32%) simulated in 21m 16s, estimated 44m 40s remaining.\n"
       ]
      },
      {
       "output_type": "stream",
       "stream": "stdout",
       "text": [
        "5.03 s (32%) simulated in 21m 26s, estimated 44m 38s remaining.\n"
       ]
      },
      {
       "output_type": "stream",
       "stream": "stdout",
       "text": [
        "5.06 s (32%) simulated in 21m 37s, estimated 44m 36s remaining.\n"
       ]
      },
      {
       "output_type": "stream",
       "stream": "stdout",
       "text": [
        "5.08818182 s (32%) simulated in 21m 47s, estimated 44m 35s remaining.\n"
       ]
      },
      {
       "output_type": "stream",
       "stream": "stdout",
       "text": [
        "5.11636364 s (33%) simulated in 21m 57s, estimated 44m 33s remaining.\n"
       ]
      },
      {
       "output_type": "stream",
       "stream": "stdout",
       "text": [
        "5.14545455 s (33%) simulated in 22m 7s, estimated 44m 31s remaining.\n"
       ]
      },
      {
       "output_type": "stream",
       "stream": "stdout",
       "text": [
        "5.17363636 s (33%) simulated in 22m 17s, estimated 44m 30s remaining.\n"
       ]
      },
      {
       "output_type": "stream",
       "stream": "stdout",
       "text": [
        "5.20272727 s (33%) simulated in 22m 27s, estimated 44m 28s remaining.\n"
       ]
      },
      {
       "output_type": "stream",
       "stream": "stdout",
       "text": [
        "5.23090909 s (33%) simulated in 22m 37s, estimated 44m 26s remaining.\n"
       ]
      },
      {
       "output_type": "stream",
       "stream": "stdout",
       "text": [
        "5.25636364 s (33%) simulated in 22m 47s, estimated 44m 26s remaining.\n"
       ]
      },
      {
       "output_type": "stream",
       "stream": "stdout",
       "text": [
        "5.28545455 s (34%) simulated in 22m 58s, estimated 44m 23s remaining.\n"
       ]
      },
      {
       "output_type": "stream",
       "stream": "stdout",
       "text": [
        "5.31363636 s (34%) simulated in 23m 8s, estimated 44m 21s remaining.\n"
       ]
      },
      {
       "output_type": "stream",
       "stream": "stdout",
       "text": [
        "5.34181818 s (34%) simulated in 23m 18s, estimated 44m 20s remaining.\n"
       ]
      },
      {
       "output_type": "stream",
       "stream": "stdout",
       "text": [
        "5.37 s (34%) simulated in 23m 28s, estimated 44m 18s remaining.\n"
       ]
      },
      {
       "output_type": "stream",
       "stream": "stdout",
       "text": [
        "5.39818182 s (34%) simulated in 23m 39s, estimated 44m 15s remaining.\n"
       ]
      },
      {
       "output_type": "stream",
       "stream": "stdout",
       "text": [
        "5.42636364 s (35%) simulated in 23m 49s, estimated 44m 13s remaining.\n"
       ]
      },
      {
       "output_type": "stream",
       "stream": "stdout",
       "text": [
        "5.45363636 s (35%) simulated in 23m 59s, estimated 44m 11s remaining.\n"
       ]
      },
      {
       "output_type": "stream",
       "stream": "stdout",
       "text": [
        "5.48 s (35%) simulated in 24m 9s, estimated 44m 10s remaining.\n"
       ]
      },
      {
       "output_type": "stream",
       "stream": "stdout",
       "text": [
        "5.50727273 s (35%) simulated in 24m 19s, estimated 44m 8s remaining.\n"
       ]
      },
      {
       "output_type": "stream",
       "stream": "stdout",
       "text": [
        "5.53454545 s (35%) simulated in 24m 29s, estimated 44m 6s remaining.\n"
       ]
      },
      {
       "output_type": "stream",
       "stream": "stdout",
       "text": [
        "5.56090909 s (35%) simulated in 24m 39s, estimated 44m 5s remaining.\n"
       ]
      },
      {
       "output_type": "stream",
       "stream": "stdout",
       "text": [
        "5.58818182 s (36%) simulated in 24m 49s, estimated 44m 3s remaining.\n"
       ]
      },
      {
       "output_type": "stream",
       "stream": "stdout",
       "text": [
        "5.61545455 s (36%) simulated in 25m 0s, estimated 44m 1s remaining.\n"
       ]
      },
      {
       "output_type": "stream",
       "stream": "stdout",
       "text": [
        "5.64363636 s (36%) simulated in 25m 10s, estimated 43m 58s remaining.\n"
       ]
      },
      {
       "output_type": "stream",
       "stream": "stdout",
       "text": [
        "5.67090909 s (36%) simulated in 25m 20s, estimated 43m 56s remaining.\n"
       ]
      },
      {
       "output_type": "stream",
       "stream": "stdout",
       "text": [
        "5.69818182 s (36%) simulated in 25m 30s, estimated 43m 53s remaining.\n"
       ]
      },
      {
       "output_type": "stream",
       "stream": "stdout",
       "text": [
        "5.72363636 s (36%) simulated in 25m 41s, estimated 43m 52s remaining.\n"
       ]
      },
      {
       "output_type": "stream",
       "stream": "stdout",
       "text": [
        "5.75 s (37%) simulated in 25m 51s, estimated 43m 50s remaining.\n"
       ]
      },
      {
       "output_type": "stream",
       "stream": "stdout",
       "text": [
        "5.77727273 s (37%) simulated in 26m 1s, estimated 43m 47s remaining.\n"
       ]
      },
      {
       "output_type": "stream",
       "stream": "stdout",
       "text": [
        "5.80363636 s (37%) simulated in 26m 11s, estimated 43m 45s remaining.\n"
       ]
      },
      {
       "output_type": "stream",
       "stream": "stdout",
       "text": [
        "5.83 s (37%) simulated in 26m 21s, estimated 43m 43s remaining.\n"
       ]
      },
      {
       "output_type": "stream",
       "stream": "stdout",
       "text": [
        "5.85636364 s (37%) simulated in 26m 31s, estimated 43m 41s remaining.\n"
       ]
      },
      {
       "output_type": "stream",
       "stream": "stdout",
       "text": [
        "5.88272727 s (37%) simulated in 26m 41s, estimated 43m 38s remaining.\n"
       ]
      },
      {
       "output_type": "stream",
       "stream": "stdout",
       "text": [
        "5.90909091 s (38%) simulated in 26m 51s, estimated 43m 36s remaining.\n"
       ]
      },
      {
       "output_type": "stream",
       "stream": "stdout",
       "text": [
        "5.93545455 s (38%) simulated in 27m 1s, estimated 43m 33s remaining.\n"
       ]
      },
      {
       "output_type": "stream",
       "stream": "stdout",
       "text": [
        "5.96181818 s (38%) simulated in 27m 11s, estimated 43m 31s remaining.\n"
       ]
      },
      {
       "output_type": "stream",
       "stream": "stdout",
       "text": [
        "5.98818182 s (38%) simulated in 27m 22s, estimated 43m 28s remaining.\n"
       ]
      },
      {
       "output_type": "stream",
       "stream": "stdout",
       "text": [
        "6.01454545 s (38%) simulated in 27m 32s, estimated 43m 26s remaining.\n"
       ]
      },
      {
       "output_type": "stream",
       "stream": "stdout",
       "text": [
        "6.04 s (38%) simulated in 27m 42s, estimated 43m 23s remaining.\n"
       ]
      },
      {
       "output_type": "stream",
       "stream": "stdout",
       "text": [
        "6.06636364 s (39%) simulated in 27m 52s, estimated 43m 21s remaining.\n"
       ]
      },
      {
       "output_type": "stream",
       "stream": "stdout",
       "text": [
        "6.09272727 s (39%) simulated in 28m 2s, estimated 43m 18s remaining.\n"
       ]
      },
      {
       "output_type": "stream",
       "stream": "stdout",
       "text": [
        "6.11727273 s (39%) simulated in 28m 12s, estimated 43m 16s remaining.\n"
       ]
      },
      {
       "output_type": "stream",
       "stream": "stdout",
       "text": [
        "6.14363636 s (39%) simulated in 28m 22s, estimated 43m 13s remaining.\n"
       ]
      },
      {
       "output_type": "stream",
       "stream": "stdout",
       "text": [
        "6.17 s (39%) simulated in 28m 33s, estimated 43m 11s remaining.\n"
       ]
      },
      {
       "output_type": "stream",
       "stream": "stdout",
       "text": [
        "6.19636364 s (39%) simulated in 28m 43s, estimated 43m 8s remaining.\n"
       ]
      },
      {
       "output_type": "stream",
       "stream": "stdout",
       "text": [
        "6.22181818 s (40%) simulated in 28m 53s, estimated 43m 5s remaining.\n"
       ]
      },
      {
       "output_type": "stream",
       "stream": "stdout",
       "text": [
        "6.24727273 s (40%) simulated in 29m 3s, estimated 43m 2s remaining.\n"
       ]
      },
      {
       "output_type": "stream",
       "stream": "stdout",
       "text": [
        "6.27272727 s (40%) simulated in 29m 13s, estimated 43m 0s remaining.\n"
       ]
      },
      {
       "output_type": "stream",
       "stream": "stdout",
       "text": [
        "6.29909091 s (40%) simulated in 29m 24s, estimated 42m 57s remaining.\n"
       ]
      },
      {
       "output_type": "stream",
       "stream": "stdout",
       "text": [
        "6.32272727 s (40%) simulated in 29m 34s, estimated 42m 55s remaining.\n"
       ]
      },
      {
       "output_type": "stream",
       "stream": "stdout",
       "text": [
        "6.34454545 s (40%) simulated in 29m 44s, estimated 42m 55s remaining.\n"
       ]
      },
      {
       "output_type": "stream",
       "stream": "stdout",
       "text": [
        "6.36909091 s (41%) simulated in 29m 54s, estimated 42m 53s remaining.\n"
       ]
      },
      {
       "output_type": "stream",
       "stream": "stdout",
       "text": [
        "6.39454545 s (41%) simulated in 30m 4s, estimated 42m 50s remaining.\n"
       ]
      },
      {
       "output_type": "stream",
       "stream": "stdout",
       "text": [
        "6.42 s (41%) simulated in 30m 14s, estimated 42m 47s remaining.\n"
       ]
      },
      {
       "output_type": "stream",
       "stream": "stdout",
       "text": [
        "6.44545455 s (41%) simulated in 30m 25s, estimated 42m 44s remaining.\n"
       ]
      },
      {
       "output_type": "stream",
       "stream": "stdout",
       "text": [
        "6.47 s (41%) simulated in 30m 35s, estimated 42m 41s remaining.\n"
       ]
      },
      {
       "output_type": "stream",
       "stream": "stdout",
       "text": [
        "6.49545455 s (41%) simulated in 30m 45s, estimated 42m 38s remaining.\n"
       ]
      },
      {
       "output_type": "stream",
       "stream": "stdout",
       "text": [
        "6.51909091 s (42%) simulated in 30m 55s, estimated 42m 36s remaining.\n"
       ]
      },
      {
       "output_type": "stream",
       "stream": "stdout",
       "text": [
        "6.54363636 s (42%) simulated in 31m 5s, estimated 42m 34s remaining.\n"
       ]
      },
      {
       "output_type": "stream",
       "stream": "stdout",
       "text": [
        "6.56818182 s (42%) simulated in 31m 15s, estimated 42m 31s remaining.\n"
       ]
      },
      {
       "output_type": "stream",
       "stream": "stdout",
       "text": [
        "6.59272727 s (42%) simulated in 31m 25s, estimated 42m 28s remaining.\n"
       ]
      },
      {
       "output_type": "stream",
       "stream": "stdout",
       "text": [
        "6.61727273 s (42%) simulated in 31m 36s, estimated 42m 25s remaining.\n"
       ]
      },
      {
       "output_type": "stream",
       "stream": "stdout",
       "text": [
        "6.64090909 s (42%) simulated in 31m 46s, estimated 42m 23s remaining.\n"
       ]
      },
      {
       "output_type": "stream",
       "stream": "stdout",
       "text": [
        "6.66545455 s (43%) simulated in 31m 56s, estimated 42m 20s remaining.\n"
       ]
      },
      {
       "output_type": "stream",
       "stream": "stdout",
       "text": [
        "6.68909091 s (43%) simulated in 32m 6s, estimated 42m 17s remaining.\n"
       ]
      },
      {
       "output_type": "stream",
       "stream": "stdout",
       "text": [
        "6.71363636 s (43%) simulated in 32m 16s, estimated 42m 14s remaining.\n"
       ]
      },
      {
       "output_type": "stream",
       "stream": "stdout",
       "text": [
        "6.73818182 s (43%) simulated in 32m 26s, estimated 42m 11s remaining.\n"
       ]
      },
      {
       "output_type": "stream",
       "stream": "stdout",
       "text": [
        "6.76272727 s (43%) simulated in 32m 36s, estimated 42m 8s remaining.\n"
       ]
      },
      {
       "output_type": "stream",
       "stream": "stdout",
       "text": [
        "6.78636364 s (43%) simulated in 32m 46s, estimated 42m 5s remaining.\n"
       ]
      },
      {
       "output_type": "stream",
       "stream": "stdout",
       "text": [
        "6.81 s (43%) simulated in 32m 56s, estimated 42m 3s remaining.\n"
       ]
      },
      {
       "output_type": "stream",
       "stream": "stdout",
       "text": [
        "6.83454545 s (44%) simulated in 33m 7s, estimated 41m 59s remaining.\n"
       ]
      },
      {
       "output_type": "stream",
       "stream": "stdout",
       "text": [
        "6.85909091 s (44%) simulated in 33m 17s, estimated 41m 56s remaining.\n"
       ]
      },
      {
       "output_type": "stream",
       "stream": "stdout",
       "text": [
        "6.88272727 s (44%) simulated in 33m 27s, estimated 41m 54s remaining.\n"
       ]
      },
      {
       "output_type": "stream",
       "stream": "stdout",
       "text": [
        "6.90727273 s (44%) simulated in 33m 38s, estimated 41m 50s remaining.\n"
       ]
      },
      {
       "output_type": "stream",
       "stream": "stdout",
       "text": [
        "6.93181818 s (44%) simulated in 33m 48s, estimated 41m 47s remaining.\n"
       ]
      },
      {
       "output_type": "stream",
       "stream": "stdout",
       "text": [
        "6.95636364 s (44%) simulated in 33m 58s, estimated 41m 44s remaining.\n"
       ]
      },
      {
       "output_type": "stream",
       "stream": "stdout",
       "text": [
        "6.98 s (45%) simulated in 34m 8s, estimated 41m 41s remaining.\n"
       ]
      },
      {
       "output_type": "stream",
       "stream": "stdout",
       "text": [
        "7.00363636 s (45%) simulated in 34m 19s, estimated 41m 38s remaining.\n"
       ]
      },
      {
       "output_type": "stream",
       "stream": "stdout",
       "text": [
        "7.02727273 s (45%) simulated in 34m 29s, estimated 41m 35s remaining.\n"
       ]
      },
      {
       "output_type": "stream",
       "stream": "stdout",
       "text": [
        "7.05090909 s (45%) simulated in 34m 39s, estimated 41m 32s remaining.\n"
       ]
      },
      {
       "output_type": "stream",
       "stream": "stdout",
       "text": [
        "7.07454545 s (45%) simulated in 34m 49s, estimated 41m 29s remaining.\n"
       ]
      },
      {
       "output_type": "stream",
       "stream": "stdout",
       "text": [
        "7.09818182 s (45%) simulated in 34m 59s, estimated 41m 25s remaining.\n"
       ]
      },
      {
       "output_type": "stream",
       "stream": "stdout",
       "text": [
        "7.12181818 s (45%) simulated in 35m 10s, estimated 41m 22s remaining.\n"
       ]
      },
      {
       "output_type": "stream",
       "stream": "stdout",
       "text": [
        "7.14545455 s (46%) simulated in 35m 20s, estimated 41m 19s remaining.\n"
       ]
      },
      {
       "output_type": "stream",
       "stream": "stdout",
       "text": [
        "7.16909091 s (46%) simulated in 35m 30s, estimated 41m 16s remaining.\n"
       ]
      },
      {
       "output_type": "stream",
       "stream": "stdout",
       "text": [
        "7.19090909 s (46%) simulated in 35m 40s, estimated 41m 13s remaining.\n"
       ]
      },
      {
       "output_type": "stream",
       "stream": "stdout",
       "text": [
        "7.21454545 s (46%) simulated in 35m 50s, estimated 41m 10s remaining.\n"
       ]
      },
      {
       "output_type": "stream",
       "stream": "stdout",
       "text": [
        "7.23727273 s (46%) simulated in 36m 0s, estimated 41m 7s remaining.\n"
       ]
      },
      {
       "output_type": "stream",
       "stream": "stdout",
       "text": [
        "7.26090909 s (46%) simulated in 36m 10s, estimated 41m 3s remaining.\n"
       ]
      },
      {
       "output_type": "stream",
       "stream": "stdout",
       "text": [
        "7.28454545 s (46%) simulated in 36m 21s, estimated 41m 0s remaining.\n"
       ]
      },
      {
       "output_type": "stream",
       "stream": "stdout",
       "text": [
        "7.30727273 s (47%) simulated in 36m 31s, estimated 40m 57s remaining.\n"
       ]
      },
      {
       "output_type": "stream",
       "stream": "stdout",
       "text": [
        "7.33 s (47%) simulated in 36m 41s, estimated 40m 54s remaining.\n"
       ]
      },
      {
       "output_type": "stream",
       "stream": "stdout",
       "text": [
        "7.35363636 s (47%) simulated in 36m 52s, estimated 40m 51s remaining.\n"
       ]
      },
      {
       "output_type": "stream",
       "stream": "stdout",
       "text": [
        "7.37727273 s (47%) simulated in 37m 2s, estimated 40m 47s remaining.\n"
       ]
      },
      {
       "output_type": "stream",
       "stream": "stdout",
       "text": [
        "7.40090909 s (47%) simulated in 37m 12s, estimated 40m 43s remaining.\n"
       ]
      },
      {
       "output_type": "stream",
       "stream": "stdout",
       "text": [
        "7.42454545 s (47%) simulated in 37m 23s, estimated 40m 40s remaining.\n"
       ]
      },
      {
       "output_type": "stream",
       "stream": "stdout",
       "text": [
        "7.44727273 s (48%) simulated in 37m 33s, estimated 40m 37s remaining.\n"
       ]
      },
      {
       "output_type": "stream",
       "stream": "stdout",
       "text": [
        "7.47 s (48%) simulated in 37m 43s, estimated 40m 33s remaining.\n"
       ]
      },
      {
       "output_type": "stream",
       "stream": "stdout",
       "text": [
        "7.49272727 s (48%) simulated in 37m 54s, estimated 40m 30s remaining.\n"
       ]
      },
      {
       "output_type": "stream",
       "stream": "stdout",
       "text": [
        "7.51545455 s (48%) simulated in 38m 4s, estimated 40m 27s remaining.\n"
       ]
      },
      {
       "output_type": "stream",
       "stream": "stdout",
       "text": [
        "7.53727273 s (48%) simulated in 38m 14s, estimated 40m 24s remaining.\n"
       ]
      },
      {
       "output_type": "stream",
       "stream": "stdout",
       "text": [
        "7.56 s (48%) simulated in 38m 24s, estimated 40m 21s remaining.\n"
       ]
      },
      {
       "output_type": "stream",
       "stream": "stdout",
       "text": [
        "7.58272727 s (48%) simulated in 38m 34s, estimated 40m 17s remaining.\n"
       ]
      },
      {
       "output_type": "stream",
       "stream": "stdout",
       "text": [
        "7.60545455 s (49%) simulated in 38m 45s, estimated 40m 13s remaining.\n"
       ]
      },
      {
       "output_type": "stream",
       "stream": "stdout",
       "text": [
        "7.62818182 s (49%) simulated in 38m 55s, estimated 40m 10s remaining.\n"
       ]
      },
      {
       "output_type": "stream",
       "stream": "stdout",
       "text": [
        "7.65 s (49%) simulated in 39m 5s, estimated 40m 7s remaining.\n"
       ]
      },
      {
       "output_type": "stream",
       "stream": "stdout",
       "text": [
        "7.67272727 s (49%) simulated in 39m 15s, estimated 40m 3s remaining.\n"
       ]
      },
      {
       "output_type": "stream",
       "stream": "stdout",
       "text": [
        "7.69545455 s (49%) simulated in 39m 25s, estimated 39m 59s remaining.\n"
       ]
      },
      {
       "output_type": "stream",
       "stream": "stdout",
       "text": [
        "7.71727273 s (49%) simulated in 39m 35s, estimated 39m 56s remaining.\n"
       ]
      },
      {
       "output_type": "stream",
       "stream": "stdout",
       "text": [
        "7.73909091 s (49%) simulated in 39m 46s, estimated 39m 53s remaining.\n"
       ]
      },
      {
       "output_type": "stream",
       "stream": "stdout",
       "text": [
        "7.76090909 s (50%) simulated in 39m 56s, estimated 39m 49s remaining.\n"
       ]
      },
      {
       "output_type": "stream",
       "stream": "stdout",
       "text": [
        "7.78272727 s (50%) simulated in 40m 6s, estimated 39m 46s remaining.\n"
       ]
      },
      {
       "output_type": "stream",
       "stream": "stdout",
       "text": [
        "7.80454545 s (50%) simulated in 40m 16s, estimated 39m 42s remaining.\n"
       ]
      },
      {
       "output_type": "stream",
       "stream": "stdout",
       "text": [
        "7.82727273 s (50%) simulated in 40m 26s, estimated 39m 38s remaining.\n"
       ]
      },
      {
       "output_type": "stream",
       "stream": "stdout",
       "text": [
        "7.84909091 s (50%) simulated in 40m 36s, estimated 39m 35s remaining.\n"
       ]
      },
      {
       "output_type": "stream",
       "stream": "stdout",
       "text": [
        "7.87181818 s (50%) simulated in 40m 46s, estimated 39m 31s remaining.\n"
       ]
      },
      {
       "output_type": "stream",
       "stream": "stdout",
       "text": [
        "7.89363636 s (50%) simulated in 40m 56s, estimated 39m 27s remaining.\n"
       ]
      },
      {
       "output_type": "stream",
       "stream": "stdout",
       "text": [
        "7.91545455 s (51%) simulated in 41m 6s, estimated 39m 24s remaining.\n"
       ]
      },
      {
       "output_type": "stream",
       "stream": "stdout",
       "text": [
        "7.93727273 s (51%) simulated in 41m 17s, estimated 39m 20s remaining.\n"
       ]
      },
      {
       "output_type": "stream",
       "stream": "stdout",
       "text": [
        "7.96 s (51%) simulated in 41m 27s, estimated 39m 16s remaining.\n"
       ]
      },
      {
       "output_type": "stream",
       "stream": "stdout",
       "text": [
        "7.98272727 s (51%) simulated in 41m 37s, estimated 39m 12s remaining.\n"
       ]
      },
      {
       "output_type": "stream",
       "stream": "stdout",
       "text": [
        "8.00363636 s (51%) simulated in 41m 47s, estimated 39m 9s remaining.\n"
       ]
      },
      {
       "output_type": "stream",
       "stream": "stdout",
       "text": [
        "8.02545455 s (51%) simulated in 41m 57s, estimated 39m 5s remaining.\n"
       ]
      },
      {
       "output_type": "stream",
       "stream": "stdout",
       "text": [
        "8.04727273 s (51%) simulated in 42m 8s, estimated 39m 1s remaining.\n"
       ]
      },
      {
       "output_type": "stream",
       "stream": "stdout",
       "text": [
        "8.07 s (52%) simulated in 42m 18s, estimated 38m 57s remaining.\n"
       ]
      },
      {
       "output_type": "stream",
       "stream": "stdout",
       "text": [
        "8.09181818 s (52%) simulated in 42m 28s, estimated 38m 54s remaining.\n"
       ]
      },
      {
       "output_type": "stream",
       "stream": "stdout",
       "text": [
        "8.11363636 s (52%) simulated in 42m 39s, estimated 38m 50s remaining.\n"
       ]
      },
      {
       "output_type": "stream",
       "stream": "stdout",
       "text": [
        "8.13545455 s (52%) simulated in 42m 49s, estimated 38m 46s remaining.\n"
       ]
      },
      {
       "output_type": "stream",
       "stream": "stdout",
       "text": [
        "8.15818182 s (52%) simulated in 42m 59s, estimated 38m 42s remaining.\n"
       ]
      },
      {
       "output_type": "stream",
       "stream": "stdout",
       "text": [
        "8.18 s (52%) simulated in 43m 10s, estimated 38m 38s remaining.\n"
       ]
      },
      {
       "output_type": "stream",
       "stream": "stdout",
       "text": [
        "8.20181818 s (52%) simulated in 43m 20s, estimated 38m 34s remaining.\n"
       ]
      },
      {
       "output_type": "stream",
       "stream": "stdout",
       "text": [
        "8.22272727 s (53%) simulated in 43m 30s, estimated 38m 31s remaining.\n"
       ]
      },
      {
       "output_type": "stream",
       "stream": "stdout",
       "text": [
        "8.24363636 s (53%) simulated in 43m 40s, estimated 38m 27s remaining.\n"
       ]
      },
      {
       "output_type": "stream",
       "stream": "stdout",
       "text": [
        "8.26545455 s (53%) simulated in 43m 50s, estimated 38m 23s remaining.\n"
       ]
      },
      {
       "output_type": "stream",
       "stream": "stdout",
       "text": [
        "8.28636364 s (53%) simulated in 44m 1s, estimated 38m 19s remaining.\n"
       ]
      },
      {
       "output_type": "stream",
       "stream": "stdout",
       "text": [
        "8.30727273 s (53%) simulated in 44m 11s, estimated 38m 15s remaining.\n"
       ]
      },
      {
       "output_type": "stream",
       "stream": "stdout",
       "text": [
        "8.32818182 s (53%) simulated in 44m 21s, estimated 38m 12s remaining.\n"
       ]
      },
      {
       "output_type": "stream",
       "stream": "stdout",
       "text": [
        "8.35 s (53%) simulated in 44m 31s, estimated 38m 8s remaining.\n"
       ]
      },
      {
       "output_type": "stream",
       "stream": "stdout",
       "text": [
        "8.37181818 s (54%) simulated in 44m 41s, estimated 38m 4s remaining.\n"
       ]
      },
      {
       "output_type": "stream",
       "stream": "stdout",
       "text": [
        "8.39272727 s (54%) simulated in 44m 51s, estimated 38m 0s remaining.\n"
       ]
      },
      {
       "output_type": "stream",
       "stream": "stdout",
       "text": [
        "8.41363636 s (54%) simulated in 45m 2s, estimated 37m 56s remaining.\n"
       ]
      },
      {
       "output_type": "stream",
       "stream": "stdout",
       "text": [
        "8.43454545 s (54%) simulated in 45m 12s, estimated 37m 52s remaining.\n"
       ]
      },
      {
       "output_type": "stream",
       "stream": "stdout",
       "text": [
        "8.45545455 s (54%) simulated in 45m 22s, estimated 37m 48s remaining.\n"
       ]
      },
      {
       "output_type": "stream",
       "stream": "stdout",
       "text": [
        "8.47636364 s (54%) simulated in 45m 32s, estimated 37m 44s remaining.\n"
       ]
      },
      {
       "output_type": "stream",
       "stream": "stdout",
       "text": [
        "8.49636364 s (54%) simulated in 45m 42s, estimated 37m 41s remaining.\n"
       ]
      },
      {
       "output_type": "stream",
       "stream": "stdout",
       "text": [
        "8.51727273 s (54%) simulated in 45m 53s, estimated 37m 37s remaining.\n"
       ]
      },
      {
       "output_type": "stream",
       "stream": "stdout",
       "text": [
        "8.53818182 s (55%) simulated in 46m 3s, estimated 37m 33s remaining.\n"
       ]
      },
      {
       "output_type": "stream",
       "stream": "stdout",
       "text": [
        "8.55909091 s (55%) simulated in 46m 13s, estimated 37m 29s remaining.\n"
       ]
      },
      {
       "output_type": "stream",
       "stream": "stdout",
       "text": [
        "8.58 s (55%) simulated in 46m 23s, estimated 37m 25s remaining.\n"
       ]
      },
      {
       "output_type": "stream",
       "stream": "stdout",
       "text": [
        "8.60090909 s (55%) simulated in 46m 33s, estimated 37m 21s remaining.\n"
       ]
      },
      {
       "output_type": "stream",
       "stream": "stdout",
       "text": [
        "8.62181818 s (55%) simulated in 46m 44s, estimated 37m 17s remaining.\n"
       ]
      },
      {
       "output_type": "stream",
       "stream": "stdout",
       "text": [
        "8.64272727 s (55%) simulated in 46m 54s, estimated 37m 13s remaining.\n"
       ]
      },
      {
       "output_type": "stream",
       "stream": "stdout",
       "text": [
        "8.66363636 s (55%) simulated in 47m 4s, estimated 37m 9s remaining.\n"
       ]
      },
      {
       "output_type": "stream",
       "stream": "stdout",
       "text": [
        "8.68454545 s (56%) simulated in 47m 15s, estimated 37m 5s remaining.\n"
       ]
      },
      {
       "output_type": "stream",
       "stream": "stdout",
       "text": [
        "8.70454545 s (56%) simulated in 47m 25s, estimated 37m 1s remaining.\n"
       ]
      },
      {
       "output_type": "stream",
       "stream": "stdout",
       "text": [
        "8.72545455 s (56%) simulated in 47m 35s, estimated 36m 57s remaining.\n"
       ]
      },
      {
       "output_type": "stream",
       "stream": "stdout",
       "text": [
        "8.74636364 s (56%) simulated in 47m 45s, estimated 36m 53s remaining.\n"
       ]
      },
      {
       "output_type": "stream",
       "stream": "stdout",
       "text": [
        "8.76727273 s (56%) simulated in 47m 55s, estimated 36m 48s remaining.\n"
       ]
      },
      {
       "output_type": "stream",
       "stream": "stdout",
       "text": [
        "8.78818182 s (56%) simulated in 48m 5s, estimated 36m 44s remaining.\n"
       ]
      },
      {
       "output_type": "stream",
       "stream": "stdout",
       "text": [
        "8.80818182 s (56%) simulated in 48m 16s, estimated 36m 40s remaining.\n"
       ]
      },
      {
       "output_type": "stream",
       "stream": "stdout",
       "text": [
        "8.82909091 s (56%) simulated in 48m 26s, estimated 36m 36s remaining.\n"
       ]
      },
      {
       "output_type": "stream",
       "stream": "stdout",
       "text": [
        "8.84909091 s (57%) simulated in 48m 36s, estimated 36m 32s remaining.\n"
       ]
      },
      {
       "output_type": "stream",
       "stream": "stdout",
       "text": [
        "8.86909091 s (57%) simulated in 48m 46s, estimated 36m 28s remaining.\n"
       ]
      },
      {
       "output_type": "stream",
       "stream": "stdout",
       "text": [
        "8.88909091 s (57%) simulated in 48m 56s, estimated 36m 24s remaining.\n"
       ]
      },
      {
       "output_type": "stream",
       "stream": "stdout",
       "text": [
        "8.91 s (57%) simulated in 49m 7s, estimated 36m 20s remaining.\n"
       ]
      },
      {
       "output_type": "stream",
       "stream": "stdout",
       "text": [
        "8.93090909 s (57%) simulated in 49m 17s, estimated 36m 15s remaining.\n"
       ]
      },
      {
       "output_type": "stream",
       "stream": "stdout",
       "text": [
        "8.95181818 s (57%) simulated in 49m 27s, estimated 36m 11s remaining.\n"
       ]
      },
      {
       "output_type": "stream",
       "stream": "stdout",
       "text": [
        "8.97 s (57%) simulated in 49m 37s, estimated 36m 8s remaining.\n"
       ]
      },
      {
       "output_type": "stream",
       "stream": "stdout",
       "text": [
        "8.99090909 s (58%) simulated in 49m 48s, estimated 36m 3s remaining.\n"
       ]
      },
      {
       "output_type": "stream",
       "stream": "stdout",
       "text": [
        "9.01181818 s (58%) simulated in 49m 58s, estimated 35m 59s remaining.\n"
       ]
      },
      {
       "output_type": "stream",
       "stream": "stdout",
       "text": [
        "9.03272727 s (58%) simulated in 50m 8s, estimated 35m 54s remaining.\n"
       ]
      },
      {
       "output_type": "stream",
       "stream": "stdout",
       "text": [
        "9.05363636 s (58%) simulated in 50m 19s, estimated 35m 50s remaining.\n"
       ]
      },
      {
       "output_type": "stream",
       "stream": "stdout",
       "text": [
        "9.07363636 s (58%) simulated in 50m 29s, estimated 35m 45s remaining.\n"
       ]
      },
      {
       "output_type": "stream",
       "stream": "stdout",
       "text": [
        "9.09363636 s (58%) simulated in 50m 39s, estimated 35m 41s remaining.\n"
       ]
      },
      {
       "output_type": "stream",
       "stream": "stdout",
       "text": [
        "9.11272727 s (58%) simulated in 50m 49s, estimated 35m 37s remaining.\n"
       ]
      },
      {
       "output_type": "stream",
       "stream": "stdout",
       "text": [
        "9.13272727 s (58%) simulated in 50m 59s, estimated 35m 33s remaining.\n"
       ]
      },
      {
       "output_type": "stream",
       "stream": "stdout",
       "text": [
        "9.15272727 s (59%) simulated in 51m 9s, estimated 35m 29s remaining.\n"
       ]
      },
      {
       "output_type": "stream",
       "stream": "stdout",
       "text": [
        "9.17272727 s (59%) simulated in 51m 20s, estimated 35m 25s remaining.\n"
       ]
      },
      {
       "output_type": "stream",
       "stream": "stdout",
       "text": [
        "9.19272727 s (59%) simulated in 51m 30s, estimated 35m 20s remaining.\n"
       ]
      },
      {
       "output_type": "stream",
       "stream": "stdout",
       "text": [
        "9.21272727 s (59%) simulated in 51m 40s, estimated 35m 16s remaining.\n"
       ]
      },
      {
       "output_type": "stream",
       "stream": "stdout",
       "text": [
        "9.23272727 s (59%) simulated in 51m 50s, estimated 35m 11s remaining.\n"
       ]
      },
      {
       "output_type": "stream",
       "stream": "stdout",
       "text": [
        "9.25272727 s (59%) simulated in 52m 0s, estimated 35m 7s remaining.\n"
       ]
      },
      {
       "output_type": "stream",
       "stream": "stdout",
       "text": [
        "9.27272727 s (59%) simulated in 52m 11s, estimated 35m 3s remaining.\n"
       ]
      },
      {
       "output_type": "stream",
       "stream": "stdout",
       "text": [
        "9.29363636 s (59%) simulated in 52m 21s, estimated 34m 58s remaining.\n"
       ]
      },
      {
       "output_type": "stream",
       "stream": "stdout",
       "text": [
        "9.31454545 s (60%) simulated in 52m 31s, estimated 34m 53s remaining.\n"
       ]
      },
      {
       "output_type": "stream",
       "stream": "stdout",
       "text": [
        "9.33454545 s (60%) simulated in 52m 41s, estimated 34m 48s remaining.\n"
       ]
      },
      {
       "output_type": "stream",
       "stream": "stdout",
       "text": [
        "9.35363636 s (60%) simulated in 52m 51s, estimated 34m 44s remaining.\n"
       ]
      },
      {
       "output_type": "stream",
       "stream": "stdout",
       "text": [
        "9.37454545 s (60%) simulated in 53m 2s, estimated 34m 40s remaining.\n"
       ]
      },
      {
       "output_type": "stream",
       "stream": "stdout",
       "text": [
        "9.39454545 s (60%) simulated in 53m 12s, estimated 34m 35s remaining.\n"
       ]
      },
      {
       "output_type": "stream",
       "stream": "stdout",
       "text": [
        "9.41454545 s (60%) simulated in 53m 23s, estimated 34m 30s remaining.\n"
       ]
      },
      {
       "output_type": "stream",
       "stream": "stdout",
       "text": [
        "9.43363636 s (60%) simulated in 53m 33s, estimated 34m 26s remaining.\n"
       ]
      },
      {
       "output_type": "stream",
       "stream": "stdout",
       "text": [
        "9.45363636 s (60%) simulated in 53m 43s, estimated 34m 22s remaining.\n"
       ]
      },
      {
       "output_type": "stream",
       "stream": "stdout",
       "text": [
        "9.47363636 s (61%) simulated in 53m 53s, estimated 34m 17s remaining.\n"
       ]
      },
      {
       "output_type": "stream",
       "stream": "stdout",
       "text": [
        "9.49363636 s (61%) simulated in 54m 3s, estimated 34m 12s remaining.\n"
       ]
      },
      {
       "output_type": "stream",
       "stream": "stdout",
       "text": [
        "9.51272727 s (61%) simulated in 54m 14s, estimated 34m 8s remaining.\n"
       ]
      },
      {
       "output_type": "stream",
       "stream": "stdout",
       "text": [
        "9.53181818 s (61%) simulated in 54m 24s, estimated 34m 4s remaining.\n"
       ]
      },
      {
       "output_type": "stream",
       "stream": "stdout",
       "text": [
        "9.55181818 s (61%) simulated in 54m 34s, estimated 33m 59s remaining.\n"
       ]
      },
      {
       "output_type": "stream",
       "stream": "stdout",
       "text": [
        "9.57090909 s (61%) simulated in 54m 44s, estimated 33m 55s remaining.\n"
       ]
      },
      {
       "output_type": "stream",
       "stream": "stdout",
       "text": [
        "9.59 s (61%) simulated in 54m 55s, estimated 33m 51s remaining.\n"
       ]
      },
      {
       "output_type": "stream",
       "stream": "stdout",
       "text": [
        "9.60909091 s (61%) simulated in 55m 5s, estimated 33m 46s remaining.\n"
       ]
      },
      {
       "output_type": "stream",
       "stream": "stdout",
       "text": [
        "9.62818182 s (62%) simulated in 55m 15s, estimated 33m 42s remaining.\n"
       ]
      },
      {
       "output_type": "stream",
       "stream": "stdout",
       "text": [
        "9.64818182 s (62%) simulated in 55m 25s, estimated 33m 37s remaining.\n"
       ]
      },
      {
       "output_type": "stream",
       "stream": "stdout",
       "text": [
        "9.66727273 s (62%) simulated in 55m 35s, estimated 33m 33s remaining.\n"
       ]
      },
      {
       "output_type": "stream",
       "stream": "stdout",
       "text": [
        "9.68545455 s (62%) simulated in 55m 46s, estimated 33m 29s remaining.\n"
       ]
      },
      {
       "output_type": "stream",
       "stream": "stdout",
       "text": [
        "9.70363636 s (62%) simulated in 55m 56s, estimated 33m 25s remaining.\n"
       ]
      },
      {
       "output_type": "stream",
       "stream": "stdout",
       "text": [
        "9.72272727 s (62%) simulated in 56m 6s, estimated 33m 20s remaining.\n"
       ]
      },
      {
       "output_type": "stream",
       "stream": "stdout",
       "text": [
        "9.74181818 s (62%) simulated in 56m 16s, estimated 33m 16s remaining.\n"
       ]
      },
      {
       "output_type": "stream",
       "stream": "stdout",
       "text": [
        "9.76090909 s (62%) simulated in 56m 27s, estimated 33m 12s remaining.\n"
       ]
      },
      {
       "output_type": "stream",
       "stream": "stdout",
       "text": [
        "9.78 s (63%) simulated in 56m 37s, estimated 33m 7s remaining.\n"
       ]
      },
      {
       "output_type": "stream",
       "stream": "stdout",
       "text": [
        "9.79909091 s (63%) simulated in 56m 47s, estimated 33m 2s remaining.\n"
       ]
      },
      {
       "output_type": "stream",
       "stream": "stdout",
       "text": [
        "9.81818182 s (63%) simulated in 56m 57s, estimated 32m 58s remaining.\n"
       ]
      },
      {
       "output_type": "stream",
       "stream": "stdout",
       "text": [
        "9.83727273 s (63%) simulated in 57m 8s, estimated 32m 53s remaining.\n"
       ]
      },
      {
       "output_type": "stream",
       "stream": "stdout",
       "text": [
        "9.85454545 s (63%) simulated in 57m 18s, estimated 32m 50s remaining.\n"
       ]
      },
      {
       "output_type": "stream",
       "stream": "stdout",
       "text": [
        "9.87363636 s (63%) simulated in 57m 28s, estimated 32m 45s remaining.\n"
       ]
      },
      {
       "output_type": "stream",
       "stream": "stdout",
       "text": [
        "9.89363636 s (63%) simulated in 57m 39s, estimated 32m 40s remaining.\n"
       ]
      },
      {
       "output_type": "stream",
       "stream": "stdout",
       "text": [
        "9.91272727 s (63%) simulated in 57m 49s, estimated 32m 36s remaining.\n"
       ]
      },
      {
       "output_type": "stream",
       "stream": "stdout",
       "text": [
        "9.93181818 s (64%) simulated in 57m 59s, estimated 32m 31s remaining.\n"
       ]
      },
      {
       "output_type": "stream",
       "stream": "stdout",
       "text": [
        "9.95 s (64%) simulated in 58m 10s, estimated 32m 27s remaining.\n"
       ]
      },
      {
       "output_type": "stream",
       "stream": "stdout",
       "text": [
        "9.96909091 s (64%) simulated in 58m 20s, estimated 32m 22s remaining.\n"
       ]
      },
      {
       "output_type": "stream",
       "stream": "stdout",
       "text": [
        "9.98454545 s (64%) simulated in 58m 30s, estimated 32m 19s remaining.\n"
       ]
      },
      {
       "output_type": "stream",
       "stream": "stdout",
       "text": [
        "10. s (64%) simulated in 58m 41s, estimated 32m 17s remaining.\n"
       ]
      },
      {
       "output_type": "stream",
       "stream": "stdout",
       "text": [
        "10.01818182 s (64%) simulated in 58m 51s, estimated 32m 12s remaining.\n"
       ]
      },
      {
       "output_type": "stream",
       "stream": "stdout",
       "text": [
        "10.03727273 s (64%) simulated in 59m 1s, estimated 32m 8s remaining.\n"
       ]
      },
      {
       "output_type": "stream",
       "stream": "stdout",
       "text": [
        "10.05545455 s (64%) simulated in 59m 12s, estimated 32m 3s remaining.\n"
       ]
      },
      {
       "output_type": "stream",
       "stream": "stdout",
       "text": [
        "10.07454545 s (64%) simulated in 59m 22s, estimated 31m 58s remaining.\n"
       ]
      },
      {
       "output_type": "stream",
       "stream": "stdout",
       "text": [
        "10.09272727 s (65%) simulated in 59m 32s, estimated 31m 54s remaining.\n"
       ]
      },
      {
       "output_type": "stream",
       "stream": "stdout",
       "text": [
        "10.11090909 s (65%) simulated in 59m 42s, estimated 31m 50s remaining.\n"
       ]
      },
      {
       "output_type": "stream",
       "stream": "stdout",
       "text": [
        "10.12909091 s (65%) simulated in 59m 52s, estimated 31m 45s remaining.\n"
       ]
      },
      {
       "output_type": "stream",
       "stream": "stdout",
       "text": [
        "10.14727273 s (65%) simulated in 1h 0m 2s, estimated 31m 41s remaining.\n"
       ]
      },
      {
       "output_type": "stream",
       "stream": "stdout",
       "text": [
        "10.16636364 s (65%) simulated in 1h 0m 13s, estimated 31m 36s remaining.\n"
       ]
      },
      {
       "output_type": "stream",
       "stream": "stdout",
       "text": [
        "10.18545455 s (65%) simulated in 1h 0m 23s, estimated 31m 31s remaining.\n"
       ]
      },
      {
       "output_type": "stream",
       "stream": "stdout",
       "text": [
        "10.20363636 s (65%) simulated in 1h 0m 33s, estimated 31m 26s remaining.\n"
       ]
      },
      {
       "output_type": "stream",
       "stream": "stdout",
       "text": [
        "10.22181818 s (65%) simulated in 1h 0m 44s, estimated 31m 22s remaining.\n"
       ]
      },
      {
       "output_type": "stream",
       "stream": "stdout",
       "text": [
        "10.24 s (66%) simulated in 1h 0m 54s, estimated 31m 17s remaining.\n"
       ]
      },
      {
       "output_type": "stream",
       "stream": "stdout",
       "text": [
        "10.25818182 s (66%) simulated in 1h 1m 4s, estimated 31m 12s remaining.\n"
       ]
      },
      {
       "output_type": "stream",
       "stream": "stdout",
       "text": [
        "10.27636364 s (66%) simulated in 1h 1m 14s, estimated 31m 8s remaining.\n"
       ]
      },
      {
       "output_type": "stream",
       "stream": "stdout",
       "text": [
        "10.29454545 s (66%) simulated in 1h 1m 24s, estimated 31m 3s remaining.\n"
       ]
      },
      {
       "output_type": "stream",
       "stream": "stdout",
       "text": [
        "10.31363636 s (66%) simulated in 1h 1m 35s, estimated 30m 58s remaining.\n"
       ]
      },
      {
       "output_type": "stream",
       "stream": "stdout",
       "text": [
        "10.33181818 s (66%) simulated in 1h 1m 45s, estimated 30m 53s remaining.\n"
       ]
      },
      {
       "output_type": "stream",
       "stream": "stdout",
       "text": [
        "10.35 s (66%) simulated in 1h 1m 55s, estimated 30m 49s remaining.\n"
       ]
      },
      {
       "output_type": "stream",
       "stream": "stdout",
       "text": [
        "10.36818182 s (66%) simulated in 1h 2m 5s, estimated 30m 44s remaining.\n"
       ]
      },
      {
       "output_type": "stream",
       "stream": "stdout",
       "text": [
        "10.38636364 s (67%) simulated in 1h 2m 15s, estimated 30m 39s remaining.\n"
       ]
      },
      {
       "output_type": "stream",
       "stream": "stdout",
       "text": [
        "10.40454545 s (67%) simulated in 1h 2m 25s, estimated 30m 34s remaining.\n"
       ]
      },
      {
       "output_type": "stream",
       "stream": "stdout",
       "text": [
        "10.42272727 s (67%) simulated in 1h 2m 35s, estimated 30m 30s remaining.\n"
       ]
      },
      {
       "output_type": "stream",
       "stream": "stdout",
       "text": [
        "10.44090909 s (67%) simulated in 1h 2m 45s, estimated 30m 25s remaining.\n"
       ]
      },
      {
       "output_type": "stream",
       "stream": "stdout",
       "text": [
        "10.45909091 s (67%) simulated in 1h 2m 56s, estimated 30m 20s remaining.\n"
       ]
      },
      {
       "output_type": "stream",
       "stream": "stdout",
       "text": [
        "10.47818182 s (67%) simulated in 1h 3m 6s, estimated 30m 15s remaining.\n"
       ]
      },
      {
       "output_type": "stream",
       "stream": "stdout",
       "text": [
        "10.49636364 s (67%) simulated in 1h 3m 17s, estimated 30m 10s remaining.\n"
       ]
      },
      {
       "output_type": "stream",
       "stream": "stdout",
       "text": [
        "10.51454545 s (67%) simulated in 1h 3m 27s, estimated 30m 5s remaining.\n"
       ]
      },
      {
       "output_type": "stream",
       "stream": "stdout",
       "text": [
        "10.53272727 s (67%) simulated in 1h 3m 37s, estimated 30m 0s remaining.\n"
       ]
      },
      {
       "output_type": "stream",
       "stream": "stdout",
       "text": [
        "10.55090909 s (68%) simulated in 1h 3m 47s, estimated 29m 56s remaining.\n"
       ]
      },
      {
       "output_type": "stream",
       "stream": "stdout",
       "text": [
        "10.56909091 s (68%) simulated in 1h 3m 57s, estimated 29m 51s remaining.\n"
       ]
      },
      {
       "output_type": "stream",
       "stream": "stdout",
       "text": [
        "10.58727273 s (68%) simulated in 1h 4m 8s, estimated 29m 46s remaining.\n"
       ]
      },
      {
       "output_type": "stream",
       "stream": "stdout",
       "text": [
        "10.60545455 s (68%) simulated in 1h 4m 18s, estimated 29m 41s remaining.\n"
       ]
      },
      {
       "output_type": "stream",
       "stream": "stdout",
       "text": [
        "10.62363636 s (68%) simulated in 1h 4m 28s, estimated 29m 36s remaining.\n"
       ]
      },
      {
       "output_type": "stream",
       "stream": "stdout",
       "text": [
        "10.64181818 s (68%) simulated in 1h 4m 39s, estimated 29m 31s remaining.\n"
       ]
      },
      {
       "output_type": "stream",
       "stream": "stdout",
       "text": [
        "10.65909091 s (68%) simulated in 1h 4m 49s, estimated 29m 26s remaining.\n"
       ]
      },
      {
       "output_type": "stream",
       "stream": "stdout",
       "text": [
        "10.67727273 s (68%) simulated in 1h 4m 59s, estimated 29m 21s remaining.\n"
       ]
      },
      {
       "output_type": "stream",
       "stream": "stdout",
       "text": [
        "10.69454545 s (68%) simulated in 1h 5m 9s, estimated 29m 17s remaining.\n"
       ]
      },
      {
       "output_type": "stream",
       "stream": "stdout",
       "text": [
        "10.71181818 s (69%) simulated in 1h 5m 19s, estimated 29m 12s remaining.\n"
       ]
      },
      {
       "output_type": "stream",
       "stream": "stdout",
       "text": [
        "10.73 s (69%) simulated in 1h 5m 30s, estimated 29m 7s remaining.\n"
       ]
      },
      {
       "output_type": "stream",
       "stream": "stdout",
       "text": [
        "10.74727273 s (69%) simulated in 1h 5m 40s, estimated 29m 2s remaining.\n"
       ]
      },
      {
       "output_type": "stream",
       "stream": "stdout",
       "text": [
        "10.76363636 s (69%) simulated in 1h 5m 50s, estimated 28m 58s remaining.\n"
       ]
      },
      {
       "output_type": "stream",
       "stream": "stdout",
       "text": [
        "10.78090909 s (69%) simulated in 1h 6m 0s, estimated 28m 54s remaining.\n"
       ]
      },
      {
       "output_type": "stream",
       "stream": "stdout",
       "text": [
        "10.79909091 s (69%) simulated in 1h 6m 10s, estimated 28m 48s remaining.\n"
       ]
      },
      {
       "output_type": "stream",
       "stream": "stdout",
       "text": [
        "10.81727273 s (69%) simulated in 1h 6m 20s, estimated 28m 43s remaining.\n"
       ]
      },
      {
       "output_type": "stream",
       "stream": "stdout",
       "text": [
        "10.83454545 s (69%) simulated in 1h 6m 31s, estimated 28m 39s remaining.\n"
       ]
      },
      {
       "output_type": "stream",
       "stream": "stdout",
       "text": [
        "10.85181818 s (70%) simulated in 1h 6m 41s, estimated 28m 34s remaining.\n"
       ]
      },
      {
       "output_type": "stream",
       "stream": "stdout",
       "text": [
        "10.87 s (70%) simulated in 1h 6m 51s, estimated 28m 29s remaining.\n"
       ]
      },
      {
       "output_type": "stream",
       "stream": "stdout",
       "text": [
        "10.88818182 s (70%) simulated in 1h 7m 2s, estimated 28m 24s remaining.\n"
       ]
      },
      {
       "output_type": "stream",
       "stream": "stdout",
       "text": [
        "10.90636364 s (70%) simulated in 1h 7m 12s, estimated 28m 19s remaining.\n"
       ]
      },
      {
       "output_type": "stream",
       "stream": "stdout",
       "text": [
        "10.92454545 s (70%) simulated in 1h 7m 23s, estimated 28m 13s remaining.\n"
       ]
      },
      {
       "output_type": "stream",
       "stream": "stdout",
       "text": [
        "10.94181818 s (70%) simulated in 1h 7m 33s, estimated 28m 9s remaining.\n"
       ]
      },
      {
       "output_type": "stream",
       "stream": "stdout",
       "text": [
        "10.96 s (70%) simulated in 1h 7m 43s, estimated 28m 3s remaining.\n"
       ]
      },
      {
       "output_type": "stream",
       "stream": "stdout",
       "text": [
        "10.97818182 s (70%) simulated in 1h 7m 54s, estimated 27m 58s remaining.\n"
       ]
      },
      {
       "output_type": "stream",
       "stream": "stdout",
       "text": [
        "10.99636364 s (70%) simulated in 1h 8m 4s, estimated 27m 53s remaining.\n"
       ]
      },
      {
       "output_type": "stream",
       "stream": "stdout",
       "text": [
        "11.01363636 s (71%) simulated in 1h 8m 14s, estimated 27m 48s remaining.\n"
       ]
      },
      {
       "output_type": "stream",
       "stream": "stdout",
       "text": [
        "11.03090909 s (71%) simulated in 1h 8m 24s, estimated 27m 43s remaining.\n"
       ]
      },
      {
       "output_type": "stream",
       "stream": "stdout",
       "text": [
        "11.04909091 s (71%) simulated in 1h 8m 35s, estimated 27m 38s remaining.\n"
       ]
      },
      {
       "output_type": "stream",
       "stream": "stdout",
       "text": [
        "11.06636364 s (71%) simulated in 1h 8m 45s, estimated 27m 33s remaining.\n"
       ]
      },
      {
       "output_type": "stream",
       "stream": "stdout",
       "text": [
        "11.08363636 s (71%) simulated in 1h 8m 55s, estimated 27m 28s remaining.\n"
       ]
      },
      {
       "output_type": "stream",
       "stream": "stdout",
       "text": [
        "11.10090909 s (71%) simulated in 1h 9m 6s, estimated 27m 23s remaining.\n"
       ]
      },
      {
       "output_type": "stream",
       "stream": "stdout",
       "text": [
        "11.11818182 s (71%) simulated in 1h 9m 16s, estimated 27m 18s remaining.\n"
       ]
      },
      {
       "output_type": "stream",
       "stream": "stdout",
       "text": [
        "11.13545455 s (71%) simulated in 1h 9m 26s, estimated 27m 13s remaining.\n"
       ]
      },
      {
       "output_type": "stream",
       "stream": "stdout",
       "text": [
        "11.15272727 s (71%) simulated in 1h 9m 36s, estimated 27m 8s remaining.\n"
       ]
      },
      {
       "output_type": "stream",
       "stream": "stdout",
       "text": [
        "11.17 s (72%) simulated in 1h 9m 47s, estimated 27m 3s remaining.\n"
       ]
      },
      {
       "output_type": "stream",
       "stream": "stdout",
       "text": [
        "11.18727273 s (72%) simulated in 1h 9m 57s, estimated 26m 58s remaining.\n"
       ]
      },
      {
       "output_type": "stream",
       "stream": "stdout",
       "text": [
        "11.20454545 s (72%) simulated in 1h 10m 8s, estimated 26m 53s remaining.\n"
       ]
      },
      {
       "output_type": "stream",
       "stream": "stdout",
       "text": [
        "11.22181818 s (72%) simulated in 1h 10m 18s, estimated 26m 48s remaining.\n"
       ]
      },
      {
       "output_type": "stream",
       "stream": "stdout",
       "text": [
        "11.23909091 s (72%) simulated in 1h 10m 28s, estimated 26m 43s remaining.\n"
       ]
      },
      {
       "output_type": "stream",
       "stream": "stdout",
       "text": [
        "11.25545455 s (72%) simulated in 1h 10m 38s, estimated 26m 39s remaining.\n"
       ]
      },
      {
       "output_type": "stream",
       "stream": "stdout",
       "text": [
        "11.27272727 s (72%) simulated in 1h 10m 49s, estimated 26m 33s remaining.\n"
       ]
      },
      {
       "output_type": "stream",
       "stream": "stdout",
       "text": [
        "11.29 s (72%) simulated in 1h 10m 59s, estimated 26m 28s remaining.\n"
       ]
      },
      {
       "output_type": "stream",
       "stream": "stdout",
       "text": [
        "11.30727273 s (72%) simulated in 1h 11m 9s, estimated 26m 23s remaining.\n"
       ]
      },
      {
       "output_type": "stream",
       "stream": "stdout",
       "text": [
        "11.32454545 s (73%) simulated in 1h 11m 20s, estimated 26m 18s remaining.\n"
       ]
      },
      {
       "output_type": "stream",
       "stream": "stdout",
       "text": [
        "11.34181818 s (73%) simulated in 1h 11m 30s, estimated 26m 13s remaining.\n"
       ]
      },
      {
       "output_type": "stream",
       "stream": "stdout",
       "text": [
        "11.35909091 s (73%) simulated in 1h 11m 40s, estimated 26m 8s remaining.\n"
       ]
      },
      {
       "output_type": "stream",
       "stream": "stdout",
       "text": [
        "11.37636364 s (73%) simulated in 1h 11m 51s, estimated 26m 3s remaining.\n"
       ]
      },
      {
       "output_type": "stream",
       "stream": "stdout",
       "text": [
        "11.39363636 s (73%) simulated in 1h 12m 1s, estimated 25m 57s remaining.\n"
       ]
      },
      {
       "output_type": "stream",
       "stream": "stdout",
       "text": [
        "11.41090909 s (73%) simulated in 1h 12m 11s, estimated 25m 52s remaining.\n"
       ]
      },
      {
       "output_type": "stream",
       "stream": "stdout",
       "text": [
        "11.42818182 s (73%) simulated in 1h 12m 22s, estimated 25m 47s remaining.\n"
       ]
      },
      {
       "output_type": "stream",
       "stream": "stdout",
       "text": [
        "11.44545455 s (73%) simulated in 1h 12m 32s, estimated 25m 42s remaining.\n"
       ]
      },
      {
       "output_type": "stream",
       "stream": "stdout",
       "text": [
        "11.46272727 s (73%) simulated in 1h 12m 42s, estimated 25m 37s remaining.\n"
       ]
      },
      {
       "output_type": "stream",
       "stream": "stdout",
       "text": [
        "11.48 s (74%) simulated in 1h 12m 53s, estimated 25m 31s remaining.\n"
       ]
      },
      {
       "output_type": "stream",
       "stream": "stdout",
       "text": [
        "11.49636364 s (74%) simulated in 1h 13m 3s, estimated 25m 26s remaining.\n"
       ]
      },
      {
       "output_type": "stream",
       "stream": "stdout",
       "text": [
        "11.51363636 s (74%) simulated in 1h 13m 13s, estimated 25m 21s remaining.\n"
       ]
      },
      {
       "output_type": "stream",
       "stream": "stdout",
       "text": [
        "11.53090909 s (74%) simulated in 1h 13m 23s, estimated 25m 16s remaining.\n"
       ]
      },
      {
       "output_type": "stream",
       "stream": "stdout",
       "text": [
        "11.54818182 s (74%) simulated in 1h 13m 34s, estimated 25m 11s remaining.\n"
       ]
      },
      {
       "output_type": "stream",
       "stream": "stdout",
       "text": [
        "11.56545455 s (74%) simulated in 1h 13m 44s, estimated 25m 5s remaining.\n"
       ]
      },
      {
       "output_type": "stream",
       "stream": "stdout",
       "text": [
        "11.58272727 s (74%) simulated in 1h 13m 55s, estimated 25m 0s remaining.\n"
       ]
      },
      {
       "output_type": "stream",
       "stream": "stdout",
       "text": [
        "11.6 s (74%) simulated in 1h 14m 5s, estimated 24m 55s remaining.\n"
       ]
      },
      {
       "output_type": "stream",
       "stream": "stdout",
       "text": [
        "11.61727273 s (74%) simulated in 1h 14m 16s, estimated 24m 49s remaining.\n"
       ]
      },
      {
       "output_type": "stream",
       "stream": "stdout",
       "text": [
        "11.63454545 s (75%) simulated in 1h 14m 26s, estimated 24m 44s remaining.\n"
       ]
      },
      {
       "output_type": "stream",
       "stream": "stdout",
       "text": [
        "11.65181818 s (75%) simulated in 1h 14m 36s, estimated 24m 39s remaining.\n"
       ]
      },
      {
       "output_type": "stream",
       "stream": "stdout",
       "text": [
        "11.66909091 s (75%) simulated in 1h 14m 46s, estimated 24m 33s remaining.\n"
       ]
      },
      {
       "output_type": "stream",
       "stream": "stdout",
       "text": [
        "11.68636364 s (75%) simulated in 1h 14m 57s, estimated 24m 28s remaining.\n"
       ]
      },
      {
       "output_type": "stream",
       "stream": "stdout",
       "text": [
        "11.70363636 s (75%) simulated in 1h 15m 7s, estimated 24m 22s remaining.\n"
       ]
      },
      {
       "output_type": "stream",
       "stream": "stdout",
       "text": [
        "11.72090909 s (75%) simulated in 1h 15m 17s, estimated 24m 17s remaining.\n"
       ]
      },
      {
       "output_type": "stream",
       "stream": "stdout",
       "text": [
        "11.73818182 s (75%) simulated in 1h 15m 27s, estimated 24m 11s remaining.\n"
       ]
      },
      {
       "output_type": "stream",
       "stream": "stdout",
       "text": [
        "11.75545455 s (75%) simulated in 1h 15m 37s, estimated 24m 5s remaining.\n"
       ]
      },
      {
       "output_type": "stream",
       "stream": "stdout",
       "text": [
        "11.77181818 s (75%) simulated in 1h 15m 48s, estimated 24m 0s remaining.\n"
       ]
      },
      {
       "output_type": "stream",
       "stream": "stdout",
       "text": [
        "11.78909091 s (76%) simulated in 1h 15m 58s, estimated 23m 55s remaining.\n"
       ]
      },
      {
       "output_type": "stream",
       "stream": "stdout",
       "text": [
        "11.80636364 s (76%) simulated in 1h 16m 8s, estimated 23m 49s remaining.\n"
       ]
      },
      {
       "output_type": "stream",
       "stream": "stdout",
       "text": [
        "11.82363636 s (76%) simulated in 1h 16m 19s, estimated 23m 44s remaining.\n"
       ]
      },
      {
       "output_type": "stream",
       "stream": "stdout",
       "text": [
        "11.84090909 s (76%) simulated in 1h 16m 29s, estimated 23m 38s remaining.\n"
       ]
      },
      {
       "output_type": "stream",
       "stream": "stdout",
       "text": [
        "11.85818182 s (76%) simulated in 1h 16m 39s, estimated 23m 33s remaining.\n"
       ]
      },
      {
       "output_type": "stream",
       "stream": "stdout",
       "text": [
        "11.87545455 s (76%) simulated in 1h 16m 50s, estimated 23m 27s remaining.\n"
       ]
      },
      {
       "output_type": "stream",
       "stream": "stdout",
       "text": [
        "11.89 s (76%) simulated in 1h 17m 0s, estimated 23m 23s remaining.\n"
       ]
      },
      {
       "output_type": "stream",
       "stream": "stdout",
       "text": [
        "11.90181818 s (76%) simulated in 1h 17m 11s, estimated 23m 20s remaining.\n"
       ]
      },
      {
       "output_type": "stream",
       "stream": "stdout",
       "text": [
        "11.91636364 s (76%) simulated in 1h 17m 21s, estimated 23m 16s remaining.\n"
       ]
      },
      {
       "output_type": "stream",
       "stream": "stdout",
       "text": [
        "11.93181818 s (76%) simulated in 1h 17m 31s, estimated 23m 11s remaining.\n"
       ]
      },
      {
       "output_type": "stream",
       "stream": "stdout",
       "text": [
        "11.94727273 s (77%) simulated in 1h 17m 41s, estimated 23m 6s remaining.\n"
       ]
      },
      {
       "output_type": "stream",
       "stream": "stdout",
       "text": [
        "11.96272727 s (77%) simulated in 1h 17m 52s, estimated 23m 2s remaining.\n"
       ]
      },
      {
       "output_type": "stream",
       "stream": "stdout",
       "text": [
        "11.97818182 s (77%) simulated in 1h 18m 2s, estimated 22m 57s remaining.\n"
       ]
      },
      {
       "output_type": "stream",
       "stream": "stdout",
       "text": [
        "11.99454545 s (77%) simulated in 1h 18m 13s, estimated 22m 52s remaining.\n"
       ]
      },
      {
       "output_type": "stream",
       "stream": "stdout",
       "text": [
        "12.01 s (77%) simulated in 1h 18m 23s, estimated 22m 47s remaining.\n"
       ]
      },
      {
       "output_type": "stream",
       "stream": "stdout",
       "text": [
        "12.02636364 s (77%) simulated in 1h 18m 33s, estimated 22m 42s remaining.\n"
       ]
      },
      {
       "output_type": "stream",
       "stream": "stdout",
       "text": [
        "12.04272727 s (77%) simulated in 1h 18m 43s, estimated 22m 36s remaining.\n"
       ]
      },
      {
       "output_type": "stream",
       "stream": "stdout",
       "text": [
        "12.05909091 s (77%) simulated in 1h 18m 54s, estimated 22m 31s remaining.\n"
       ]
      },
      {
       "output_type": "stream",
       "stream": "stdout",
       "text": [
        "12.07545455 s (77%) simulated in 1h 19m 4s, estimated 22m 26s remaining.\n"
       ]
      },
      {
       "output_type": "stream",
       "stream": "stdout",
       "text": [
        "12.08818182 s (77%) simulated in 1h 19m 15s, estimated 22m 22s remaining.\n"
       ]
      },
      {
       "output_type": "stream",
       "stream": "stdout",
       "text": [
        "12.10363636 s (78%) simulated in 1h 19m 25s, estimated 22m 17s remaining.\n"
       ]
      },
      {
       "output_type": "stream",
       "stream": "stdout",
       "text": [
        "12.11909091 s (78%) simulated in 1h 19m 35s, estimated 22m 12s remaining.\n"
       ]
      },
      {
       "output_type": "stream",
       "stream": "stdout",
       "text": [
        "12.13545455 s (78%) simulated in 1h 19m 46s, estimated 22m 7s remaining.\n"
       ]
      },
      {
       "output_type": "stream",
       "stream": "stdout",
       "text": [
        "12.15 s (78%) simulated in 1h 19m 56s, estimated 22m 2s remaining.\n"
       ]
      },
      {
       "output_type": "stream",
       "stream": "stdout",
       "text": [
        "12.16181818 s (78%) simulated in 1h 20m 6s, estimated 21m 59s remaining.\n"
       ]
      },
      {
       "output_type": "stream",
       "stream": "stdout",
       "text": [
        "12.17636364 s (78%) simulated in 1h 20m 17s, estimated 21m 55s remaining.\n"
       ]
      },
      {
       "output_type": "stream",
       "stream": "stdout",
       "text": [
        "12.19181818 s (78%) simulated in 1h 20m 27s, estimated 21m 50s remaining.\n"
       ]
      },
      {
       "output_type": "stream",
       "stream": "stdout",
       "text": [
        "12.20636364 s (78%) simulated in 1h 20m 37s, estimated 21m 45s remaining.\n"
       ]
      },
      {
       "output_type": "stream",
       "stream": "stdout",
       "text": [
        "12.22272727 s (78%) simulated in 1h 20m 47s, estimated 21m 40s remaining.\n"
       ]
      },
      {
       "output_type": "stream",
       "stream": "stdout",
       "text": [
        "12.23909091 s (78%) simulated in 1h 20m 58s, estimated 21m 34s remaining.\n"
       ]
      },
      {
       "output_type": "stream",
       "stream": "stdout",
       "text": [
        "12.25454545 s (79%) simulated in 1h 21m 8s, estimated 21m 29s remaining.\n"
       ]
      },
      {
       "output_type": "stream",
       "stream": "stdout",
       "text": [
        "12.27 s (79%) simulated in 1h 21m 18s, estimated 21m 24s remaining.\n"
       ]
      },
      {
       "output_type": "stream",
       "stream": "stdout",
       "text": [
        "12.28636364 s (79%) simulated in 1h 21m 28s, estimated 21m 19s remaining.\n"
       ]
      },
      {
       "output_type": "stream",
       "stream": "stdout",
       "text": [
        "12.30272727 s (79%) simulated in 1h 21m 38s, estimated 21m 13s remaining.\n"
       ]
      },
      {
       "output_type": "stream",
       "stream": "stdout",
       "text": [
        "12.31909091 s (79%) simulated in 1h 21m 48s, estimated 21m 8s remaining.\n"
       ]
      },
      {
       "output_type": "stream",
       "stream": "stdout",
       "text": [
        "12.33545455 s (79%) simulated in 1h 21m 59s, estimated 21m 2s remaining.\n"
       ]
      },
      {
       "output_type": "stream",
       "stream": "stdout",
       "text": [
        "12.35181818 s (79%) simulated in 1h 22m 9s, estimated 20m 56s remaining.\n"
       ]
      },
      {
       "output_type": "stream",
       "stream": "stdout",
       "text": [
        "12.36818182 s (79%) simulated in 1h 22m 19s, estimated 20m 51s remaining.\n"
       ]
      },
      {
       "output_type": "stream",
       "stream": "stdout",
       "text": [
        "12.38454545 s (79%) simulated in 1h 22m 29s, estimated 20m 45s remaining.\n"
       ]
      },
      {
       "output_type": "stream",
       "stream": "stdout",
       "text": [
        "12.40090909 s (80%) simulated in 1h 22m 39s, estimated 20m 39s remaining.\n"
       ]
      },
      {
       "output_type": "stream",
       "stream": "stdout",
       "text": [
        "12.41727273 s (80%) simulated in 1h 22m 49s, estimated 20m 34s remaining.\n"
       ]
      },
      {
       "output_type": "stream",
       "stream": "stdout",
       "text": [
        "12.43363636 s (80%) simulated in 1h 23m 0s, estimated 20m 28s remaining.\n"
       ]
      },
      {
       "output_type": "stream",
       "stream": "stdout",
       "text": [
        "12.45 s (80%) simulated in 1h 23m 10s, estimated 20m 23s remaining.\n"
       ]
      },
      {
       "output_type": "stream",
       "stream": "stdout",
       "text": [
        "12.46636364 s (80%) simulated in 1h 23m 20s, estimated 20m 17s remaining.\n"
       ]
      },
      {
       "output_type": "stream",
       "stream": "stdout",
       "text": [
        "12.48090909 s (80%) simulated in 1h 23m 30s, estimated 20m 12s remaining.\n"
       ]
      },
      {
       "output_type": "stream",
       "stream": "stdout",
       "text": [
        "12.49727273 s (80%) simulated in 1h 23m 41s, estimated 20m 6s remaining.\n"
       ]
      },
      {
       "output_type": "stream",
       "stream": "stdout",
       "text": [
        "12.51363636 s (80%) simulated in 1h 23m 51s, estimated 20m 1s remaining.\n"
       ]
      },
      {
       "output_type": "stream",
       "stream": "stdout",
       "text": [
        "12.53 s (80%) simulated in 1h 24m 1s, estimated 19m 55s remaining.\n"
       ]
      },
      {
       "output_type": "stream",
       "stream": "stdout",
       "text": [
        "12.54636364 s (80%) simulated in 1h 24m 11s, estimated 19m 49s remaining.\n"
       ]
      },
      {
       "output_type": "stream",
       "stream": "stdout",
       "text": [
        "12.56181818 s (81%) simulated in 1h 24m 21s, estimated 19m 44s remaining.\n"
       ]
      },
      {
       "output_type": "stream",
       "stream": "stdout",
       "text": [
        "12.57727273 s (81%) simulated in 1h 24m 32s, estimated 19m 39s remaining.\n"
       ]
      },
      {
       "output_type": "stream",
       "stream": "stdout",
       "text": [
        "12.59363636 s (81%) simulated in 1h 24m 42s, estimated 19m 33s remaining.\n"
       ]
      },
      {
       "output_type": "stream",
       "stream": "stdout",
       "text": [
        "12.61 s (81%) simulated in 1h 24m 52s, estimated 19m 27s remaining.\n"
       ]
      },
      {
       "output_type": "stream",
       "stream": "stdout",
       "text": [
        "12.62545455 s (81%) simulated in 1h 25m 3s, estimated 19m 22s remaining.\n"
       ]
      },
      {
       "output_type": "stream",
       "stream": "stdout",
       "text": [
        "12.64090909 s (81%) simulated in 1h 25m 13s, estimated 19m 17s remaining.\n"
       ]
      },
      {
       "output_type": "stream",
       "stream": "stdout",
       "text": [
        "12.65727273 s (81%) simulated in 1h 25m 23s, estimated 19m 11s remaining.\n"
       ]
      },
      {
       "output_type": "stream",
       "stream": "stdout",
       "text": [
        "12.67363636 s (81%) simulated in 1h 25m 34s, estimated 19m 5s remaining.\n"
       ]
      },
      {
       "output_type": "stream",
       "stream": "stdout",
       "text": [
        "12.69 s (81%) simulated in 1h 25m 44s, estimated 18m 59s remaining.\n"
       ]
      },
      {
       "output_type": "stream",
       "stream": "stdout",
       "text": [
        "12.70545455 s (81%) simulated in 1h 25m 54s, estimated 18m 54s remaining.\n"
       ]
      },
      {
       "output_type": "stream",
       "stream": "stdout",
       "text": [
        "12.72181818 s (82%) simulated in 1h 26m 5s, estimated 18m 48s remaining.\n"
       ]
      },
      {
       "output_type": "stream",
       "stream": "stdout",
       "text": [
        "12.73818182 s (82%) simulated in 1h 26m 15s, estimated 18m 42s remaining.\n"
       ]
      },
      {
       "output_type": "stream",
       "stream": "stdout",
       "text": [
        "12.75454545 s (82%) simulated in 1h 26m 25s, estimated 18m 36s remaining.\n"
       ]
      },
      {
       "output_type": "stream",
       "stream": "stdout",
       "text": [
        "12.77090909 s (82%) simulated in 1h 26m 36s, estimated 18m 30s remaining.\n"
       ]
      },
      {
       "output_type": "stream",
       "stream": "stdout",
       "text": [
        "12.78727273 s (82%) simulated in 1h 26m 46s, estimated 18m 25s remaining.\n"
       ]
      },
      {
       "output_type": "stream",
       "stream": "stdout",
       "text": [
        "12.80363636 s (82%) simulated in 1h 26m 56s, estimated 18m 19s remaining.\n"
       ]
      },
      {
       "output_type": "stream",
       "stream": "stdout",
       "text": [
        "12.82 s (82%) simulated in 1h 27m 7s, estimated 18m 13s remaining.\n"
       ]
      },
      {
       "output_type": "stream",
       "stream": "stdout",
       "text": [
        "12.83545455 s (82%) simulated in 1h 27m 17s, estimated 18m 7s remaining.\n"
       ]
      },
      {
       "output_type": "stream",
       "stream": "stdout",
       "text": [
        "12.85090909 s (82%) simulated in 1h 27m 27s, estimated 18m 2s remaining.\n"
       ]
      },
      {
       "output_type": "stream",
       "stream": "stdout",
       "text": [
        "12.86636364 s (83%) simulated in 1h 27m 37s, estimated 17m 56s remaining.\n"
       ]
      },
      {
       "output_type": "stream",
       "stream": "stdout",
       "text": [
        "12.88272727 s (83%) simulated in 1h 27m 48s, estimated 17m 50s remaining.\n"
       ]
      },
      {
       "output_type": "stream",
       "stream": "stdout",
       "text": [
        "12.89818182 s (83%) simulated in 1h 27m 58s, estimated 17m 45s remaining.\n"
       ]
      },
      {
       "output_type": "stream",
       "stream": "stdout",
       "text": [
        "12.91363636 s (83%) simulated in 1h 28m 8s, estimated 17m 39s remaining.\n"
       ]
      },
      {
       "output_type": "stream",
       "stream": "stdout",
       "text": [
        "12.92909091 s (83%) simulated in 1h 28m 19s, estimated 17m 34s remaining.\n"
       ]
      },
      {
       "output_type": "stream",
       "stream": "stdout",
       "text": [
        "12.94454545 s (83%) simulated in 1h 28m 29s, estimated 17m 28s remaining.\n"
       ]
      },
      {
       "output_type": "stream",
       "stream": "stdout",
       "text": [
        "12.96 s (83%) simulated in 1h 28m 39s, estimated 17m 23s remaining.\n"
       ]
      },
      {
       "output_type": "stream",
       "stream": "stdout",
       "text": [
        "12.97181818 s (83%) simulated in 1h 28m 49s, estimated 17m 19s remaining.\n"
       ]
      },
      {
       "output_type": "stream",
       "stream": "stdout",
       "text": [
        "12.98727273 s (83%) simulated in 1h 28m 59s, estimated 17m 13s remaining.\n"
       ]
      },
      {
       "output_type": "stream",
       "stream": "stdout",
       "text": [
        "13.00272727 s (83%) simulated in 1h 29m 10s, estimated 17m 8s remaining.\n"
       ]
      },
      {
       "output_type": "stream",
       "stream": "stdout",
       "text": [
        "13.01818182 s (83%) simulated in 1h 29m 20s, estimated 17m 2s remaining.\n"
       ]
      },
      {
       "output_type": "stream",
       "stream": "stdout",
       "text": [
        "13.03363636 s (84%) simulated in 1h 29m 30s, estimated 16m 56s remaining.\n"
       ]
      },
      {
       "output_type": "stream",
       "stream": "stdout",
       "text": [
        "13.04909091 s (84%) simulated in 1h 29m 41s, estimated 16m 51s remaining.\n"
       ]
      },
      {
       "output_type": "stream",
       "stream": "stdout",
       "text": [
        "13.06454545 s (84%) simulated in 1h 29m 51s, estimated 16m 45s remaining.\n"
       ]
      },
      {
       "output_type": "stream",
       "stream": "stdout",
       "text": [
        "13.08 s (84%) simulated in 1h 30m 2s, estimated 16m 39s remaining.\n"
       ]
      },
      {
       "output_type": "stream",
       "stream": "stdout",
       "text": [
        "13.09363636 s (84%) simulated in 1h 30m 12s, estimated 16m 35s remaining.\n"
       ]
      },
      {
       "output_type": "stream",
       "stream": "stdout",
       "text": [
        "13.10909091 s (84%) simulated in 1h 30m 22s, estimated 16m 29s remaining.\n"
       ]
      },
      {
       "output_type": "stream",
       "stream": "stdout",
       "text": [
        "13.12454545 s (84%) simulated in 1h 30m 32s, estimated 16m 23s remaining.\n"
       ]
      },
      {
       "output_type": "stream",
       "stream": "stdout",
       "text": [
        "13.14 s (84%) simulated in 1h 30m 43s, estimated 16m 18s remaining.\n"
       ]
      },
      {
       "output_type": "stream",
       "stream": "stdout",
       "text": [
        "13.15545455 s (84%) simulated in 1h 30m 53s, estimated 16m 12s remaining.\n"
       ]
      },
      {
       "output_type": "stream",
       "stream": "stdout",
       "text": [
        "13.17090909 s (84%) simulated in 1h 31m 3s, estimated 16m 6s remaining.\n"
       ]
      },
      {
       "output_type": "stream",
       "stream": "stdout",
       "text": [
        "13.18636364 s (85%) simulated in 1h 31m 14s, estimated 16m 0s remaining.\n"
       ]
      },
      {
       "output_type": "stream",
       "stream": "stdout",
       "text": [
        "13.20181818 s (85%) simulated in 1h 31m 24s, estimated 15m 55s remaining.\n"
       ]
      },
      {
       "output_type": "stream",
       "stream": "stdout",
       "text": [
        "13.21727273 s (85%) simulated in 1h 31m 34s, estimated 15m 49s remaining.\n"
       ]
      },
      {
       "output_type": "stream",
       "stream": "stdout",
       "text": [
        "13.23272727 s (85%) simulated in 1h 31m 45s, estimated 15m 43s remaining.\n"
       ]
      },
      {
       "output_type": "stream",
       "stream": "stdout",
       "text": [
        "13.24818182 s (85%) simulated in 1h 31m 55s, estimated 15m 38s remaining.\n"
       ]
      },
      {
       "output_type": "stream",
       "stream": "stdout",
       "text": [
        "13.26363636 s (85%) simulated in 1h 32m 6s, estimated 15m 32s remaining.\n"
       ]
      },
      {
       "output_type": "stream",
       "stream": "stdout",
       "text": [
        "13.27909091 s (85%) simulated in 1h 32m 16s, estimated 15m 26s remaining.\n"
       ]
      },
      {
       "output_type": "stream",
       "stream": "stdout",
       "text": [
        "13.29454545 s (85%) simulated in 1h 32m 27s, estimated 15m 20s remaining.\n"
       ]
      },
      {
       "output_type": "stream",
       "stream": "stdout",
       "text": [
        "13.31 s (85%) simulated in 1h 32m 37s, estimated 15m 14s remaining.\n"
       ]
      },
      {
       "output_type": "stream",
       "stream": "stdout",
       "text": [
        "13.32545455 s (85%) simulated in 1h 32m 47s, estimated 15m 9s remaining.\n"
       ]
      },
      {
       "output_type": "stream",
       "stream": "stdout",
       "text": [
        "13.34090909 s (86%) simulated in 1h 32m 58s, estimated 15m 3s remaining.\n"
       ]
      },
      {
       "output_type": "stream",
       "stream": "stdout",
       "text": [
        "13.35636364 s (86%) simulated in 1h 33m 8s, estimated 14m 57s remaining.\n"
       ]
      },
      {
       "output_type": "stream",
       "stream": "stdout",
       "text": [
        "13.37181818 s (86%) simulated in 1h 33m 19s, estimated 14m 51s remaining.\n"
       ]
      },
      {
       "output_type": "stream",
       "stream": "stdout",
       "text": [
        "13.38727273 s (86%) simulated in 1h 33m 29s, estimated 14m 45s remaining.\n"
       ]
      },
      {
       "output_type": "stream",
       "stream": "stdout",
       "text": [
        "13.40272727 s (86%) simulated in 1h 33m 40s, estimated 14m 39s remaining.\n"
       ]
      },
      {
       "output_type": "stream",
       "stream": "stdout",
       "text": [
        "13.41818182 s (86%) simulated in 1h 33m 50s, estimated 14m 34s remaining.\n"
       ]
      },
      {
       "output_type": "stream",
       "stream": "stdout",
       "text": [
        "13.43363636 s (86%) simulated in 1h 34m 0s, estimated 14m 28s remaining.\n"
       ]
      },
      {
       "output_type": "stream",
       "stream": "stdout",
       "text": [
        "13.44909091 s (86%) simulated in 1h 34m 11s, estimated 14m 22s remaining.\n"
       ]
      },
      {
       "output_type": "stream",
       "stream": "stdout",
       "text": [
        "13.46454545 s (86%) simulated in 1h 34m 22s, estimated 14m 16s remaining.\n"
       ]
      },
      {
       "output_type": "stream",
       "stream": "stdout",
       "text": [
        "13.48 s (86%) simulated in 1h 34m 32s, estimated 14m 10s remaining.\n"
       ]
      },
      {
       "output_type": "stream",
       "stream": "stdout",
       "text": [
        "13.49545455 s (87%) simulated in 1h 34m 42s, estimated 14m 4s remaining.\n"
       ]
      },
      {
       "output_type": "stream",
       "stream": "stdout",
       "text": [
        "13.51090909 s (87%) simulated in 1h 34m 53s, estimated 13m 58s remaining.\n"
       ]
      },
      {
       "output_type": "stream",
       "stream": "stdout",
       "text": [
        "13.52545455 s (87%) simulated in 1h 35m 4s, estimated 13m 53s remaining.\n"
       ]
      },
      {
       "output_type": "stream",
       "stream": "stdout",
       "text": [
        "13.54 s (87%) simulated in 1h 35m 14s, estimated 13m 47s remaining.\n"
       ]
      },
      {
       "output_type": "stream",
       "stream": "stdout",
       "text": [
        "13.55545455 s (87%) simulated in 1h 35m 25s, estimated 13m 41s remaining.\n"
       ]
      },
      {
       "output_type": "stream",
       "stream": "stdout",
       "text": [
        "13.57090909 s (87%) simulated in 1h 35m 35s, estimated 13m 35s remaining.\n"
       ]
      },
      {
       "output_type": "stream",
       "stream": "stdout",
       "text": [
        "13.58636364 s (87%) simulated in 1h 35m 46s, estimated 13m 29s remaining.\n"
       ]
      },
      {
       "output_type": "stream",
       "stream": "stdout",
       "text": [
        "13.60090909 s (87%) simulated in 1h 35m 56s, estimated 13m 24s remaining.\n"
       ]
      },
      {
       "output_type": "stream",
       "stream": "stdout",
       "text": [
        "13.61545455 s (87%) simulated in 1h 36m 6s, estimated 13m 18s remaining.\n"
       ]
      },
      {
       "output_type": "stream",
       "stream": "stdout",
       "text": [
        "13.63090909 s (87%) simulated in 1h 36m 17s, estimated 13m 12s remaining.\n"
       ]
      },
      {
       "output_type": "stream",
       "stream": "stdout",
       "text": [
        "13.64545455 s (88%) simulated in 1h 36m 27s, estimated 13m 7s remaining.\n"
       ]
      },
      {
       "output_type": "stream",
       "stream": "stdout",
       "text": [
        "13.66090909 s (88%) simulated in 1h 36m 38s, estimated 13m 1s remaining.\n"
       ]
      },
      {
       "output_type": "stream",
       "stream": "stdout",
       "text": [
        "13.67545455 s (88%) simulated in 1h 36m 48s, estimated 12m 55s remaining.\n"
       ]
      },
      {
       "output_type": "stream",
       "stream": "stdout",
       "text": [
        "13.69090909 s (88%) simulated in 1h 36m 58s, estimated 12m 49s remaining.\n"
       ]
      },
      {
       "output_type": "stream",
       "stream": "stdout",
       "text": [
        "13.70545455 s (88%) simulated in 1h 37m 9s, estimated 12m 43s remaining.\n"
       ]
      },
      {
       "output_type": "stream",
       "stream": "stdout",
       "text": [
        "13.72 s (88%) simulated in 1h 37m 19s, estimated 12m 38s remaining.\n"
       ]
      },
      {
       "output_type": "stream",
       "stream": "stdout",
       "text": [
        "13.73454545 s (88%) simulated in 1h 37m 29s, estimated 12m 32s remaining.\n"
       ]
      },
      {
       "output_type": "stream",
       "stream": "stdout",
       "text": [
        "13.74909091 s (88%) simulated in 1h 37m 39s, estimated 12m 26s remaining.\n"
       ]
      },
      {
       "output_type": "stream",
       "stream": "stdout",
       "text": [
        "13.76454545 s (88%) simulated in 1h 37m 50s, estimated 12m 20s remaining.\n"
       ]
      },
      {
       "output_type": "stream",
       "stream": "stdout",
       "text": [
        "13.78 s (88%) simulated in 1h 38m 0s, estimated 12m 14s remaining.\n"
       ]
      },
      {
       "output_type": "stream",
       "stream": "stdout",
       "text": [
        "13.79454545 s (88%) simulated in 1h 38m 11s, estimated 12m 8s remaining.\n"
       ]
      },
      {
       "output_type": "stream",
       "stream": "stdout",
       "text": [
        "13.80909091 s (89%) simulated in 1h 38m 21s, estimated 12m 3s remaining.\n"
       ]
      },
      {
       "output_type": "stream",
       "stream": "stdout",
       "text": [
        "13.82454545 s (89%) simulated in 1h 38m 31s, estimated 11m 56s remaining.\n"
       ]
      },
      {
       "output_type": "stream",
       "stream": "stdout",
       "text": [
        "13.84 s (89%) simulated in 1h 38m 42s, estimated 11m 50s remaining.\n"
       ]
      },
      {
       "output_type": "stream",
       "stream": "stdout",
       "text": [
        "13.85454545 s (89%) simulated in 1h 38m 52s, estimated 11m 45s remaining.\n"
       ]
      },
      {
       "output_type": "stream",
       "stream": "stdout",
       "text": [
        "13.86909091 s (89%) simulated in 1h 39m 2s, estimated 11m 39s remaining.\n"
       ]
      },
      {
       "output_type": "stream",
       "stream": "stdout",
       "text": [
        "13.88454545 s (89%) simulated in 1h 39m 13s, estimated 11m 33s remaining.\n"
       ]
      },
      {
       "output_type": "stream",
       "stream": "stdout",
       "text": [
        "13.89909091 s (89%) simulated in 1h 39m 23s, estimated 11m 27s remaining.\n"
       ]
      },
      {
       "output_type": "stream",
       "stream": "stdout",
       "text": [
        "13.91363636 s (89%) simulated in 1h 39m 33s, estimated 11m 21s remaining.\n"
       ]
      },
      {
       "output_type": "stream",
       "stream": "stdout",
       "text": [
        "13.92818182 s (89%) simulated in 1h 39m 43s, estimated 11m 15s remaining.\n"
       ]
      },
      {
       "output_type": "stream",
       "stream": "stdout",
       "text": [
        "13.94272727 s (89%) simulated in 1h 39m 54s, estimated 11m 9s remaining.\n"
       ]
      },
      {
       "output_type": "stream",
       "stream": "stdout",
       "text": [
        "13.95636364 s (90%) simulated in 1h 40m 4s, estimated 11m 4s remaining.\n"
       ]
      },
      {
       "output_type": "stream",
       "stream": "stdout",
       "text": [
        "13.97090909 s (90%) simulated in 1h 40m 14s, estimated 10m 58s remaining.\n"
       ]
      },
      {
       "output_type": "stream",
       "stream": "stdout",
       "text": [
        "13.98545455 s (90%) simulated in 1h 40m 24s, estimated 10m 52s remaining.\n"
       ]
      },
      {
       "output_type": "stream",
       "stream": "stdout",
       "text": [
        "14. s (90%) simulated in 1h 40m 35s, estimated 10m 47s remaining.\n"
       ]
      },
      {
       "output_type": "stream",
       "stream": "stdout",
       "text": [
        "14.01454545 s (90%) simulated in 1h 40m 45s, estimated 10m 41s remaining.\n"
       ]
      },
      {
       "output_type": "stream",
       "stream": "stdout",
       "text": [
        "14.02909091 s (90%) simulated in 1h 40m 56s, estimated 10m 35s remaining.\n"
       ]
      },
      {
       "output_type": "stream",
       "stream": "stdout",
       "text": [
        "14.04363636 s (90%) simulated in 1h 41m 6s, estimated 10m 29s remaining.\n"
       ]
      },
      {
       "output_type": "stream",
       "stream": "stdout",
       "text": [
        "14.05818182 s (90%) simulated in 1h 41m 16s, estimated 10m 23s remaining.\n"
       ]
      },
      {
       "output_type": "stream",
       "stream": "stdout",
       "text": [
        "14.07272727 s (90%) simulated in 1h 41m 27s, estimated 10m 17s remaining.\n"
       ]
      },
      {
       "output_type": "stream",
       "stream": "stdout",
       "text": [
        "14.08727273 s (90%) simulated in 1h 41m 37s, estimated 10m 11s remaining.\n"
       ]
      },
      {
       "output_type": "stream",
       "stream": "stdout",
       "text": [
        "15.5 s (100%) simulated in 1h 41m 39s\n"
       ]
      },
      {
       "output_type": "stream",
       "stream": "stdout",
       "text": [
        "Final Weights\n",
        "[ 0.90433194  0.6139531   0.50387484  0.55220372  0.51213536  0.85443374\n",
        "  0.99955922  0.5039825   0.73091913  0.9780236   0.5241028   0.71571812\n",
        "  0.93782861  0.51210244  0.73074697]\n",
        "[ 0.          0.          0.03412608  0.          0.90455366  0.78683668\n",
        "  0.          0.95912629  0.7282637   0.          0.78548583  0.78935491\n",
        "  0.03193823  0.00609877  0.17287094]\n",
        "[ 0.4474444   0.          0.98135641  0.          0.96315942  0.          0.\n",
        "  0.          0.15930208  0.          0.77299245  0.          0.\n",
        "  0.71739497  0.02804206]\n",
        "[ 0.          0.          0.99815102  0.          0.9239562   0.          0.\n",
        "  0.32862838  0.29682383  0.          0.85108903  0.          0.          0.\n",
        "  0.6687179 ]\n",
        "Final Tau\n",
        "[  4.67870579  12.80931328  15.89150457  14.53829579  15.66020997\n",
        "   6.07585538   2.0123418   15.88849011   9.53426444   2.6153392\n",
        "  15.32512158   9.95989264   3.74079895  15.66113156   9.53908472]\n",
        "[  9.38715598  12.1194624    9.34555739   6.3921125    5.61075905\n",
        "   4.06988445   9.88122329   3.54626289   6.41301412   7.44992802\n",
        "  10.1151254    3.96914614   3.41772316   4.7844492    2.40562813]\n",
        "[ 14.7112847   14.11913186   2.72683686  10.43654572   3.43626265\n",
        "  14.20735373   9.15843206   4.26396028   3.39998086   7.5902114\n",
        "  10.85008977   7.25459199   9.86718901   3.20308826  10.16608643]\n",
        "[ 15.97156807   4.01171718   2.07503494   9.24935852   5.08599601\n",
        "  13.72643044  13.71622469   7.36132416   5.76486557   7.2621342\n",
        "   8.04307852  11.68604314   5.89535223  10.07822174  15.44403097]\n",
        "Final Res\n",
        "[ 5.28618924  7.07014396  7.67118426  7.41054119  7.62696131  5.62546396\n",
        "  4.55408732  7.67060873  6.39667963  4.73398033  7.56265998  6.48674751\n",
        "  5.04468982  7.62713777  6.39770456]\n",
        "[ 6.36534465  6.93170042  6.35646422  5.69956225  5.51481581  5.13093667\n",
        "  6.47016506  4.99283791  5.70442879  5.94150634  6.51938451  5.10472189\n",
        "  4.95819508  5.31264187  4.67271447]\n",
        "[ 7.44412582  7.32882233  4.76605631  6.58661617  4.96321112  7.34606257\n",
        "  6.31640753  5.1810014   4.95338848  5.97297472  6.67245869  5.8974608\n",
        "  6.46720377  4.89962516  6.53007485]\n",
        "[ 7.68646215  5.11581952  4.57335711  6.33589406  5.38732016  7.25180984\n",
        "  7.2498024   5.92156072  5.55171007  5.89916649  6.07367171  6.84386832\n",
        "  5.58276752  6.51163569  7.58550996]\n",
        "\n",
        "\n",
        "+++ Results +++\n",
        "Spike results: TP:\t9 \tFP:\t3 \tTN:\t33 \tFN:\t3\n",
        "totalSpikeIntervalsTested:\t12 \ttotalCharsPresented:\t4\n",
        "True positives correct percentage (TP/totalSpikeIntervalsTested):\t0.75 \t(this is the percentage of all true positves that were found)\n",
        "Total correct percentage (TP+TN/(totalSpikeIntervals*totalCharsPresented)):\t0.875\n",
        "+++++++++++++++\n"
       ]
      },
      {
       "metadata": {},
       "output_type": "display_data",
       "png": "[encoded data removed]",
       "text": [
        "<matplotlib.figure.Figure at 0x16f2e090>"
       ]
      },
      {
       "output_type": "stream",
       "stream": "stdout",
       "text": [
        "spikes sucessfully saved\n",
        "voltage sucessfully saved"
       ]
      },
      {
       "output_type": "stream",
       "stream": "stdout",
       "text": [
        "\n"
       ]
      }
     ],
     "prompt_number": 4
    },
    {
     "cell_type": "markdown",
     "metadata": {},
     "source": [
      "If you want to see the analysis of this simulation click here.\n",
      "\n",
      "Remember to shutdown this notebook to release memory"
     ]
    },
    {
     "cell_type": "code",
     "collapsed": false,
     "input": [
      "#Just to know when this finishes\n",
      "import time\n",
      "print time.ctime()"
     ],
     "language": "python",
     "metadata": {},
     "outputs": [
      {
       "output_type": "stream",
       "stream": "stdout",
       "text": [
        "Mon Feb 09 05:56:08 2015\n"
       ]
      }
     ],
     "prompt_number": 5
    }
   ],
   "metadata": {}
  }
 ]
}
