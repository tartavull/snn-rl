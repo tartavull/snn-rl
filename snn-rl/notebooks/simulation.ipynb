{
 "cells": [
  {
   "cell_type": "code",
   "execution_count": 2,
   "metadata": {},
   "outputs": [
    {
     "name": "stdout",
     "output_type": "stream",
     "text": [
      "Wed May 23 11:21:29 2018\n"
     ]
    }
   ],
   "source": [
    "import io\n",
    "from IPython.nbformat import current\n",
    "\n",
    "def execute_notebook(nbfile):\n",
    "    \n",
    "    with io.open(nbfile) as f:\n",
    "        nb = current.read(f, 'json')\n",
    "    \n",
    "    ip = get_ipython()\n",
    "    \n",
    "    for cell in nb.worksheets[0].cells:\n",
    "        if cell.cell_type != 'code':\n",
    "            continue\n",
    "        ip.run_cell(cell.input)\n",
    "        \n",
    "execute_notebook(\"common.ipynb\")"
   ]
  },
  {
   "cell_type": "code",
   "execution_count": 3,
   "metadata": {},
   "outputs": [
    {
     "name": "stdout",
     "output_type": "stream",
     "text": [
      "3% complete, 10s elapsed, approximately 5m 12s remaining.\n",
      "6% complete, 20s elapsed, approximately 5m 3s remaining.\n",
      "9% complete, 30s elapsed, approximately 4m 53s remaining.\n",
      "12% complete, 40s elapsed, approximately 4m 46s remaining.\n",
      "15% complete, 50s elapsed, approximately 4m 36s remaining.\n",
      "18% complete, 1m 0s elapsed, approximately 4m 26s remaining.\n",
      "21% complete, 1m 10s elapsed, approximately 4m 16s remaining.\n",
      "24% complete, 1m 20s elapsed, approximately 4m 6s remaining.\n",
      "27% complete, 1m 30s elapsed, approximately 3m 56s remaining.\n",
      "30% complete, 1m 40s elapsed, approximately 3m 46s remaining.\n",
      "33% complete, 1m 50s elapsed, approximately 3m 37s remaining.\n",
      "36% complete, 2m 0s elapsed, approximately 3m 26s remaining.\n",
      "39% complete, 2m 10s elapsed, approximately 3m 16s remaining.\n",
      "42% complete, 2m 20s elapsed, approximately 3m 6s remaining.\n",
      "45% complete, 2m 30s elapsed, approximately 2m 56s remaining.\n",
      "48% complete, 2m 40s elapsed, approximately 2m 46s remaining.\n",
      "52% complete, 2m 50s elapsed, approximately 2m 36s remaining.\n",
      "55% complete, 3m 0s elapsed, approximately 2m 26s remaining.\n",
      "58% complete, 3m 10s elapsed, approximately 2m 17s remaining.\n",
      "61% complete, 3m 20s elapsed, approximately 2m 7s remaining.\n",
      "64% complete, 3m 30s elapsed, approximately 1m 57s remaining.\n",
      "67% complete, 3m 40s elapsed, approximately 1m 47s remaining.\n",
      "70% complete, 3m 50s elapsed, approximately 1m 37s remaining.\n",
      "73% complete, 4m 0s elapsed, approximately 1m 27s remaining.\n",
      "77% complete, 4m 10s elapsed, approximately 1m 14s remaining.\n",
      "80% complete, 4m 20s elapsed, approximately 1m 2s remaining.\n",
      "84% complete, 4m 30s elapsed, approximately 48s remaining.\n",
      "90% complete, 4m 40s elapsed, approximately 31s remaining.\n",
      "95% complete, 4m 50s elapsed, approximately 14s remaining.\n",
      "98% complete, 5m 0s elapsed, approximately 4s remaining.\n",
      "100% complete, 5m 4s elapsed, approximately 0s remaining.\n"
     ]
    }
   ],
   "source": [
    "epochs = 100 \n",
    "spikeMiliseconds = 100\n",
    "spikeInterval = spikeMiliseconds * ms\n",
    "spikeIntervalUnformatted = spikeMiliseconds * .001\n",
    "dictionaryLongitude = 4\n",
    "spikesPerChar=3\n",
    "firstLayerSize = 15\n",
    "\n",
    "dictionary = dictionary()\n",
    "spiketimes = dictionary.spikeTimes(dictionaryLongitude, spikeInterval, spikesPerChar, epochs)\n",
    "LIK = SpikeGeneratorGroup(firstLayerSize, spiketimes)\n",
    "\n",
    "N = 1000\n",
    "taum = 300 * ms\n",
    "Vt = -54 * mV\n",
    "Vr = -60 * mV\n",
    "El = -74 * mV\n",
    "taue = 100 * ms\n",
    "taui = 100 * ms\n",
    "\n",
    "eqs = Equations('''\n",
    "\t  dV/dt  = (-V+ge-gi)/taum : volt\n",
    "\t  dge/dt = -ge/taue        : volt\n",
    "\t  dgi/dt = -gi/taui        : volt\n",
    "\t  ''')\n",
    "ADDS = NeuronGroup(N=4, model=eqs,threshold=Vt, reset=Vr)\n",
    "\n",
    "excitatory = Connection(LIK, ADDS , 'ge',structure='dense',max_delay=30 * ms,\n",
    "                        delay=lambda i, j:(10 + 20 * rand()) * ms )\n",
    "Wexcitatory = np.random.uniform(0,15,[15,4]) * mV\n",
    "excitatory.connect(LIK,ADDS,Wexcitatory)\n",
    "Ap = 1 * mV\n",
    "Am = 1 * mV\n",
    "stdpE=ExponentialSTDP(excitatory,taue,taum,Ap,Am,wmax=15 * mV,interactions='all',update='additive')\n",
    "\n",
    "inhibitory = Connection(ADDS, ADDS , 'gi',delay=0*ms,structure='dense')\n",
    "#Connect adds layer via lateral inhibitory connections\n",
    "#the diagonal should be 0 to not auto-inhibate\n",
    "Winhibitory = np.random.uniform(0,200,[4,4]) * mV\n",
    "diagonal = np.diag_indices(Winhibitory.shape[0])\n",
    "Winhibitory[diagonal] = 0;\n",
    "\n",
    "inhibitory.connect(ADDS,ADDS,Winhibitory)\n",
    "stdpI=ExponentialSTDP(inhibitory,taue,taum,Ap,Am,wmax=4000 * mV,interactions='all',update='additive')\n",
    "\n",
    "spikeMonitor = SpikeMonitor(ADDS)\n",
    "Mv  = StateMonitor(ADDS, 'V', record=True)\n",
    "Mge = StateMonitor(ADDS, 'ge', record=True)\n",
    "Mgi = StateMonitor(ADDS, 'gi', record=True)\n",
    "\n",
    "\n",
    "#save weights!\n",
    "weights_excitatory = []\n",
    "weights_inhibitory = []\n",
    "@network_operation\n",
    "def record_weights():\n",
    "    weights_excitatory.append(array(excitatory.W))\n",
    "    weights_inhibitory.append(array(inhibitory.W))\n",
    "\n",
    "run(spikesPerChar * dictionaryLongitude * spikeInterval * epochs , report='text')"
   ]
  },
  {
   "cell_type": "markdown",
   "metadata": {},
   "source": [
    "We will now save all the important variables : neuron voltages, neuron spikes, and weights to a file called simulation.hdf5\n",
    "while saving the data, we will generate downsampled arrays, so when we plot we don't use that much RAM.\n",
    "if you are on ubuntu you can use:\n",
    "\n",
    "    hdfview simulation.hdf5\n",
    "to explore the dataset.\n",
    "we haven't implemented a method for downsampling sparse arrays yet, so spiketime isn't save , but it shouldn't be to hard to do that"
   ]
  },
  {
   "cell_type": "code",
   "execution_count": 4,
   "metadata": {},
   "outputs": [
    {
     "name": "stdout",
     "output_type": "stream",
     "text": [
      "spikes sucessfully saved\n",
      "voltage sucessfully saved\n",
      "excitatory sucessfully saved\n",
      "inhibitory sucessfully saved\n"
     ]
    }
   ],
   "source": [
    "bp = brianPlotter('simulation.hdf5')\n",
    "\n",
    "bp.saveData('spikes', np.asarray(spikeMonitor.spikes), downsample=False);\n",
    "\n",
    "Mv =  np.transpose(Mv[:])\n",
    "Mge =  np.transpose(Mge[:])\n",
    "Mgi =  np.transpose(Mgi[:])\n",
    "voltage = np.concatenate((Mv[...,np.newaxis], Mge[...,np.newaxis]), axis=2)\n",
    "voltage = np.concatenate((voltage, Mgi[...,np.newaxis]), axis=2)\n",
    "bp.saveData('voltage',voltage)\n",
    "\n",
    "bp.saveData('excitatory', np.asarray(weights_excitatory))\n",
    "bp.saveData('inhibitory', np.asarray(weights_inhibitory))\n",
    "\n",
    "del bp #you have to delete the object so the file is closed"
   ]
  },
  {
   "cell_type": "markdown",
   "metadata": {},
   "source": [
    "If you want to see the analysis of this simulation click [here](analysis.ipynb).\n",
    "\n",
    "Remember to shutdown this notebook to release memory"
   ]
  }
 ],
 "metadata": {
  "kernelspec": {
   "display_name": "Python [conda env:snn]",
   "language": "python",
   "name": "conda-env-snn-py"
  },
  "language_info": {
   "codemirror_mode": {
    "name": "ipython",
    "version": 2
   },
   "file_extension": ".py",
   "mimetype": "text/x-python",
   "name": "python",
   "nbconvert_exporter": "python",
   "pygments_lexer": "ipython2",
   "version": "2.7.13"
  }
 },
 "nbformat": 4,
 "nbformat_minor": 1
}
