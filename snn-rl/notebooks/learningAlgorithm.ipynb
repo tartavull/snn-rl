{
 "cells": [
  {
   "cell_type": "code",
   "execution_count": null,
   "metadata": {
    "collapsed": true
   },
   "outputs": [],
   "source": [
    "import numpy as np\n",
    "dictionary = np.zeros(26, dtype=['c1, (5,3)u1'])\n",
    "dictionary[:] =[('A',[[1, -1, 1],[-1, 1, -1],[-1, -1, -1],[-1, 1, -1],[-1, 1, -1]]),\n",
    "                ('B',[[-1, -1, 1],[-1, 1, -1],[-1, -1, 1],[-1, 1, -1],[-1, -1, 1]]),\n",
    "                ('C',[[-1, -1, -1],[-1, 1, 1],[-1, 1, 1],[-1, 1, 1],[-1, -1, -1]]),\n",
    "                ('D',[[-1, -1, 1],[-1, 1, -1],[-1, 1, -1],[-1, 1, -1],[-1, -1, 1]]),\n",
    "                ('E',[[-1, -1, -1],[-1, 1, 1],[-1, -1, 1],[-1, 1, 1],[-1, -1, -1]]),\n",
    "                ('F',[[-1, -1, -1],[-1, 1, 1],[-1, -1, 1],[-1, 1, 1],[-1, 1, 1]]),\n",
    "                ('G',[[-1, -1, -1],[-1, 1, 1],[-1, 1, 1],[-1, 1, -1],[-1, -1, -1]]),\n",
    "                ('H',[[-1, 1, -1],[-1, 1, -1],[-1, -1, -1],[-1, 1, -1],[-1, 1, -1]]),\n",
    "                ('I',[[-1, -1, -1],[1, -1, 1],[1, -1, 1],[1, -1, 1],[-1, -1, -1]]),\n",
    "                ('J',[[-1, -1, -1],[1, 1, -1],[1, 1, -1],[-1, 1, -1],[-1, -1, -1]]),\n",
    "                ('K',[[-1, 1, -1],[-1, -1, 1],[-1, 1, 1],[-1, -1, 1],[-1, 1, -1]]),\n",
    "                ('L',[[-1, 1, 1],[-1, 1, 1],[-1, 1, 1],[-1, 1, 1],[-1, -1, -1]]),\n",
    "                ('M',[[-1, 1, -1],[-1, -1, -1],[-1, 1, -1],[-1, 1, -1],[-1, 1, -1]]),\n",
    "                ('N',[[-1, 1, -1],[-1, -1, -1],[-1, -1, -1],[-1, -1, -1],[-1, 1, -1]]),\n",
    "                ('O',[[1, -1, 1],[-1, 1, -1],[-1, 1, -1],[-1, 1, -1],[1, -1, 1]]),\n",
    "                ('P',[[-1, -1, -1],[-1, 1, -1],[-1, -1, -1],[-1, 1, 1],[-1, 1, 1]]),\n",
    "                ('Q',[[1, -1, 1],[-1, 1, -1],[-1, 1, -1],[1, -1, 1],[1, 1, -1]]),\n",
    "                ('R',[[-1, -1, 1],[-1, 1, -1],[-1, -1, -1],[-1, -1, 1],[-1, 1, -1]]),\n",
    "                ('S',[[1, -1, -1],[-1, 1, 1],[1, -1, 1],[1, 1, -1],[-1, -1, 1]]),\n",
    "                ('T',[[-1, -1, -1],[1, -1, 1],[1, -1, 1],[1, -1, 1],[1, -1, 1]]),\n",
    "                ('U',[[-1, 1, -1],[-1, 1, -1],[-1, 1, -1],[-1, 1, -1],[-1, -1, -1]]),\n",
    "                ('V',[[-1, 1, -1],[-1, 1, -1],[-1, 1, -1],[-1, 1, -1],[1, -1, 1]]),\n",
    "                ('W',[[-1, 1, -1],[-1, 1, -1],[-1, 1, -1],[-1, -1, -1],[-1, 1, -1]]),\n",
    "                ('X',[[-1, 1, -1],[-1, 1, -1],[1, -1, 1],[-1, 1, -1],[-1, 1, -1]]),\n",
    "                ('Y',[[-1, 1, -1],[-1, 1, -1],[1, -1, 1],[1, -1, 1],[1, -1, 1]]),\n",
    "                ('Z',[[-1, -1, -1],[1, 1, -1],[1, -1, 1],[-1, 1, 1],[-1, -1, -1]])]\n"
   ]
  },
  {
   "cell_type": "code",
   "execution_count": 138,
   "metadata": {},
   "outputs": [
    {
     "name": "stdout",
     "output_type": "stream",
     "text": [
      "set([1, 3])\n",
      "set([1, 3])\n",
      "set([0, 1, 3])\n",
      "set([0, 1, 3])\n",
      "set([0, 1, 3])\n",
      "set([0, 1, 3])\n",
      "set([0, 1, 3])\n",
      "set([0, 1, 3])\n",
      "set([0, 1, 3])\n",
      "set([0, 1, 3])\n",
      "set([0, 1, 3])\n",
      "set([0, 1, 3])\n",
      "set([0, 1, 3])\n",
      "set([0, 1, 2, 3])\n"
     ]
    }
   ],
   "source": [
    "weights = np.round(np.random.uniform(0.0,1.0,[5,3,4]))\n",
    "for epoch in range(100):\n",
    "    neuronWhichfired = set()\n",
    "    for char in range(4):\n",
    "        maxOutput = None\n",
    "        maxNeuron = None\n",
    "        for neuron in range(4):\n",
    "            output = sum(weights[:,:,neuron]*dictionary[char][1])\n",
    "            if output > maxOutput or maxOutput == None:\n",
    "                maxOutput = output\n",
    "                maxNeuron = neuron\n",
    "        \n",
    "        neuronWhichfired.add(maxNeuron)\n",
    "        \n",
    "    print neuronWhichfired\n",
    "    \n",
    "    #If all of the neuron fired at least once means we are done\n",
    "    if len(neuronWhichfired) == 4:\n",
    "        break\n",
    "    #generate random weights for neurons which didn't fired\n",
    "    for neuron in range(4):\n",
    "        if neuron not in neuronWhichfired:\n",
    "            weights[:,:,neuron] = np.round(np.random.uniform(0.0,1.0,[5,3]))"
   ]
  },
  {
   "cell_type": "code",
   "execution_count": 144,
   "metadata": {},
   "outputs": [
    {
     "name": "stdout",
     "output_type": "stream",
     "text": [
      " -----------\n",
      "Char =  0 Neuron = 0 Output = -1.0\n",
      "Char =  0 Neuron = 1 Output = 1.0\n",
      "Char =  0 Neuron = 2 Output = -4.0\n",
      "Char =  0 Neuron = 3 Output = 0.0\n",
      " -----------\n",
      "Char =  1 Neuron = 0 Output = 1.0\n",
      "Char =  1 Neuron = 1 Output = -1.0\n",
      "Char =  1 Neuron = 2 Output = -4.0\n",
      "Char =  1 Neuron = 3 Output = 0.0\n",
      " -----------\n",
      "Char =  2 Neuron = 0 Output = 1.0\n",
      "Char =  2 Neuron = 1 Output = 1.0\n",
      "Char =  2 Neuron = 2 Output = 2.0\n",
      "Char =  2 Neuron = 3 Output = 0.0\n",
      " -----------\n",
      "Char =  3 Neuron = 0 Output = 1.0\n",
      "Char =  3 Neuron = 1 Output = 1.0\n",
      "Char =  3 Neuron = 2 Output = -4.0\n",
      "Char =  3 Neuron = 3 Output = 2.0\n"
     ]
    }
   ],
   "source": [
    "for char in range(4):\n",
    "    print \" -----------\" \n",
    "    for neuron in range(4):\n",
    "        print \"Char = \",char, \"Neuron =\" ,neuron, \"Output =\", sum(weights[:,:,neuron]*dictionary[char][1])\n"
   ]
  }
 ],
 "metadata": {
  "kernelspec": {
   "display_name": "Python [conda env:snn]",
   "language": "python",
   "name": "conda-env-snn-py"
  },
  "language_info": {
   "codemirror_mode": {
    "name": "ipython",
    "version": 2
   },
   "file_extension": ".py",
   "mimetype": "text/x-python",
   "name": "python",
   "nbconvert_exporter": "python",
   "pygments_lexer": "ipython2",
   "version": "2.7.13"
  }
 },
 "nbformat": 4,
 "nbformat_minor": 1
}
