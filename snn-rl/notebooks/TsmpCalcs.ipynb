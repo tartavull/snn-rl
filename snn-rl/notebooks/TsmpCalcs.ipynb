{
 "metadata": {
  "name": "",
  "signature": "sha256:0bd60d24735aaa26ab6b20a68d51d61b482264f2ba90004b15fc8000fe8e43b3"
 },
 "nbformat": 3,
 "nbformat_minor": 0,
 "worksheets": [
  {
   "cells": [
    {
     "cell_type": "heading",
     "level": 3,
     "metadata": {},
     "source": [
      "Calculations used for Tsmp"
     ]
    },
    {
     "cell_type": "code",
     "collapsed": false,
     "input": [
      "from sympy import *\n",
      "init_printing()"
     ],
     "language": "python",
     "metadata": {},
     "outputs": [],
     "prompt_number": 1
    },
    {
     "cell_type": "heading",
     "level": 4,
     "metadata": {},
     "source": [
      "Post synaptic dendritic current"
     ]
    },
    {
     "cell_type": "markdown",
     "metadata": {},
     "source": [
      "Tfd (Tf difference) below represents the difference between $t$ (current time) and $Tf[i]$ (last pre synaptic spike time for dendrite i).  E. g. result of $t - Tf[i]$."
     ]
    },
    {
     "cell_type": "code",
     "collapsed": false,
     "input": [
      "Tfd = var('Tfd')"
     ],
     "language": "python",
     "metadata": {},
     "outputs": [],
     "prompt_number": 2
    },
    {
     "cell_type": "markdown",
     "metadata": {},
     "source": [
      "Dt = Delta time\n",
      "A dirac delta formula from 'Theoretical Neuroscience' page 405: $DiracDelta = lim(Dt->0)(if (-Dt/2) < t < Dt)$: return $1/Dt$; else return $0$;).  Due to that the formula $1/t$ for DiracDelta is able to be used when the if statement condition is matched.  It is represented as $1/Tfd$ in this case."
     ]
    },
    {
     "cell_type": "markdown",
     "metadata": {},
     "source": [
      "Formula 1 in the Gupta paper is   $T_d[i]*d(I_d[i][t])=-I_d[i][t]+R_d[i]*w[i]*(\\frac{1}{Tfd})$"
     ]
    },
    {
     "cell_type": "markdown",
     "metadata": {},
     "source": [
      "$T_d[i]$ can be brought to the other side of the equation through multipling $1/T_d[i]$ on both sides.  This produces $d(I_d[i][t])=(1/T_d[i])*-I_d[i][t]+R_d[i]*w[i]*(1/Tfd)$"
     ]
    },
    {
     "cell_type": "markdown",
     "metadata": {},
     "source": [
      "The fundamental theorum of calculus is that $integral(derivative(f(x)))=f(x)$.  A.k.a. an integral can cancel a derivative out of an equation.  To get $Id[i]$ from formula 1 the integral of both sides should be taken to remove the derivative from the formula."
     ]
    },
    {
     "cell_type": "code",
     "collapsed": false,
     "input": [
      "Id, Td, Rd, W = var('I_d T_d R_d W')"
     ],
     "language": "python",
     "metadata": {},
     "outputs": [],
     "prompt_number": 3
    },
    {
     "cell_type": "code",
     "collapsed": false,
     "input": [
      "Id2 = Id"
     ],
     "language": "python",
     "metadata": {},
     "outputs": [],
     "prompt_number": 4
    },
    {
     "cell_type": "code",
     "collapsed": false,
     "input": [
      "Id = ((1/Td)*-Id2+Rd*W*(1/Tfd))"
     ],
     "language": "python",
     "metadata": {},
     "outputs": [],
     "prompt_number": 5
    },
    {
     "cell_type": "code",
     "collapsed": false,
     "input": [
      "Id.integrate(Id2)"
     ],
     "language": "python",
     "metadata": {},
     "outputs": [
      {
       "latex": [
        "$$- \\frac{I_{d}^{2}}{2 T_{d}} + \\frac{I_{d} R_{d}}{Tfd} W$$"
       ],
       "metadata": {},
       "output_type": "pyout",
       "png": "[encoded data removed]",
       "prompt_number": 6,
       "text": [
        "      2            \n",
        "   I_d    I_d\u22c5R_d\u22c5W\n",
        "- \u2500\u2500\u2500\u2500\u2500 + \u2500\u2500\u2500\u2500\u2500\u2500\u2500\u2500\u2500\n",
        "  2\u22c5T_d      Tfd   "
       ]
      }
     ],
     "prompt_number": 6
    },
    {
     "cell_type": "heading",
     "level": 4,
     "metadata": {},
     "source": [
      "Post synaptic direct synapse soma current"
     ]
    },
    {
     "cell_type": "markdown",
     "metadata": {},
     "source": [
      "15 input neurons.  $W = weight, 1/Tdf = Dirac function$.  Using the formula $Sigma(w*Dirac)$ the output below is produced."
     ]
    },
    {
     "cell_type": "code",
     "collapsed": false,
     "input": [
      "SummedWeights1 = var('SummedWeights1')"
     ],
     "language": "python",
     "metadata": {},
     "outputs": [],
     "prompt_number": 7
    },
    {
     "cell_type": "code",
     "collapsed": false,
     "input": [
      "DiracWeightedSum = SummedWeights1/Tfd"
     ],
     "language": "python",
     "metadata": {},
     "outputs": [],
     "prompt_number": 8
    },
    {
     "cell_type": "code",
     "collapsed": false,
     "input": [
      "Is_1, Ts_1 = var('Is_1 Ts_1')"
     ],
     "language": "python",
     "metadata": {},
     "outputs": [],
     "prompt_number": 9
    },
    {
     "cell_type": "code",
     "collapsed": false,
     "input": [
      "Is_1b = Is_1"
     ],
     "language": "python",
     "metadata": {},
     "outputs": [],
     "prompt_number": 10
    },
    {
     "cell_type": "code",
     "collapsed": false,
     "input": [
      "Is_1 = (1/Ts_1)*(-Is_1b+DiracWeightedSum)"
     ],
     "language": "python",
     "metadata": {},
     "outputs": [],
     "prompt_number": 11
    },
    {
     "cell_type": "heading",
     "level": 6,
     "metadata": {},
     "source": [
      "Total soma membrane potential"
     ]
    },
    {
     "cell_type": "code",
     "collapsed": false,
     "input": [
      "DendriteGroup = [Id.integrate(Id2)]*15"
     ],
     "language": "python",
     "metadata": {},
     "outputs": [],
     "prompt_number": 12
    },
    {
     "cell_type": "code",
     "collapsed": false,
     "input": [
      "SynapseToSoma = Is_1.integrate(Is_1b)"
     ],
     "language": "python",
     "metadata": {},
     "outputs": [],
     "prompt_number": 13
    },
    {
     "cell_type": "heading",
     "level": 4,
     "metadata": {},
     "source": [
      "Total soma membrane potential calculation"
     ]
    },
    {
     "cell_type": "markdown",
     "metadata": {},
     "source": [
      "It was found that end result variables representing prior component \n",
      "calculations (SummedDendriteGroupX, SynapseToSomaX) could be applied \n",
      "to solving for um in the equation."
     ]
    },
    {
     "cell_type": "code",
     "collapsed": false,
     "input": [
      "Um, Tm, Rm = var('U_m T_m R_m')"
     ],
     "language": "python",
     "metadata": {},
     "outputs": [],
     "prompt_number": 14
    },
    {
     "cell_type": "code",
     "collapsed": false,
     "input": [
      "Uu2 = (1/Tm)*(-Um+(Rm*(sum(DendriteGroup)+SynapseToSoma)))"
     ],
     "language": "python",
     "metadata": {},
     "outputs": [],
     "prompt_number": 15
    },
    {
     "cell_type": "code",
     "collapsed": false,
     "input": [
      "Uu2.integrate(Um)"
     ],
     "language": "python",
     "metadata": {},
     "outputs": [
      {
       "latex": [
        "$$- \\frac{U_{m}^{2}}{2 T_{m}} + \\frac{U_{m}}{2 T_{d} T_{m} Tfd Ts_{1}} \\left(- 15 I_{d}^{2} R_{m} Tfd Ts_{1} + 30 I_{d} R_{d} R_{m} T_{d} Ts_{1} W - Is_{1}^{2} R_{m} T_{d} Tfd + 2 Is_{1} R_{m} SummedWeights_{1} T_{d}\\right)$$"
       ],
       "metadata": {},
       "output_type": "pyout",
       "png": "[encoded data removed]",
       "prompt_number": 16,
       "text": [
        "      2       \u239b        2                                             2        \n",
        "   U_m    U_m\u22c5\u239d- 15\u22c5I_d \u22c5R_m\u22c5Tfd\u22c5Ts\u2081 + 30\u22c5I_d\u22c5R_d\u22c5R_m\u22c5T_d\u22c5Ts\u2081\u22c5W - Is\u2081 \u22c5R_m\u22c5T_d\n",
        "- \u2500\u2500\u2500\u2500\u2500 + \u2500\u2500\u2500\u2500\u2500\u2500\u2500\u2500\u2500\u2500\u2500\u2500\u2500\u2500\u2500\u2500\u2500\u2500\u2500\u2500\u2500\u2500\u2500\u2500\u2500\u2500\u2500\u2500\u2500\u2500\u2500\u2500\u2500\u2500\u2500\u2500\u2500\u2500\u2500\u2500\u2500\u2500\u2500\u2500\u2500\u2500\u2500\u2500\u2500\u2500\u2500\u2500\u2500\u2500\u2500\u2500\u2500\u2500\u2500\u2500\u2500\u2500\u2500\u2500\u2500\u2500\u2500\u2500\n",
        "  2\u22c5T_m                                              2\u22c5T_d\u22c5T_m\u22c5Tfd\u22c5Ts\u2081        \n",
        "\n",
        "                                   \u239e\n",
        "\u22c5Tfd + 2\u22c5Is\u2081\u22c5R_m\u22c5SummedWeights\u2081\u22c5T_d\u23a0\n",
        "\u2500\u2500\u2500\u2500\u2500\u2500\u2500\u2500\u2500\u2500\u2500\u2500\u2500\u2500\u2500\u2500\u2500\u2500\u2500\u2500\u2500\u2500\u2500\u2500\u2500\u2500\u2500\u2500\u2500\u2500\u2500\u2500\u2500\u2500\u2500\u2500\n",
        "                                    "
       ]
      }
     ],
     "prompt_number": 16
    },
    {
     "cell_type": "markdown",
     "metadata": {},
     "source": [
      "Below are shown the end result variables which can simplify the formula \n",
      "used instead of the above one"
     ]
    },
    {
     "cell_type": "code",
     "collapsed": false,
     "input": [
      "DiracWeightedSum_Z, Is_Z = var('DiracWeightedSum_Z Is_Z')"
     ],
     "language": "python",
     "metadata": {},
     "outputs": [],
     "prompt_number": 17
    },
    {
     "cell_type": "code",
     "collapsed": false,
     "input": [
      "Is_Zb = Is_Z"
     ],
     "language": "python",
     "metadata": {},
     "outputs": [],
     "prompt_number": 18
    },
    {
     "cell_type": "code",
     "collapsed": false,
     "input": [
      "Is_Z = (1/Ts_1)*(-Is_Zb+DiracWeightedSum_Z)"
     ],
     "language": "python",
     "metadata": {},
     "outputs": [],
     "prompt_number": 19
    },
    {
     "cell_type": "code",
     "collapsed": false,
     "input": [
      "SynapseToSoma_Z = Is_Z.integrate(Is_Zb)"
     ],
     "language": "python",
     "metadata": {},
     "outputs": [],
     "prompt_number": 20
    },
    {
     "cell_type": "code",
     "collapsed": false,
     "input": [
      "SynapseToSoma_Z"
     ],
     "language": "python",
     "metadata": {},
     "outputs": [
      {
       "latex": [
        "$$\\frac{DiracWeightedSum_{Z} Is_{Z}}{Ts_{1}} - \\frac{Is_{Z}^{2}}{2 Ts_{1}}$$"
       ],
       "metadata": {},
       "output_type": "pyout",
       "png": "[encoded data removed]",
       "prompt_number": 21,
       "text": [
        "                              2\n",
        "DiracWeightedSum_Z\u22c5Is_Z   Is_Z \n",
        "\u2500\u2500\u2500\u2500\u2500\u2500\u2500\u2500\u2500\u2500\u2500\u2500\u2500\u2500\u2500\u2500\u2500\u2500\u2500\u2500\u2500\u2500\u2500 - \u2500\u2500\u2500\u2500\u2500\n",
        "          Ts\u2081             2\u22c5Ts\u2081"
       ]
      }
     ],
     "prompt_number": 21
    },
    {
     "cell_type": "code",
     "collapsed": false,
     "input": [
      "SummedDendriteGroupX, SynapseToSomaX = var('SummedDendriteGroupX SynapseToSomaX')"
     ],
     "language": "python",
     "metadata": {},
     "outputs": [],
     "prompt_number": 22
    },
    {
     "cell_type": "code",
     "collapsed": false,
     "input": [
      "Uu3 = (1/Tm)*(-Um+(Rm*(SummedDendriteGroupX+SynapseToSomaX)))"
     ],
     "language": "python",
     "metadata": {},
     "outputs": [],
     "prompt_number": 23
    },
    {
     "cell_type": "markdown",
     "metadata": {},
     "source": [
      "The integration below solves the tsmp equation for Um and therefore \n",
      "provides the tsmp result wanted."
     ]
    },
    {
     "cell_type": "code",
     "collapsed": false,
     "input": [
      "Uu3.integrate(Um)"
     ],
     "language": "python",
     "metadata": {},
     "outputs": [
      {
       "latex": [
        "$$- \\frac{U_{m}^{2}}{2 T_{m}} + \\frac{U_{m}}{T_{m}} \\left(R_{m} SummedDendriteGroupX + R_{m} SynapseToSomaX\\right)$$"
       ],
       "metadata": {},
       "output_type": "pyout",
       "png": "[encoded data removed]",
       "prompt_number": 24,
       "text": [
        "      2                                                      \n",
        "   U_m    U_m\u22c5(R_m\u22c5SummedDendriteGroupX + R_m\u22c5SynapseToSomaX)\n",
        "- \u2500\u2500\u2500\u2500\u2500 + \u2500\u2500\u2500\u2500\u2500\u2500\u2500\u2500\u2500\u2500\u2500\u2500\u2500\u2500\u2500\u2500\u2500\u2500\u2500\u2500\u2500\u2500\u2500\u2500\u2500\u2500\u2500\u2500\u2500\u2500\u2500\u2500\u2500\u2500\u2500\u2500\u2500\u2500\u2500\u2500\u2500\u2500\u2500\u2500\u2500\u2500\u2500\u2500\u2500\u2500\u2500\n",
        "  2\u22c5T_m                           T_m                        "
       ]
      }
     ],
     "prompt_number": 24
    }
   ],
   "metadata": {}
  }
 ]
}