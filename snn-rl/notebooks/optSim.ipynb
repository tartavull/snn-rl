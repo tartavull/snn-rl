{
 "cells": [
  {
   "cell_type": "markdown",
   "metadata": {},
   "source": [
    "<div style='font-size:2.3em;text-decoration:underline;font-weight:bold'><center>Parameter Optimization</center></div>"
   ]
  },
  {
   "cell_type": "code",
   "execution_count": null,
   "metadata": {
    "collapsed": true
   },
   "outputs": [],
   "source": [
    "'''\n",
    "This software uses hyperopt to optimize the parameters of the ssn-rl simulation.\n",
    "Parameters are passed to the sim as arguments for running the program.\n",
    "'''\n",
    "\n",
    "from hyperopt import fmin, tpe, hp\n",
    "import sys\n",
    "from subprocess import * \n",
    "from decimal import Decimal\n",
    "\n",
    "simFile = \"gupta_paper_further_formulas.py\"\n",
    "optResultsFile = \"optimizationResults.txt\"\n",
    "testingRunTime = 7900\n",
    "minRandVals = ['minRand', 0.01, 0.50]\n",
    "maxRandVals = ['maxRand', 0.51, 1.00]\n",
    "posReinfVals = ['posReinfVal', 0.0, 10.0]\n",
    "negReinfVals = ['negReinfVal', 0.0, 10.0]\n",
    "trainTimeVals = ['trainingRunTime', 33000, 67000]\n",
    "#trainTimeVals = ['trainingRunTime', 11, 33]\n",
    "space = [hp.uniform(minRandVals[0],minRandVals[1],minRandVals[2]), hp.uniform(maxRandVals[0],maxRandVals[1],maxRandVals[2]), \\\n",
    "         hp.uniform(posReinfVals[0],posReinfVals[1],posReinfVals[2]), hp.uniform(negReinfVals[0],negReinfVals[1],negReinfVals[2]), \\\n",
    "         hp.uniform(trainTimeVals[0],trainTimeVals[1],trainTimeVals[2])]\n",
    "evaluationRuns = 500;\n",
    "\n",
    "# Clear and open output file\n",
    "optResults = open(optResultsFile, 'w')\n",
    "optResults.write(\"Parameters used in run:\\n\")\n",
    "optResults.write(\"testingRunTime:\\t\\t\"+str(testingRunTime)+\"\\tNote: testingRunTime parameter passing not currently working\\n\")\n",
    "optResults.write(str(minRandVals)+\"\\n\"+str(maxRandVals)+\"\\n\"+str(posReinfVals)+\"\\n\"+str(negReinfVals)+\"\\n\"+str(trainTimeVals))\n",
    "optResults.close()"
   ]
  },
  {
   "cell_type": "markdown",
   "metadata": {},
   "source": [
    "<div style='font-size:1.7em;text-decoration:underline;font-weight:bold'>snnrlWithParams</div>"
   ]
  },
  {
   "cell_type": "code",
   "execution_count": null,
   "metadata": {
    "collapsed": true
   },
   "outputs": [],
   "source": [
    "def snnrlWithParams(kwargs):\n",
    "    kwargs = kwargs.split(\", \")\n",
    "    print \"out:\\n\\n\",kwargs\n",
    "    simRun = Popen([\"python\", simFile]+kwargs, stdout=PIPE)\n",
    "    simRun.wait()\n",
    "    results = simRun.communicate()[0].strip()\n",
    "    print \"\\n\\nresults:\\n\"+results+\"\\n\\n\"\n",
    "    if str(results) != '': results = Decimal(results, '.1f')\n",
    "    return results"
   ]
  },
  {
   "cell_type": "markdown",
   "metadata": {},
   "source": [
    "<div style='font-size:1.7em;text-decoration:underline;font-weight:bold'>objective</div>"
   ]
  },
  {
   "cell_type": "code",
   "execution_count": null,
   "metadata": {
    "collapsed": true
   },
   "outputs": [],
   "source": [
    "def objective(args):\n",
    "    minRand, maxRand, posReinfVal, negReinfVal, trainingRunTime = args\n",
    "    # train\n",
    "    randVal = str(minRand)+'-'+str(maxRand)\n",
    "    snnrlWithParams(\"evaluateClassifier=False, runTime=\"+str(int(trainingRunTime))+\", standardPrint=False, verbosePrint=False, randomization=\"+str(randVal)+\", posReinf=\"+str(posReinfVal)+\", negReinf=\"+str(negReinfVal))\n",
    "    # test\n",
    "    precisionPerc = snnrlWithParams(\"evaluateClassifier=True, optResultsFile=\\'\"+str(optResultsFile)+\"\\', runTime=\\'\"+str(int(trainingRunTime))+\"\\', standardPrint=False, verbosePrint=False, randomization=\"+str(randVal)+\", posReinf=\"+str(posReinfVal)+\", negReinf=\"+str(negReinfVal))\n",
    "    precisionForOptimizing = Decimal(1, '.1f') - precisionPerc\n",
    "    print \"\\nprecisionForOptimizing:\\t\",precisionForOptimizing\n",
    "    return {'loss': precisionForOptimizing}"
   ]
  },
  {
   "cell_type": "code",
   "execution_count": null,
   "metadata": {
    "collapsed": true
   },
   "outputs": [],
   "source": [
    "best = fmin(objective,\n",
    "    space,\n",
    "    algo=tpe.suggest,\n",
    "    max_evals=evaluationRuns)#100\n",
    "\n",
    "print best"
   ]
  }
 ],
 "metadata": {
  "kernelspec": {
   "display_name": "Python 2",
   "language": "python",
   "name": "python2"
  },
  "language_info": {
   "codemirror_mode": {
    "name": "ipython",
    "version": 2
   },
   "file_extension": ".py",
   "mimetype": "text/x-python",
   "name": "python",
   "nbconvert_exporter": "python",
   "pygments_lexer": "ipython2",
   "version": "2.7.9"
  }
 },
 "nbformat": 4,
 "nbformat_minor": 0
}
