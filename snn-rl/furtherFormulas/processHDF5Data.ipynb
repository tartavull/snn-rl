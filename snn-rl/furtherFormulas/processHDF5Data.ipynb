{
 "metadata": {},
 "nbformat": 3,
 "nbformat_minor": 0,
 "worksheets": [
  {
   "cells": [
    {
     "cell_type": "code",
     "collapsed": false,
     "input": [
      "import h5py\n",
      "import numpy as np\n",
      "\n",
      "class processHDF5Data:"
     ],
     "language": "python",
     "metadata": {},
     "outputs": []
    },
    {
     "cell_type": "markdown",
     "metadata": {},
     "source": [
      "<a id='__init__'></a><div style='font-size:1.7em;text-decoration:underline;font-weight:bold'>__init__</div>"
     ]
    },
    {
     "cell_type": "code",
     "collapsed": false,
     "input": [
      "    def __init__(self, hdf5name , permision = \"w\"):\n",
      "        self.hdf = h5py.File(hdf5name, permision)"
     ],
     "language": "python",
     "metadata": {},
     "outputs": []
    },
    {
     "cell_type": "markdown",
     "metadata": {},
     "source": [
      "<a id='__del__ '></a><div style='font-size:1.7em;text-decoration:underline;font-weight:bold'>__del__ </div>"
     ]
    },
    {
     "cell_type": "code",
     "collapsed": false,
     "input": [
      "    def __del__ (self):\n",
      "        self.hdf.close()"
     ],
     "language": "python",
     "metadata": {},
     "outputs": []
    },
    {
     "cell_type": "markdown",
     "metadata": {},
     "source": [
      "<a id='getData'></a><div style='font-size:1.7em;text-decoration:underline;font-weight:bold'>getData</div>"
     ]
    },
    {
     "cell_type": "code",
     "collapsed": false,
     "input": [
      "    def getData(self, group,  level ):\n",
      "        return self.hdf['/'+group+'/'+str(level)]"
     ],
     "language": "python",
     "metadata": {},
     "outputs": []
    },
    {
     "cell_type": "markdown",
     "metadata": {},
     "source": [
      "<a id='getDownsampleData'></a><div style='font-size:1.7em;text-decoration:underline;font-weight:bold'>getDownsampleData</div>"
     ]
    },
    {
     "cell_type": "code",
     "collapsed": false,
     "input": [
      "    def getDownsampleData(self, group, start, end, screenSize = 1024):\n",
      "        bestLevel = 1\n",
      "        data = self.getData(group,bestLevel)\n",
      "        print group + \" has been downsampled \"+ str(bestLevel) + \" times\"\n",
      "        start = int(start/bestLevel)\n",
      "        end = int(end/bestLevel)\n",
      "        if (end > data.shape[0]):\n",
      "            print data.shape\n",
      "            print \"WARNING: you requested end = \"+str(float(end))+\" seconds but data length is \"+str(float(data.shape[0] *bestLevel/10000))+\" seconds\"\n",
      "            end=data.shape[0] -1\n",
      "            print 'end',end\n",
      "\n",
      "        return data[start:end]"
     ],
     "language": "python",
     "metadata": {},
     "outputs": []
    },
    {
     "cell_type": "markdown",
     "metadata": {},
     "source": [
      "<a id='incorperateData'></a><div style='font-size:1.7em;text-decoration:underline;font-weight:bold'>incorperateData</div>"
     ]
    },
    {
     "cell_type": "code",
     "collapsed": false,
     "input": [
      "    def incorperateData(self, timeSeriesData, names, start, end):\n",
      "        #because timestep is 0.1 mseconds, and start and end is expressed in seconds.\n",
      "        start = int(start * 10000)\n",
      "        end = int(end * 10000)\n",
      "\n",
      "        for inputDataIndex in range(len(timeSeriesData)):\n",
      "            timeSeriesData[inputDataIndex] = self.getDownsampleData(names[inputDataIndex], start, end)\n",
      "\n",
      "        return timeSeriesData"
     ],
     "language": "python",
     "metadata": {},
     "outputs": []
    }
   ],
   "metadata": {}
  }
 ]
}