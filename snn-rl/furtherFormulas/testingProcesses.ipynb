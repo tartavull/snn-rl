{
 "metadata": {},
 "nbformat": 3,
 "nbformat_minor": 0,
 "worksheets": [
  {
   "cells": [
    {
     "cell_type": "code",
     "collapsed": false,
     "input": [
      "from architecture_further_formulas import *\n",
      "from processHDF5Data import *\n",
      "from savedWeights import *"
     ],
     "language": "python",
     "metadata": {},
     "outputs": []
    },
    {
     "cell_type": "markdown",
     "metadata": {},
     "source": [
      "<a id='initializeTrainedModelParameters'></a><div style='font-size:1.7em;text-decoration:underline;font-weight:bold'>initializeTrainedModelParameters</div>"
     ]
    },
    {
     "cell_type": "code",
     "collapsed": false,
     "input": [
      "def initializeTrainedModelParameters(dendObj):\n",
      "\t# Below values that have been created through prior training are used for w, tau, and r.  Those values are imported\n",
      "\t# through an HD5 file or imported from a raw text version in the savedWeights module\n",
      "\n",
      "\tif loadHD5ForTesting == True:\n",
      "\t\thdf5Data = processHDF5Data('simulation.hdf5',permision = \"r\")\n",
      "\t\tstart = .001 #seconds\n",
      "\t\tend = 500.0#.5#.13\n",
      "\t\tweightCollection = np.array([None]*dictionaryLongitude)\n",
      "\t\tnames = [None]*dictionaryLongitude\n",
      "\t\tfor weightIndex in range(dictionaryLongitude): names[weightIndex] = 'weights'+str(weightIndex)\n",
      "\t\ttotalWeightCollection = hdf5Data.incorperateData(weightCollection,names,start,end)\n",
      "\t\t#print 'len(totalWeightCollection)',len(totalWeightCollection[0]),'shape(totalWeightCollection)',shape(totalWeightCollection[0])\n",
      "\t\tlastIndex = (len(totalWeightCollection[0])-1)\n",
      "\t\ttestW = []\n",
      "\t\tfor finalWeightIndex in range(dictionaryLongitude):\n",
      "\t\t\ttestW.extend([totalWeightCollection[finalWeightIndex][lastIndex]])\n",
      "\n",
      "\telse:\n",
      "\t\ttestW = retreiveTestW()\n",
      "\n",
      "\ttestW = np.array(testW)\n",
      "\ttestTauD = np.array(tauMax - abs(testW) * (tauMax - tauMin))\n",
      "\ttauMScaled = tauM * 1000 # scaling to make the scale match tau\n",
      "\ttestR =  np.array(((testTauD * neuronFiringThreshold) / Rm) * ((tauMScaled / testTauD) ** (tauM / (tauMScaled - testTauD))))\n",
      "\tif loadHD5ForTesting == True: del(totalWeightCollection)\n",
      "\n",
      "\tfor indexOfDend in range(dictionaryLongitude):\n",
      "\t\t# TODO see if some of these do not need to be recomputed every time\n",
      "\t\tdendObj[indexOfDend].w = testW[indexOfDend]*volt*weightScaling # NOTE: weightScaling only included in testing code now, don't be confused with it being in training code!\n",
      "\t\tdendObj[indexOfDend].tau = testTauD[indexOfDend]*ms # unclear if dividing by tau in ms is e.x. /.02 or /20 but it is assumed to be 20, therefore no ms conversion here\n",
      "\t\tdendObj[indexOfDend].r = testR[indexOfDend]*mV\t# volt unit is cancelled out in the equation anyhow, doesn't matter if it is volt or mV due to being cancelled.  Having mv could cause *.001 that is now wanted\n",
      "\t\n",
      "\tprint 'Model\\'s values\\n'\n",
      "\tprint 'testW\\t',testW\n",
      "\tprint 'testTauD\\t',testTauD\n",
      "\tprint 'testR\\r',testR\n",
      "\n",
      "#print 'test start'\n",
      "#initializeTrainedModelParameters(None)\n",
      "#print 'test end'"
     ],
     "language": "python",
     "metadata": {},
     "outputs": []
    },
    {
     "cell_type": "markdown",
     "metadata": {},
     "source": [
      "<a id='evaluateClassifierPerf'></a><div style='font-size:1.7em;text-decoration:underline;font-weight:bold'>evaluateClassifierPerf</div>"
     ]
    },
    {
     "cell_type": "code",
     "collapsed": false,
     "input": [
      "def evaluateClassifierPerf(ADDSObj, testRun):\n",
      "\t# Negative results below are only set to be measured after a full spike interval has passed and had the opportunity to have created a spike\n",
      "\t# Only evaluate results for enough epochs to test each char in input (3 spike interv per char * 4 char = 12 spike intervals total)\n",
      "\t# the +1 in (totalSpikeIntervals+1) is to allow a last refractoryPointSwitch triggered negative spike evaluation to occur.\n",
      "\t# * A change was made to the scoring to not count the 0.0-0.1 second period because the input spike generator does not start until .1\n",
      "\t# seconds and the first occurences of output spikes should be monitored looking at .2 seconds to see if any occured in seconds .1-.2 .\t\n",
      "\tif timeAndRefrac.refractoryPointSwitch == True:\n",
      "\t\tif (timeAndRefrac.spikeIntervalCounter >= 2) and (timeAndRefrac.spikeIntervalCounter <= (totalSpikeIntervals+1)):\n",
      "\t\t\tfor neuronIndex in range(dictionaryLongitude):\t\t\t\t\n",
      "\t\t\t\tif (ADDSObj.UmSpikeFired[neuronIndex] == 1*mV):\n",
      "\t\t\t\t\tif (testRun.correctSpikes[neuronIndex][(timeAndRefrac.spikeIntervalCounter-1)] == 1):\n",
      "\t\t\t\t\t\ttestRun.truePositiveSpikeResults = testRun.truePositiveSpikeResults + 1\t\n",
      "\t\t\t\t\t\tprint 'TP found\\t','self.testSpikeIntervalCounter-1\\t',timeAndRefrac.spikeIntervalCounter-1,'neuronIndex\\t',neuronIndex\n",
      "\t\t\t\t\telse:\n",
      "\t\t\t\t\t\ttestRun.falsePositiveSpikeResults = testRun.falsePositiveSpikeResults + 1\t\n",
      "\t\t\t\telif (ADDSObj.UmSpikeFired[neuronIndex] == 0*mV):\n",
      "\t\t\t\t\tif (testRun.correctSpikes[neuronIndex][(timeAndRefrac.spikeIntervalCounter-1)] == 1):\n",
      "\t\t\t\t\t\ttestRun.falseNegativeSpikeResults = testRun.falseNegativeSpikeResults + 1\t\t\n",
      "\t\t\t\t\telse:\n",
      "\t\t\t\t\t\ttestRun.trueNegativeSpikeResults = testRun.trueNegativeSpikeResults + 1\t\n",
      "\t\tfor neuronIndex in range(dictionaryLongitude):\t\t\t\t\t\t\t\t\t\t\t\n",
      "\t\t\tADDSObj.UmSpikeFired[neuronIndex] = 0*mV\n",
      "\n",
      "\treturn ADDSObj.UmSpikeFired, testRun"
     ],
     "language": "python",
     "metadata": {},
     "outputs": []
    },
    {
     "cell_type": "markdown",
     "metadata": {},
     "source": [
      "<a id='evaluateClassifierPerf2'></a><div style='font-size:1.7em;text-decoration:underline;font-weight:bold'>evaluateClassifierPerf2</div>"
     ]
    },
    {
     "cell_type": "code",
     "collapsed": false,
     "input": [
      "def evaluateClassifierPerf2(ADDSObj, testRun):\n",
      "\t# Negative results below are only set to be measured after a full spike interval has passed and had the opportunity to have created a spike\n",
      "\t# Only evaluate results for enough epochs to test each char in input (3 spike interv per char * 4 char = 12 spike intervals total)\n",
      "\t# the +1 in (totalSpikeIntervals+1) is to allow a last refractoryPointSwitch triggered negative spike evaluation to occur.\n",
      "\t# * A change was made to the scoring to not count the 0.0-0.1 second period because the input spike generator does not start until .1\n",
      "\t# seconds and the first occurences of output spikes should be monitored looking at .2 seconds to see if any occured in seconds .1-.2 .\t\n",
      "\n",
      "\t# Only assign neuron to first window it fires in\n",
      "\t# multiple neurons firing in the same window is not accounted for\n",
      "\t# TODO: properly constrict testing windows for scoring using testingSpikeWindows\n",
      "\n",
      "\tcurrentSpikeIntervalTime = timeAndRefrac.spikeIntervalCounter\n",
      "\tneuronsWithoutSpikes = 0\n",
      "\tcurrentWindow = math.floor(Decimal(format((currentSpikeIntervalTime-2), '.1f'))/Decimal(format(testingSpikesPerChar, '.1f')))\n",
      "\n",
      "\tif timeAndRefrac.refractoryPointSwitch == True:\n",
      "\t\tif (currentSpikeIntervalTime >= 2) and (currentSpikeIntervalTime <= (totalSpikeIntervals+1)):\n",
      "\t\t\tfor neuronIndex in range(dictionaryLongitude):\t\t\t\t\n",
      "\t\t\t\tif (ADDSObj.UmSpikeFired[neuronIndex] == 1*mV):\n",
      "\t\t\t\t\tif (testRun.firedSpikes[currentSpikeIntervalTime]) == None:\n",
      "\t\t\t\t\t\ttestRun.firedSpikes[currentSpikeIntervalTime] = np.array([neuronIndex])\n",
      "\t\t\t\t\telse:\n",
      "\t\t\t\t\t\tfiredSpikes2 = []\n",
      "\t\t\t\t\t\tfor elemIndex in range(len(testRun.firedSpikes)): \n",
      "\t\t\t\t\t\t\tif elemIndex == currentSpikeIntervalTime: \n",
      "\t\t\t\t\t\t\t\tnewElem = testRun.firedSpikes[elemIndex].tolist()\n",
      "\t\t\t\t\t\t\t\tnewElem.append([neuronIndex])\n",
      "\t\t\t\t\t\t\t\tfiredSpikes2.append(np.array(newElem))\n",
      "\t\t\t\t\t\t\telse: \n",
      "\t\t\t\t\t\t\t\tfiredSpikes2.append(testRun.firedSpikes[elemIndex])\n",
      "\t\t\t\t\t\ttestRun.firedSpikes = np.array(firedSpikes2)\n",
      "\n",
      "\t\t\t\t\tneuronAssignedToWindow = False\n",
      "\t\t\t\t\tfor neuronWindowAssignment in testRun.assignedSpikeWindows:\n",
      "\t\t\t\t\t\tif neuronWindowAssignment == currentWindow:\n",
      "\t\t\t\t\t\t\tneuronAssignedToWindow = True\n",
      "\n",
      "\t\t\t\t\tif neuronAssignedToWindow == False and testRun.assignedSpikeWindows[neuronIndex] == None:\n",
      "\t\t\t\t\t\ttestRun.assignedSpikeWindows[neuronIndex] = currentWindow\n",
      "\n",
      "\t\t\t\t\tif testRun.assignedSpikeWindows[neuronIndex] == currentWindow:\n",
      "\t\t\t\t\t\ttestRun.truePositiveSpikeResults = testRun.truePositiveSpikeResults + 1\t\n",
      "\t\t\t\t\t\t#print 'TP found\\t','self.testSpikeIntervalCounter-1\\t',timeAndRefrac.spikeIntervalCounter-1,'neuronIndex\\t',neuronIndex\n",
      "\t\t\t\t\telse:\n",
      "\t\t\t\t\t\ttestRun.falsePositiveSpikeResults = testRun.falsePositiveSpikeResults + 1\n",
      "\t\t\t\telif (ADDSObj.UmSpikeFired[neuronIndex] == 0*mV):\n",
      "\t\t\t\t\ttestRun.trueNegativeSpikeResults = testRun.trueNegativeSpikeResults + 1\n",
      "\t\t\t\t\tneuronsWithoutSpikes += 1\n",
      "\n",
      "\t\t\t\tif neuronsWithoutSpikes == dictionaryLongitude:\n",
      "\t\t\t\t\ttestRun.trueNegativeSpikeResults = testRun.trueNegativeSpikeResults - 1\n",
      "\t\t\tcorrectNeuronFound = False\n",
      "\t\t\t#print 'ADDSObj.t',ADDSObj.t,'testRun.firedSpikes', testRun.firedSpikes\n",
      "\t\t\tfor spikedNeurons in testRun.firedSpikes:\n",
      "\t\t\t\tif len(spikedNeurons) > 1 or spikedNeurons != [None]:\n",
      "\t\t\t\t\tfor spikedNeuronNumber in spikedNeurons:\n",
      "\t\t\t\t\t\tif spikedNeuronNumber != None and currentWindow == testRun.assignedSpikeWindows[spikedNeuronNumber]:\n",
      "\t\t\t\t\t\t\tcorrectNeuronFound = True\n",
      "\t\t\tif correctNeuronFound == False:\n",
      "\t\t\t\ttestRun.falseNegativeSpikeResults = testRun.falseNegativeSpikeResults + 1\n",
      "\t\tfor neuronIndex in range(dictionaryLongitude):\t\t\t\t\t\t\t\t\t\t\t\n",
      "\t\t\tADDSObj.UmSpikeFired[neuronIndex] = 0*mV\n",
      "\n",
      "\treturn ADDSObj.UmSpikeFired, testRun\t"
     ],
     "language": "python",
     "metadata": {},
     "outputs": []
    },
    {
     "cell_type": "markdown",
     "metadata": {},
     "source": [
      "<a id='OutputEvaluationResults'></a><div style='font-size:1.7em;text-decoration:underline;font-weight:bold'>OutputEvaluationResults</div>"
     ]
    },
    {
     "cell_type": "code",
     "collapsed": false,
     "input": [
      "def OutputEvaluationResults(dendObj, testRun):\n",
      "\tprint 'Final Weights\\n'\n",
      "\tfor printIndex in range(dictionaryLongitude):\n",
      "\t\tprint dendObj[printIndex].w[:]/volt\n",
      "\tprint 'Final Tau\\n'\n",
      "\tfor printIndex in range(dictionaryLongitude):\n",
      "\t\tprint dendObj[printIndex].tau[:]/ms\n",
      "\tprint 'Final Res\\n'\n",
      "\tfor printIndex in range(dictionaryLongitude):\n",
      "\t\tprint dendObj[printIndex].r[:]/mV\t\t\n",
      "\tprint '\\n'\n",
      "\tprint 'testRun.firedSpikes\\t',testRun.firedSpikes\n",
      "\tprint 'testRun.assignedSpikeWindows\\t',testRun.assignedSpikeWindows\n",
      "\tprint '\\n'\t\n",
      "\tprint '+++ Results +++'\n",
      "\tprint 'Spike results: TP:\\t',testRun.truePositiveSpikeResults,'\\tFP:\\t',testRun.falsePositiveSpikeResults,'\\tTN:\\t',testRun.trueNegativeSpikeResults,'\\tFN:\\t',testRun.falseNegativeSpikeResults\n",
      "\tprint 'totalSpikeIntervalsTested:\\t',totalSpikeIntervals,'\\ttotalCharsPresented:\\t',dictionaryLongitude\n",
      "\tprint 'True positives correct percentage (TP/totalSpikeIntervalsTested):\\t',Decimal(format(testRun.truePositiveSpikeResults, '.1f'))/Decimal(format(totalSpikeIntervals, '.1f')),'\\t(this is the percentage of all true positves that were found)'\n",
      "\tprint 'Total correct percentage (TP+TN/(totalSpikeIntervals*totalCharsPresented)):\\t',(Decimal(format(testRun.truePositiveSpikeResults, '.1f'))+Decimal(format(testRun.trueNegativeSpikeResults, '.1f')))/(Decimal(format(totalSpikeIntervals, '.1f'))*Decimal(format(dictionaryLongitude, '.1f')))\n",
      "\tprint '+++++++++++++++'\t"
     ],
     "language": "python",
     "metadata": {},
     "outputs": []
    },
    {
     "cell_type": "markdown",
     "metadata": {},
     "source": [
      "<a id='printWeights'></a><div style='font-size:1.7em;text-decoration:underline;font-weight:bold'>printWeights</div>"
     ]
    },
    {
     "cell_type": "code",
     "collapsed": false,
     "input": [
      "def printWeights(dendObj):\n",
      "\tprint 'Current Weights\\n'\n",
      "\tfor printIndex in range(dictionaryLongitude):\n",
      "\t\tprint dendObj[printIndex].w[:]/volt\t"
     ],
     "language": "python",
     "metadata": {},
     "outputs": []
    }
   ],
   "metadata": {}
  }
 ]
}