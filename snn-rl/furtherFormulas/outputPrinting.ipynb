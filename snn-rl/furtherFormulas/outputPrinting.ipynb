{
 "metadata": {},
 "nbformat": 3,
 "nbformat_minor": 0,
 "worksheets": [
  {
   "cells": [
    {
     "cell_type": "markdown",
     "metadata": {},
     "source": [
      "<a id='printOutputForTesting'></a><div style='font-size:1.7em;text-decoration:underline;font-weight:bold'>printOutputForTesting</div>"
     ]
    },
    {
     "cell_type": "code",
     "collapsed": false,
     "input": [
      "def printOutputForTesting(neuronIndex, timeAndRefrac, dendObj):\n",
      "\tprint 'neuronIndex',neuronIndex,'time',timeAndRefrac.time\n",
      "\tprint 'dendObj.dirac',dendObj[0].dirac,dendObj[1].dirac,dendObj[2].dirac,dendObj[3].dirac\n",
      "\tprint 'dendObj.v',dendObj[0].v,dendObj[1].v,dendObj[2].v,dendObj[3].v\n",
      "\tprint 'sum(dendObj[neuronIndex].v[:])',sum(dendObj[neuronIndex].v[:])\n",
      "\tprint 'Prelim Weights\\n0',dendObj[0].w[:]\n",
      "\tprint '1',dendObj[1].w[:]\n",
      "\tprint '2',dendObj[2].w[:]\n",
      "\tprint '3',dendObj[3].w[:]\n",
      "\tprint 'Prelim Tau\\n0',dendObj[0].tau[:]\n",
      "\tprint '1',dendObj[1].tau[:]\n",
      "\tprint '2',dendObj[2].tau[:]\n",
      "\tprint '3',dendObj[3].tau[:]\t\t\t\t\t\n",
      "\tprint 'Prelim Res\\n0',dendObj[0].r[:]\n",
      "\tprint '1',dendObj[1].r[:]\n",
      "\tprint '2',dendObj[2].r[:]\n",
      "\tprint '3',dendObj[3].r[:]\t\t\t"
     ],
     "language": "python",
     "metadata": {},
     "outputs": []
    },
    {
     "cell_type": "markdown",
     "metadata": {},
     "source": [
      "<a id='sortVersionOutForTesting'></a><div style='font-size:1.7em;text-decoration:underline;font-weight:bold'>sortVersionOutForTesting</div>"
     ]
    },
    {
     "cell_type": "code",
     "collapsed": false,
     "input": [
      "def sortVersionOutForTesting(neuronIndex, timeAndRefrac, ADDSObj, dendObj):\n",
      "\tprint 'ADDSObj.v','time',timeAndRefrac.time,ADDSObj.v[0],ADDSObj.v[1],ADDSObj.v[2],ADDSObj.v[3]\n",
      "\tprint 'sum(ADDSObj.DendI)',(ADDSObj.DendI[0]),(ADDSObj.DendI[1]),(ADDSObj.DendI[2]),(ADDSObj.DendI[3])\n",
      "\tprint 'sum(ADDSObj.SynI)',sum(ADDSObj.SynI[0]),sum(ADDSObj.SynI[1]),sum(ADDSObj.SynI[2]),sum(ADDSObj.SynI[3])\t\t\t\t\t\t"
     ],
     "language": "python",
     "metadata": {},
     "outputs": []
    },
    {
     "cell_type": "markdown",
     "metadata": {},
     "source": [
      "<a id='printEvalOutputForTesting'></a><div style='font-size:1.7em;text-decoration:underline;font-weight:bold'>printEvalOutputForTesting</div>"
     ]
    },
    {
     "cell_type": "code",
     "collapsed": false,
     "input": [
      "def printEvalOutputForTesting(neuronIndex, timeAndRefrac, ADDSObj, dendObj):\n",
      "\t'''print 'dendObj.dirac','time',timeAndRefrac.time,'\\t',dendObj[0].dirac,dendObj[1].dirac,dendObj[2].dirac,dendObj[3].dirac\n",
      "\tprint 'dendObj.v',dendObj[0].v,dendObj[1].v,dendObj[2].v,dendObj[3].v\n",
      "\tprint 'sum(dendObj[neuronIndex])',sum(dendObj[0].v[:]),sum(dendObj[1].v[:]),sum(dendObj[2].v[:]),sum(dendObj[3].v[:])\t\t\t\t\t\t\t\n",
      "\tprint 'testSomaDirect.v',testSomaDirect.v[0],testSomaDirect.v[1],testSomaDirect.v[2],testSomaDirect.v[3]\n",
      "\tprint 'sum(testSomaDirect[neuronIndex])',sum(testSomaDirect.v[0]),sum(testSomaDirect.v[1]),sum(testSomaDirect.v[2]),sum(testSomaDirect.v[3])\t\t\t\t\t\t\t\n",
      "\tprint 'testSomaDirect.summedWandDirac',testSomaDirect.summedWandDirac[0],testSomaDirect.summedWandDirac[1],testSomaDirect.summedWandDirac[2],testSomaDirect.summedWandDirac[3]\t\t\t\t\t'''\n",
      "\tprint 'ADDSObj.v',ADDSObj.v[0],ADDSObj.v[1],ADDSObj.v[2],ADDSObj.v[3]\n",
      "\tprint 'dendObj.dirac','time',timeAndRefrac.time,'\\t',dendObj[0].dirac,dendObj[1].dirac,dendObj[2].dirac,dendObj[3].dirac\n",
      "\tprint 'dendObj.v',dendObj[0].v,dendObj[1].v,dendObj[2].v,dendObj[3].v\n",
      "\tprint 'v',dendObj[0].v,'\\t',dendObj[1].v\n",
      "\tprint 'r',dendObj[0].r,'\\t',dendObj[1].r\n",
      "\tprint 'w',' time',timeAndRefrac.time,'\\t',dendObj[0].w,'\\t',dendObj[1].w,'\\t',dendObj[2].w,'\\t',dendObj[3].w\n",
      "\tprint 'dirac',dendObj[0].dirac,'t',dendObj[1].dirac\n",
      "\tprint 'tau',dendObj[0].tau,'t',dendObj[1].tau\n",
      "\tprint 'units',(-dendObj[1].v[0]/mV),((dendObj[1].r[0])/volt),((dendObj[1].w[0])/volt),(dendObj[1].dirac[0]/volt),(dendObj[1].tau[0]/second)\n",
      "\tdendObj[1].vTest[0] = (((-dendObj[1].v[0]/mV)+(((dendObj[1].r[0])/volt)*((dendObj[1].w[0])/volt)*(dendObj[1].dirac[0]/volt)))/(dendObj[1].tau[0]/second))*volt#((-dendObj[1].v[0]/volt)+((dendObj[1].r[0])/volt))/(dendObj[1].tau[0]/ms)*volt\n",
      "\tdendObj[1].vTest2[0] = -dendObj[1].v[0]\n",
      "\tdendObj[1].vTest3[0] = ((dendObj[1].r[0]/volt)*(dendObj[1].w[0]/volt)*(dendObj[1].dirac[0]))/(dendObj[1].tau[0]/second)\n",
      "\tprint 'vTest',dendObj[1].vTest[0]\n",
      "\tprint 'vTest2',dendObj[2].vTest2[0],dendObj[1].v[0],dendObj[1].v[1],dendObj[1].v[2],dendObj[1].v[3],dendObj[1].v[4]\n",
      "\tprint 'vTest3',dendObj[3].vTest3[0]\n",
      "\t#print 'rs equ',(-dendObj[0].v+((dendObj[0].r)*(dendObj[0].w)*dendObj[0].dirac)/(dendObj[0].tau)),'\\t',(-dendObj[1].v+((dendObj[1].r)*(dendObj[1].w)*dendObj[1].dirac)/(dendObj[1].tau))\n",
      "\tprint 'sum(ADDSObj.DendI)',(ADDSObj.DendI[0]),(ADDSObj.DendI[1]),(ADDSObj.DendI[2]),(ADDSObj.DendI[3])\n",
      "\tprint 'sum(ADDSObj.SynI)',sum(ADDSObj.SynI[0]),sum(ADDSObj.SynI[1]),sum(ADDSObj.SynI[2]),sum(ADDSObj.SynI[3])\n",
      "\tprint 'ADDSObj.UmSpikeFired',ADDSObj.UmSpikeFired[0],ADDSObj.UmSpikeFired[1],ADDSObj.UmSpikeFired[2],ADDSObj.UmSpikeFired[3]\n",
      "\t#print 'Prelim Weights\\n0',dendObj[0].w[:]\n",
      "\t#print '1',dendObj[1].w[:]\n",
      "\t#print '2',dendObj[2].w[:]\n",
      "\t#print '3',dendObj[3].w[:]\n",
      "\t#print 'Prelim Tau\\n0',dendObj[0].tau[:]\n",
      "\t#print '1',dendObj[1].tau[:]\n",
      "\t#print '2',dendObj[2].tau[:]\n",
      "\t#print '3',dendObj[3].tau[:]\n",
      "\t#print 'Prelim Res\\n0',dendObj[0].r[:]\n",
      "\t#print '1',dendObj[1].r[:]\n",
      "\t#print '2',dendObj[2].r[:]\n",
      "\t#print '3',dendObj[3].r[:]\n",
      "\tprint '____________________'\t"
     ],
     "language": "python",
     "metadata": {},
     "outputs": []
    }
   ],
   "metadata": {}
  }
 ]
}